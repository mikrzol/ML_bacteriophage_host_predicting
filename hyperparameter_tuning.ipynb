{
 "cells": [
  {
   "cell_type": "markdown",
   "metadata": {},
   "source": [
    "# Basic imports"
   ]
  },
  {
   "cell_type": "code",
   "execution_count": 1,
   "metadata": {},
   "outputs": [],
   "source": [
    "import numpy as np\n",
    "import pandas as pd\n",
    "import matplotlib.pyplot as plt"
   ]
  },
  {
   "cell_type": "code",
   "execution_count": 2,
   "metadata": {},
   "outputs": [],
   "source": [
    "import master_functions as mf"
   ]
  },
  {
   "cell_type": "code",
   "execution_count": 3,
   "metadata": {},
   "outputs": [],
   "source": [
    "df = pd.read_pickle('main_df.pkl')\n",
    "learning_df = pd.read_csv('test/dfs&results/learning_df.tsv', sep='\\t')\n",
    "X_learning = learning_df.drop(['virus', 'host', 'group', 'group_code', 'y'], axis=1)\n",
    "y_learning = learning_df['y'].to_numpy()\n",
    "groups = learning_df['group_code'].to_numpy()"
   ]
  },
  {
   "cell_type": "code",
   "execution_count": 3,
   "metadata": {},
   "outputs": [],
   "source": [
    "from joblib import load\n",
    "res = load('test/dfs&results/results_small.joblib')"
   ]
  },
  {
   "cell_type": "markdown",
   "metadata": {},
   "source": [
    "# GridSearchCV"
   ]
  },
  {
   "cell_type": "markdown",
   "metadata": {},
   "source": [
    "## Random Forest"
   ]
  },
  {
   "cell_type": "markdown",
   "metadata": {},
   "source": [
    "Define params"
   ]
  },
  {
   "cell_type": "code",
   "execution_count": 10,
   "metadata": {},
   "outputs": [],
   "source": [
    "from sklearn.ensemble import RandomForestClassifier\n",
    "from sklearn.model_selection import LeaveOneGroupOut\n",
    "from sklearn.model_selection import GridSearchCV\n",
    "\n",
    "rfc = RandomForestClassifier(n_estimators=200, criterion='entropy', random_state=1)\n",
    "params = {\n",
    "    'max_depth':[2, 4, 6, 8, 10], \n",
    "}\n",
    "logo = LeaveOneGroupOut()\n"
   ]
  },
  {
   "cell_type": "markdown",
   "metadata": {},
   "source": [
    "Perform GridSearch"
   ]
  },
  {
   "cell_type": "code",
   "execution_count": 11,
   "metadata": {},
   "outputs": [
    {
     "name": "stdout",
     "output_type": "stream",
     "text": [
      "Fitting 48 folds for each of 5 candidates, totalling 240 fits\n"
     ]
    },
    {
     "data": {
      "text/plain": [
       "GridSearchCV(cv=LeaveOneGroupOut(),\n",
       "             estimator=RandomForestClassifier(criterion='entropy',\n",
       "                                              n_estimators=200,\n",
       "                                              random_state=1),\n",
       "             n_jobs=-1, param_grid={'max_depth': [2, 4, 6, 8, 10]},\n",
       "             scoring='f1', verbose=3)"
      ]
     },
     "execution_count": 11,
     "metadata": {},
     "output_type": "execute_result"
    }
   ],
   "source": [
    "clf_rfc = GridSearchCV(rfc, params, cv=logo, scoring='f1', n_jobs=-1, verbose=3)\n",
    "clf_rfc.fit(X_learning, y_learning, groups=groups)"
   ]
  },
  {
   "cell_type": "code",
   "execution_count": 13,
   "metadata": {},
   "outputs": [
    {
     "data": {
      "text/plain": [
       "RandomForestClassifier(criterion='entropy', max_depth=4, n_estimators=200,\n",
       "                       random_state=1)"
      ]
     },
     "execution_count": 13,
     "metadata": {},
     "output_type": "execute_result"
    }
   ],
   "source": [
    "clf_rfc.best_estimator_"
   ]
  },
  {
   "cell_type": "code",
   "execution_count": 12,
   "metadata": {},
   "outputs": [
    {
     "data": {
      "text/plain": [
       "0.6333485954709469"
      ]
     },
     "execution_count": 12,
     "metadata": {},
     "output_type": "execute_result"
    }
   ],
   "source": [
    "clf_rfc.best_score_"
   ]
  },
  {
   "cell_type": "markdown",
   "metadata": {},
   "source": [
    "Save the results to file"
   ]
  },
  {
   "cell_type": "code",
   "execution_count": null,
   "metadata": {},
   "outputs": [
    {
     "data": {
      "text/plain": [
       "['test/clf.joblib']"
      ]
     },
     "metadata": {},
     "output_type": "display_data"
    }
   ],
   "source": [
    "'''\n",
    "from joblib import dump\n",
    "dump(clf_rfc, 'test/dfs&results/clf_rfc.joblib')\n",
    "'''"
   ]
  },
  {
   "cell_type": "markdown",
   "metadata": {},
   "source": [
    "## Logistic Regression"
   ]
  },
  {
   "cell_type": "markdown",
   "metadata": {},
   "source": [
    "Define params"
   ]
  },
  {
   "cell_type": "code",
   "execution_count": 7,
   "metadata": {},
   "outputs": [],
   "source": [
    "from sklearn.model_selection import GridSearchCV\n",
    "from sklearn.model_selection import LeaveOneGroupOut\n",
    "from sklearn.linear_model import LogisticRegression\n",
    "\n",
    "logo = LeaveOneGroupOut()\n",
    "params = {'penalty': ['none', 'l1', 'l2', 'elasticnet'],\n",
    "            'C': [0.001, 0.005, 0.01, 0.05, 0.1, 0.5, 1, 5],\n",
    "            'class_weight': [{0:1, 1:1}, {0:1, 1:1.5}, {0:1, 1:2}],\n",
    "            'solver': ['newton-cg', 'lbfgs', 'liblinear', 'sag', 'saga']}\n",
    "\n",
    "lrc = LogisticRegression()"
   ]
  },
  {
   "cell_type": "code",
   "execution_count": 9,
   "metadata": {},
   "outputs": [
    {
     "name": "stdout",
     "output_type": "stream",
     "text": [
      "Fitting 48 folds for each of 480 candidates, totalling 23040 fits\n"
     ]
    },
    {
     "name": "stderr",
     "output_type": "stream",
     "text": [
      "C:\\Users\\misia\\AppData\\Local\\Programs\\Python\\Python310\\lib\\site-packages\\sklearn\\model_selection\\_validation.py:372: FitFailedWarning: \n",
      "10368 fits failed out of a total of 23040.\n",
      "The score on these train-test partitions for these parameters will be set to nan.\n",
      "If these failures are not expected, you can try to debug them by setting error_score='raise'.\n",
      "\n",
      "Below are more details about the failures:\n",
      "--------------------------------------------------------------------------------\n",
      "1152 fits failed with the following error:\n",
      "Traceback (most recent call last):\n",
      "  File \"C:\\Users\\misia\\AppData\\Local\\Programs\\Python\\Python310\\lib\\site-packages\\sklearn\\model_selection\\_validation.py\", line 680, in _fit_and_score\n",
      "    estimator.fit(X_train, y_train, **fit_params)\n",
      "  File \"C:\\Users\\misia\\AppData\\Local\\Programs\\Python\\Python310\\lib\\site-packages\\sklearn\\linear_model\\_logistic.py\", line 1461, in fit\n",
      "    solver = _check_solver(self.solver, self.penalty, self.dual)\n",
      "  File \"C:\\Users\\misia\\AppData\\Local\\Programs\\Python\\Python310\\lib\\site-packages\\sklearn\\linear_model\\_logistic.py\", line 464, in _check_solver\n",
      "    raise ValueError(\"penalty='none' is not supported for the liblinear solver\")\n",
      "ValueError: penalty='none' is not supported for the liblinear solver\n",
      "\n",
      "--------------------------------------------------------------------------------\n",
      "1152 fits failed with the following error:\n",
      "Traceback (most recent call last):\n",
      "  File \"C:\\Users\\misia\\AppData\\Local\\Programs\\Python\\Python310\\lib\\site-packages\\sklearn\\model_selection\\_validation.py\", line 680, in _fit_and_score\n",
      "    estimator.fit(X_train, y_train, **fit_params)\n",
      "  File \"C:\\Users\\misia\\AppData\\Local\\Programs\\Python\\Python310\\lib\\site-packages\\sklearn\\linear_model\\_logistic.py\", line 1461, in fit\n",
      "    solver = _check_solver(self.solver, self.penalty, self.dual)\n",
      "  File \"C:\\Users\\misia\\AppData\\Local\\Programs\\Python\\Python310\\lib\\site-packages\\sklearn\\linear_model\\_logistic.py\", line 447, in _check_solver\n",
      "    raise ValueError(\n",
      "ValueError: Solver newton-cg supports only 'l2' or 'none' penalties, got l1 penalty.\n",
      "\n",
      "--------------------------------------------------------------------------------\n",
      "1152 fits failed with the following error:\n",
      "Traceback (most recent call last):\n",
      "  File \"C:\\Users\\misia\\AppData\\Local\\Programs\\Python\\Python310\\lib\\site-packages\\sklearn\\model_selection\\_validation.py\", line 680, in _fit_and_score\n",
      "    estimator.fit(X_train, y_train, **fit_params)\n",
      "  File \"C:\\Users\\misia\\AppData\\Local\\Programs\\Python\\Python310\\lib\\site-packages\\sklearn\\linear_model\\_logistic.py\", line 1461, in fit\n",
      "    solver = _check_solver(self.solver, self.penalty, self.dual)\n",
      "  File \"C:\\Users\\misia\\AppData\\Local\\Programs\\Python\\Python310\\lib\\site-packages\\sklearn\\linear_model\\_logistic.py\", line 447, in _check_solver\n",
      "    raise ValueError(\n",
      "ValueError: Solver lbfgs supports only 'l2' or 'none' penalties, got l1 penalty.\n",
      "\n",
      "--------------------------------------------------------------------------------\n",
      "1152 fits failed with the following error:\n",
      "Traceback (most recent call last):\n",
      "  File \"C:\\Users\\misia\\AppData\\Local\\Programs\\Python\\Python310\\lib\\site-packages\\sklearn\\model_selection\\_validation.py\", line 680, in _fit_and_score\n",
      "    estimator.fit(X_train, y_train, **fit_params)\n",
      "  File \"C:\\Users\\misia\\AppData\\Local\\Programs\\Python\\Python310\\lib\\site-packages\\sklearn\\linear_model\\_logistic.py\", line 1461, in fit\n",
      "    solver = _check_solver(self.solver, self.penalty, self.dual)\n",
      "  File \"C:\\Users\\misia\\AppData\\Local\\Programs\\Python\\Python310\\lib\\site-packages\\sklearn\\linear_model\\_logistic.py\", line 447, in _check_solver\n",
      "    raise ValueError(\n",
      "ValueError: Solver sag supports only 'l2' or 'none' penalties, got l1 penalty.\n",
      "\n",
      "--------------------------------------------------------------------------------\n",
      "1152 fits failed with the following error:\n",
      "Traceback (most recent call last):\n",
      "  File \"C:\\Users\\misia\\AppData\\Local\\Programs\\Python\\Python310\\lib\\site-packages\\sklearn\\model_selection\\_validation.py\", line 680, in _fit_and_score\n",
      "    estimator.fit(X_train, y_train, **fit_params)\n",
      "  File \"C:\\Users\\misia\\AppData\\Local\\Programs\\Python\\Python310\\lib\\site-packages\\sklearn\\linear_model\\_logistic.py\", line 1461, in fit\n",
      "    solver = _check_solver(self.solver, self.penalty, self.dual)\n",
      "  File \"C:\\Users\\misia\\AppData\\Local\\Programs\\Python\\Python310\\lib\\site-packages\\sklearn\\linear_model\\_logistic.py\", line 447, in _check_solver\n",
      "    raise ValueError(\n",
      "ValueError: Solver newton-cg supports only 'l2' or 'none' penalties, got elasticnet penalty.\n",
      "\n",
      "--------------------------------------------------------------------------------\n",
      "1152 fits failed with the following error:\n",
      "Traceback (most recent call last):\n",
      "  File \"C:\\Users\\misia\\AppData\\Local\\Programs\\Python\\Python310\\lib\\site-packages\\sklearn\\model_selection\\_validation.py\", line 680, in _fit_and_score\n",
      "    estimator.fit(X_train, y_train, **fit_params)\n",
      "  File \"C:\\Users\\misia\\AppData\\Local\\Programs\\Python\\Python310\\lib\\site-packages\\sklearn\\linear_model\\_logistic.py\", line 1461, in fit\n",
      "    solver = _check_solver(self.solver, self.penalty, self.dual)\n",
      "  File \"C:\\Users\\misia\\AppData\\Local\\Programs\\Python\\Python310\\lib\\site-packages\\sklearn\\linear_model\\_logistic.py\", line 447, in _check_solver\n",
      "    raise ValueError(\n",
      "ValueError: Solver lbfgs supports only 'l2' or 'none' penalties, got elasticnet penalty.\n",
      "\n",
      "--------------------------------------------------------------------------------\n",
      "1152 fits failed with the following error:\n",
      "Traceback (most recent call last):\n",
      "  File \"C:\\Users\\misia\\AppData\\Local\\Programs\\Python\\Python310\\lib\\site-packages\\sklearn\\model_selection\\_validation.py\", line 680, in _fit_and_score\n",
      "    estimator.fit(X_train, y_train, **fit_params)\n",
      "  File \"C:\\Users\\misia\\AppData\\Local\\Programs\\Python\\Python310\\lib\\site-packages\\sklearn\\linear_model\\_logistic.py\", line 1461, in fit\n",
      "    solver = _check_solver(self.solver, self.penalty, self.dual)\n",
      "  File \"C:\\Users\\misia\\AppData\\Local\\Programs\\Python\\Python310\\lib\\site-packages\\sklearn\\linear_model\\_logistic.py\", line 457, in _check_solver\n",
      "    raise ValueError(\n",
      "ValueError: Only 'saga' solver supports elasticnet penalty, got solver=liblinear.\n",
      "\n",
      "--------------------------------------------------------------------------------\n",
      "1152 fits failed with the following error:\n",
      "Traceback (most recent call last):\n",
      "  File \"C:\\Users\\misia\\AppData\\Local\\Programs\\Python\\Python310\\lib\\site-packages\\sklearn\\model_selection\\_validation.py\", line 680, in _fit_and_score\n",
      "    estimator.fit(X_train, y_train, **fit_params)\n",
      "  File \"C:\\Users\\misia\\AppData\\Local\\Programs\\Python\\Python310\\lib\\site-packages\\sklearn\\linear_model\\_logistic.py\", line 1461, in fit\n",
      "    solver = _check_solver(self.solver, self.penalty, self.dual)\n",
      "  File \"C:\\Users\\misia\\AppData\\Local\\Programs\\Python\\Python310\\lib\\site-packages\\sklearn\\linear_model\\_logistic.py\", line 447, in _check_solver\n",
      "    raise ValueError(\n",
      "ValueError: Solver sag supports only 'l2' or 'none' penalties, got elasticnet penalty.\n",
      "\n",
      "--------------------------------------------------------------------------------\n",
      "1152 fits failed with the following error:\n",
      "Traceback (most recent call last):\n",
      "  File \"C:\\Users\\misia\\AppData\\Local\\Programs\\Python\\Python310\\lib\\site-packages\\sklearn\\model_selection\\_validation.py\", line 680, in _fit_and_score\n",
      "    estimator.fit(X_train, y_train, **fit_params)\n",
      "  File \"C:\\Users\\misia\\AppData\\Local\\Programs\\Python\\Python310\\lib\\site-packages\\sklearn\\linear_model\\_logistic.py\", line 1471, in fit\n",
      "    raise ValueError(\n",
      "ValueError: l1_ratio must be between 0 and 1; got (l1_ratio=None)\n",
      "\n",
      "  warnings.warn(some_fits_failed_message, FitFailedWarning)\n",
      "C:\\Users\\misia\\AppData\\Local\\Programs\\Python\\Python310\\lib\\site-packages\\sklearn\\model_selection\\_search.py:969: UserWarning: One or more of the test scores are non-finite: [0.55827755 0.59126146        nan 0.57763252 0.57763252        nan\n",
      "        nan 0.52569757        nan 0.57763252 0.66470549 0.66469408\n",
      " 0.66583805 0.57763252 0.57763252        nan        nan        nan\n",
      "        nan        nan 0.5410959  0.52664249        nan 0.57763252\n",
      " 0.57763252        nan        nan 0.61506532        nan 0.57763252\n",
      " 0.59576733 0.59576733 0.59471348 0.57763252 0.57763252        nan\n",
      "        nan        nan        nan        nan 0.52792635 0.5229006\n",
      "        nan 0.56819672 0.38065704        nan        nan 0.50776254\n",
      "        nan 0.34001796 0.59564435 0.59482839 0.58386277 0.56848813\n",
      " 0.38090864        nan        nan        nan        nan        nan\n",
      " 0.55827755 0.59126146        nan 0.57763252 0.57763252        nan\n",
      "        nan 0.60387963        nan 0.57763252 0.6290702  0.62935327\n",
      " 0.66400217 0.57763252 0.57763252        nan        nan        nan\n",
      "        nan        nan 0.5410959  0.52664249        nan 0.57763252\n",
      " 0.57763252        nan        nan 0.518933          nan 0.57763252\n",
      " 0.60773901 0.60806354 0.59121781 0.57763252 0.57763252        nan\n",
      "        nan        nan        nan        nan 0.52792635 0.5229006\n",
      "        nan 0.568404   0.38075801        nan        nan 0.47836096\n",
      "        nan 0.37171064 0.54470092 0.54553461 0.58449963 0.56827046\n",
      " 0.38074912        nan        nan        nan        nan        nan\n",
      " 0.55827755 0.59126146        nan 0.57763252 0.57763252        nan\n",
      "        nan 0.53129491        nan 0.57763252 0.62364086 0.62344025\n",
      " 0.65295739 0.57763252 0.57763252        nan        nan        nan\n",
      "        nan        nan 0.5410959  0.52664249        nan 0.57763252\n",
      " 0.57763252        nan        nan 0.50853093        nan 0.57763252\n",
      " 0.59194253 0.59305588 0.59170475 0.57763252 0.57763252        nan\n",
      "        nan        nan        nan        nan 0.52792635 0.5229006\n",
      "        nan 0.56858211 0.38088158        nan        nan 0.48028158\n",
      "        nan 0.37686957 0.53732073 0.53573858 0.58472663 0.56853696\n",
      " 0.3807885         nan        nan        nan        nan        nan\n",
      " 0.55827755 0.59126146        nan 0.57763252 0.57763252        nan\n",
      "        nan 0.51708795        nan 0.57763252 0.62986175 0.6285223\n",
      " 0.65277793 0.57763252 0.57763252        nan        nan        nan\n",
      "        nan        nan 0.5410959  0.52664249        nan 0.57763252\n",
      " 0.57763252        nan        nan 0.48870907        nan 0.57763252\n",
      " 0.55843179 0.55901992 0.59754334 0.57763252 0.57763252        nan\n",
      "        nan        nan        nan        nan 0.52792635 0.5229006\n",
      "        nan 0.56838798 0.38088262        nan        nan 0.47036489\n",
      "        nan 0.38008265 0.52471454 0.52542846 0.58470697 0.5680791\n",
      " 0.38099008        nan        nan        nan        nan        nan\n",
      " 0.55827755 0.59126146        nan 0.57763252 0.57763252        nan\n",
      "        nan 0.52728613        nan 0.57763252 0.61075716 0.61195021\n",
      " 0.66289001 0.57763252 0.57763252        nan        nan        nan\n",
      "        nan        nan 0.5410959  0.52664249        nan 0.57763252\n",
      " 0.57763252        nan        nan 0.48892738        nan 0.57763252\n",
      " 0.54982816 0.5527888  0.59353872 0.57763252 0.57763252        nan\n",
      "        nan        nan        nan        nan 0.52792635 0.5229006\n",
      "        nan 0.5686857  0.38092286        nan        nan 0.46714925\n",
      "        nan 0.3807399  0.5302331  0.53057702 0.58473067 0.5683449\n",
      " 0.38094445        nan        nan        nan        nan        nan\n",
      " 0.55827755 0.59126146        nan 0.57763252 0.57763252        nan\n",
      "        nan 0.53271491        nan 0.57763252 0.60035837 0.60644073\n",
      " 0.66153933 0.57763252 0.57763252        nan        nan        nan\n",
      "        nan        nan 0.5410959  0.52664249        nan 0.57763252\n",
      " 0.57763252        nan        nan 0.49365205        nan 0.57763252\n",
      " 0.55076537 0.5522927  0.59803255 0.57763252 0.57763252        nan\n",
      "        nan        nan        nan        nan 0.52792635 0.5229006\n",
      "        nan 0.56838222 0.38091816        nan        nan 0.47353015\n",
      "        nan 0.38074311 0.52258384 0.5243959  0.58472885 0.56802143\n",
      " 0.38066714        nan        nan        nan        nan        nan\n",
      " 0.55827755 0.59126146        nan 0.57763252 0.57763252        nan\n",
      "        nan 0.53955439        nan 0.57763252 0.60132289 0.60282906\n",
      " 0.66085197 0.57763252 0.57763252        nan        nan        nan\n",
      "        nan        nan 0.5410959  0.52664249        nan 0.57763252\n",
      " 0.57763252        nan        nan 0.50163239        nan 0.57763252\n",
      " 0.5409826  0.54609282 0.59061763 0.57763252 0.57763252        nan\n",
      "        nan        nan        nan        nan 0.52792635 0.5229006\n",
      "        nan 0.56862856 0.38073956        nan        nan 0.47286739\n",
      "        nan 0.38042582 0.52323866 0.52435638 0.58470042 0.5683214\n",
      " 0.38078251        nan        nan        nan        nan        nan\n",
      " 0.55827755 0.59126146        nan 0.57763252 0.57763252        nan\n",
      "        nan 0.53861457        nan 0.57763252 0.5962683  0.60195022\n",
      " 0.65566922 0.57763252 0.57763252        nan        nan        nan\n",
      "        nan        nan 0.5410959  0.52664249        nan 0.57763252\n",
      " 0.57763252        nan        nan 0.4932736         nan 0.57763252\n",
      " 0.53306727 0.53187527 0.59645365 0.57763252 0.57763252        nan\n",
      "        nan        nan        nan        nan 0.52792635 0.5229006\n",
      "        nan 0.56835704 0.38079697        nan        nan 0.47176062\n",
      "        nan 0.3806024  0.52005171 0.51959267 0.58455847 0.56846133\n",
      " 0.3805044         nan        nan        nan        nan        nan]\n",
      "  warnings.warn(\n"
     ]
    },
    {
     "data": {
      "text/plain": [
       "GridSearchCV(cv=LeaveOneGroupOut(), estimator=LogisticRegression(), n_jobs=-1,\n",
       "             param_grid={'C': [0.001, 0.005, 0.01, 0.05, 0.1, 0.5, 1, 5],\n",
       "                         'class_weight': [{0: 1, 1: 1}, {0: 1, 1: 1.5},\n",
       "                                          {0: 1, 1: 2}],\n",
       "                         'penalty': ['none', 'l1', 'l2', 'elasticnet'],\n",
       "                         'solver': ['newton-cg', 'lbfgs', 'liblinear', 'sag',\n",
       "                                    'saga']},\n",
       "             scoring='f1', verbose=2)"
      ]
     },
     "execution_count": 9,
     "metadata": {},
     "output_type": "execute_result"
    }
   ],
   "source": [
    "clf_lrc = GridSearchCV(lrc, params, scoring='f1', cv=logo, n_jobs=-1, verbose=2)\n",
    "clf_lrc.fit(X_learning, y_learning, groups=groups)"
   ]
  },
  {
   "cell_type": "markdown",
   "metadata": {},
   "source": [
    "Perform gridsearch"
   ]
  },
  {
   "cell_type": "code",
   "execution_count": 10,
   "metadata": {},
   "outputs": [
    {
     "data": {
      "text/plain": [
       "['test/gridsearch_results/clf_lrc.joblib']"
      ]
     },
     "execution_count": 10,
     "metadata": {},
     "output_type": "execute_result"
    }
   ],
   "source": [
    "from joblib import dump\n",
    "dump(clf_lrc, 'test/gridsearch_results/clf_lrc.joblib')"
   ]
  },
  {
   "cell_type": "code",
   "execution_count": 11,
   "metadata": {},
   "outputs": [
    {
     "data": {
      "text/plain": [
       "LogisticRegression(C=0.001, class_weight={0: 1, 1: 1}, solver='liblinear')"
      ]
     },
     "execution_count": 11,
     "metadata": {},
     "output_type": "execute_result"
    }
   ],
   "source": [
    "clf_lrc.best_estimator_"
   ]
  },
  {
   "cell_type": "code",
   "execution_count": 12,
   "metadata": {},
   "outputs": [
    {
     "data": {
      "text/plain": [
       "0.6658380481998344"
      ]
     },
     "execution_count": 12,
     "metadata": {},
     "output_type": "execute_result"
    }
   ],
   "source": [
    "clf_lrc.best_score_"
   ]
  },
  {
   "cell_type": "markdown",
   "metadata": {},
   "source": [
    "## SVM"
   ]
  },
  {
   "cell_type": "markdown",
   "metadata": {},
   "source": [
    "Define params"
   ]
  },
  {
   "cell_type": "code",
   "execution_count": 27,
   "metadata": {},
   "outputs": [],
   "source": [
    "from sklearn.model_selection import GridSearchCV\n",
    "from sklearn.preprocessing import Normalizer\n",
    "from sklearn.model_selection import LeaveOneGroupOut\n",
    "from sklearn.pipeline import Pipeline\n",
    "from sklearn.svm import SVC\n",
    "\n",
    "pipe = Pipeline([\n",
    "    ('normalize', Normalizer()),\n",
    "    ('svc', SVC())])\n",
    "\n",
    "logo = LeaveOneGroupOut()\n",
    "params = {\n",
    "    'svc__C': [0.01, 0.1, 1, 10],\n",
    "    'svc__kernel': ['rbf', 'poly']\n",
    "}"
   ]
  },
  {
   "cell_type": "markdown",
   "metadata": {},
   "source": [
    "Perform gridsearch"
   ]
  },
  {
   "cell_type": "code",
   "execution_count": 4,
   "metadata": {},
   "outputs": [
    {
     "name": "stdout",
     "output_type": "stream",
     "text": [
      "Fitting 48 folds for each of 8 candidates, totalling 384 fits\n"
     ]
    },
    {
     "data": {
      "text/plain": [
       "GridSearchCV(cv=LeaveOneGroupOut(),\n",
       "             estimator=Pipeline(steps=[('normalize', Normalizer()),\n",
       "                                       ('svc', SVC())]),\n",
       "             n_jobs=-1,\n",
       "             param_grid={'svc__C': [0.01, 0.1, 1, 10],\n",
       "                         'svc__kernel': ['rbf', 'poly']},\n",
       "             scoring='f1', verbose=3)"
      ]
     },
     "execution_count": 4,
     "metadata": {},
     "output_type": "execute_result"
    }
   ],
   "source": [
    "clf_svc = GridSearchCV(pipe, params, cv=logo, scoring='f1', n_jobs=-1, verbose=3)\n",
    "clf_svc.fit(X_learning, y_learning, groups=groups)"
   ]
  },
  {
   "cell_type": "code",
   "execution_count": 18,
   "metadata": {},
   "outputs": [
    {
     "data": {
      "text/plain": [
       "Pipeline(steps=[('normalize', Normalizer()), ('svc', SVC(C=0.1))])"
      ]
     },
     "execution_count": 18,
     "metadata": {},
     "output_type": "execute_result"
    }
   ],
   "source": [
    "clf_svc.best_estimator_"
   ]
  },
  {
   "cell_type": "code",
   "execution_count": 19,
   "metadata": {},
   "outputs": [
    {
     "data": {
      "text/plain": [
       "0.5842960595426597"
      ]
     },
     "execution_count": 19,
     "metadata": {},
     "output_type": "execute_result"
    }
   ],
   "source": [
    "clf_svc.best_score_"
   ]
  },
  {
   "cell_type": "markdown",
   "metadata": {},
   "source": [
    "Save results"
   ]
  },
  {
   "cell_type": "code",
   "execution_count": 5,
   "metadata": {},
   "outputs": [
    {
     "data": {
      "text/plain": [
       "['test/svc.joblib']"
      ]
     },
     "execution_count": 5,
     "metadata": {},
     "output_type": "execute_result"
    }
   ],
   "source": [
    "'''\n",
    "from joblib import dump\n",
    "dump(clf_svc, 'test/dfs&results/clf_svc.joblib')\n",
    "'''"
   ]
  },
  {
   "cell_type": "markdown",
   "metadata": {},
   "source": [
    "## LinearSVC"
   ]
  },
  {
   "cell_type": "markdown",
   "metadata": {},
   "source": [
    "Define parameters"
   ]
  },
  {
   "cell_type": "code",
   "execution_count": 5,
   "metadata": {},
   "outputs": [],
   "source": [
    "from sklearn.model_selection import GridSearchCV\n",
    "from sklearn.preprocessing import Normalizer\n",
    "from sklearn.model_selection import LeaveOneGroupOut\n",
    "from sklearn.pipeline import Pipeline\n",
    "from sklearn.svm import LinearSVC\n",
    "\n",
    "logo = LeaveOneGroupOut()\n",
    "pipe = Pipeline([\n",
    "    ('normalize', Normalizer()),\n",
    "    ('svc', LinearSVC())\n",
    "])\n",
    "\n",
    "params = {\n",
    "    'svc__loss': ['hinge', 'squared_hinge'],\n",
    "    'svc__C': [0.01, 0.1, 1],\n",
    "    'svc__class_weight': [{0:1, 1:1},{0:1, 1:1.5}, {0:1, 1:2}]\n",
    "}"
   ]
  },
  {
   "cell_type": "markdown",
   "metadata": {},
   "source": [
    "Perform gridsearch"
   ]
  },
  {
   "cell_type": "code",
   "execution_count": 6,
   "metadata": {},
   "outputs": [
    {
     "name": "stdout",
     "output_type": "stream",
     "text": [
      "Fitting 48 folds for each of 18 candidates, totalling 864 fits\n"
     ]
    },
    {
     "data": {
      "text/plain": [
       "GridSearchCV(cv=LeaveOneGroupOut(),\n",
       "             estimator=Pipeline(steps=[('normalize', Normalizer()),\n",
       "                                       ('svc', LinearSVC())]),\n",
       "             n_jobs=-1,\n",
       "             param_grid={'svc__C': [0.01, 0.1, 1],\n",
       "                         'svc__class_weight': [{0: 1, 1: 1}, {0: 1, 1: 1.5},\n",
       "                                               {0: 1, 1: 2}],\n",
       "                         'svc__loss': ['hinge', 'squared_hinge']},\n",
       "             return_train_score=True, scoring='f1', verbose=2)"
      ]
     },
     "execution_count": 6,
     "metadata": {},
     "output_type": "execute_result"
    }
   ],
   "source": [
    "clf_lin_svc = GridSearchCV(pipe, params, cv=logo, scoring='f1', n_jobs=-1, verbose=2, return_train_score=True)\n",
    "clf_lin_svc.fit(X_learning, y_learning, groups=groups)"
   ]
  },
  {
   "cell_type": "code",
   "execution_count": 5,
   "metadata": {},
   "outputs": [
    {
     "data": {
      "text/plain": [
       "Pipeline(steps=[('normalize', Normalizer()),\n",
       "                ('svc', LinearSVC(C=0.01, class_weight={0: 1, 1: 1.5}))])"
      ]
     },
     "execution_count": 5,
     "metadata": {},
     "output_type": "execute_result"
    }
   ],
   "source": [
    "clf_lin_svc.best_estimator_"
   ]
  },
  {
   "cell_type": "code",
   "execution_count": 6,
   "metadata": {},
   "outputs": [
    {
     "data": {
      "text/plain": [
       "0.5870551697976326"
      ]
     },
     "execution_count": 6,
     "metadata": {},
     "output_type": "execute_result"
    }
   ],
   "source": [
    "clf_lin_svc.best_score_"
   ]
  },
  {
   "cell_type": "markdown",
   "metadata": {},
   "source": [
    "Save results"
   ]
  },
  {
   "cell_type": "code",
   "execution_count": 7,
   "metadata": {},
   "outputs": [
    {
     "data": {
      "text/plain": [
       "['test/gridsearch_results/clf_lin_svc.joblib']"
      ]
     },
     "execution_count": 7,
     "metadata": {},
     "output_type": "execute_result"
    }
   ],
   "source": [
    "from joblib import dump\n",
    "dump(clf_lin_svc, 'test/gridsearch_results/clf_lin_svc.joblib')"
   ]
  },
  {
   "cell_type": "markdown",
   "metadata": {},
   "source": [
    "## SGD "
   ]
  },
  {
   "cell_type": "markdown",
   "metadata": {},
   "source": [
    "Define parameters"
   ]
  },
  {
   "cell_type": "code",
   "execution_count": 8,
   "metadata": {},
   "outputs": [],
   "source": [
    "from sklearn.model_selection import GridSearchCV\n",
    "from sklearn.preprocessing import Normalizer\n",
    "from sklearn.model_selection import LeaveOneGroupOut\n",
    "from sklearn.pipeline import Pipeline\n",
    "from sklearn.linear_model import SGDClassifier\n",
    "\n",
    "logo = LeaveOneGroupOut()\n",
    "pipe = Pipeline([\n",
    "    ('normalize', Normalizer()),\n",
    "    ('sgd', SGDClassifier())\n",
    "])\n",
    "\n",
    "params = {\n",
    "    'sgd__loss': ['hinge', 'squared_hinge', 'log'],\n",
    "    'sgd__learning_rate': ['constant', 'optimal', 'adaptive'],\n",
    "    'sgd__class_weight': [{0:1, 1:1},{0:1, 1:1.5}, {0:1, 1:2}],\n",
    "    'sgd__penalty': ['l2', 'l1', 'elasticnet'],\n",
    "    'sgd__alpha': [0.0001, 0.0005, 0.001]\n",
    "}"
   ]
  },
  {
   "cell_type": "markdown",
   "metadata": {},
   "source": [
    "Perform gridsearch"
   ]
  },
  {
   "cell_type": "code",
   "execution_count": 9,
   "metadata": {},
   "outputs": [
    {
     "name": "stdout",
     "output_type": "stream",
     "text": [
      "Fitting 48 folds for each of 243 candidates, totalling 11664 fits\n"
     ]
    },
    {
     "name": "stderr",
     "output_type": "stream",
     "text": [
      "C:\\Users\\misia\\AppData\\Local\\Programs\\Python\\Python310\\lib\\site-packages\\sklearn\\model_selection\\_validation.py:372: FitFailedWarning: \n",
      "7776 fits failed out of a total of 11664.\n",
      "The score on these train-test partitions for these parameters will be set to nan.\n",
      "If these failures are not expected, you can try to debug them by setting error_score='raise'.\n",
      "\n",
      "Below are more details about the failures:\n",
      "--------------------------------------------------------------------------------\n",
      "7776 fits failed with the following error:\n",
      "Traceback (most recent call last):\n",
      "  File \"C:\\Users\\misia\\AppData\\Local\\Programs\\Python\\Python310\\lib\\site-packages\\sklearn\\model_selection\\_validation.py\", line 680, in _fit_and_score\n",
      "    estimator.fit(X_train, y_train, **fit_params)\n",
      "  File \"C:\\Users\\misia\\AppData\\Local\\Programs\\Python\\Python310\\lib\\site-packages\\sklearn\\pipeline.py\", line 394, in fit\n",
      "    self._final_estimator.fit(Xt, y, **fit_params_last_step)\n",
      "  File \"C:\\Users\\misia\\AppData\\Local\\Programs\\Python\\Python310\\lib\\site-packages\\sklearn\\linear_model\\_stochastic_gradient.py\", line 883, in fit\n",
      "    return self._fit(\n",
      "  File \"C:\\Users\\misia\\AppData\\Local\\Programs\\Python\\Python310\\lib\\site-packages\\sklearn\\linear_model\\_stochastic_gradient.py\", line 649, in _fit\n",
      "    self._validate_params()\n",
      "  File \"C:\\Users\\misia\\AppData\\Local\\Programs\\Python\\Python310\\lib\\site-packages\\sklearn\\linear_model\\_stochastic_gradient.py\", line 149, in _validate_params\n",
      "    raise ValueError(\"eta0 must be > 0\")\n",
      "ValueError: eta0 must be > 0\n",
      "\n",
      "  warnings.warn(some_fits_failed_message, FitFailedWarning)\n",
      "C:\\Users\\misia\\AppData\\Local\\Programs\\Python\\Python310\\lib\\site-packages\\sklearn\\model_selection\\_search.py:969: UserWarning: One or more of the test scores are non-finite: [       nan        nan        nan        nan        nan        nan\n",
      "        nan        nan        nan 0.58202419 0.57325551 0.58205389\n",
      " 0.46656498 0.47024652 0.45995546 0.58325891 0.57800535 0.58349651\n",
      "        nan        nan        nan        nan        nan        nan\n",
      "        nan        nan        nan        nan        nan        nan\n",
      "        nan        nan        nan        nan        nan        nan\n",
      " 0.5776692  0.56331411 0.57070709 0.4671164  0.46671997 0.46689479\n",
      " 0.56989515 0.55876025 0.56208141        nan        nan        nan\n",
      "        nan        nan        nan        nan        nan        nan\n",
      "        nan        nan        nan        nan        nan        nan\n",
      "        nan        nan        nan 0.54045822 0.54779179 0.54078337\n",
      " 0.46102564 0.45733786 0.46492671 0.56416544 0.53595054 0.55929662\n",
      "        nan        nan        nan        nan        nan        nan\n",
      "        nan        nan        nan        nan        nan        nan\n",
      "        nan        nan        nan        nan        nan        nan\n",
      " 0.58204916 0.5821877  0.58205543 0.46572918 0.45519276 0.46426601\n",
      " 0.57832398 0.59231267 0.57832601        nan        nan        nan\n",
      "        nan        nan        nan        nan        nan        nan\n",
      "        nan        nan        nan        nan        nan        nan\n",
      "        nan        nan        nan 0.58174933 0.56932445 0.58192403\n",
      " 0.45976284 0.4635497  0.45995239 0.58421234 0.5720174  0.58221936\n",
      "        nan        nan        nan        nan        nan        nan\n",
      "        nan        nan        nan        nan        nan        nan\n",
      "        nan        nan        nan        nan        nan        nan\n",
      " 0.58091951 0.53937847 0.57752855 0.46349399 0.46162584 0.45601512\n",
      " 0.56762995 0.5373046  0.57317524        nan        nan        nan\n",
      "        nan        nan        nan        nan        nan        nan\n",
      "        nan        nan        nan        nan        nan        nan\n",
      "        nan        nan        nan 0.58205139 0.58205251 0.58205027\n",
      " 0.46486753 0.45943335 0.47248265 0.57832398 0.58042316 0.57832398\n",
      "        nan        nan        nan        nan        nan        nan\n",
      "        nan        nan        nan        nan        nan        nan\n",
      "        nan        nan        nan        nan        nan        nan\n",
      " 0.58192515 0.58160974 0.58204258 0.4691702  0.46064696 0.47303612\n",
      " 0.57989912 0.5846926  0.5796444         nan        nan        nan\n",
      "        nan        nan        nan        nan        nan        nan\n",
      "        nan        nan        nan        nan        nan        nan\n",
      "        nan        nan        nan 0.58156279 0.54374718 0.58143491\n",
      " 0.45911211 0.46384309 0.46333923 0.57095655 0.55534992 0.56579097\n",
      "        nan        nan        nan        nan        nan        nan\n",
      "        nan        nan        nan]\n",
      "  warnings.warn(\n",
      "C:\\Users\\misia\\AppData\\Local\\Programs\\Python\\Python310\\lib\\site-packages\\sklearn\\model_selection\\_search.py:969: UserWarning: One or more of the train scores are non-finite: [       nan        nan        nan        nan        nan        nan\n",
      "        nan        nan        nan 0.82292707 0.84238641 0.82296762\n",
      " 0.70037132 0.72737015 0.70168189 0.82487526 0.84036604 0.82516719\n",
      "        nan        nan        nan        nan        nan        nan\n",
      "        nan        nan        nan        nan        nan        nan\n",
      "        nan        nan        nan        nan        nan        nan\n",
      " 0.82936295 0.84093331 0.83242365 0.71060021 0.73245489 0.71089097\n",
      " 0.83626747 0.83898429 0.83725822        nan        nan        nan\n",
      "        nan        nan        nan        nan        nan        nan\n",
      "        nan        nan        nan        nan        nan        nan\n",
      "        nan        nan        nan 0.83743299 0.83782879 0.83928467\n",
      " 0.71528097 0.736972   0.71617494 0.8322956  0.83729225 0.83288762\n",
      "        nan        nan        nan        nan        nan        nan\n",
      "        nan        nan        nan        nan        nan        nan\n",
      "        nan        nan        nan        nan        nan        nan\n",
      " 0.82284701 0.82293143 0.82285694 0.69727505 0.7305668  0.70252999\n",
      " 0.8238885  0.82630601 0.82390458        nan        nan        nan\n",
      "        nan        nan        nan        nan        nan        nan\n",
      "        nan        nan        nan        nan        nan        nan\n",
      "        nan        nan        nan 0.82285996 0.8439719  0.82287286\n",
      " 0.7127255  0.73666752 0.71611922 0.82511685 0.83725995 0.82509764\n",
      "        nan        nan        nan        nan        nan        nan\n",
      "        nan        nan        nan        nan        nan        nan\n",
      "        nan        nan        nan        nan        nan        nan\n",
      " 0.82400428 0.83877442 0.82470845 0.71768935 0.7456903  0.72585882\n",
      " 0.81921004 0.83499208 0.82102167        nan        nan        nan\n",
      "        nan        nan        nan        nan        nan        nan\n",
      "        nan        nan        nan        nan        nan        nan\n",
      "        nan        nan        nan 0.82286519 0.82289595 0.82285603\n",
      " 0.69082195 0.73157341 0.70086652 0.82392223 0.82504052 0.82391304\n",
      "        nan        nan        nan        nan        nan        nan\n",
      "        nan        nan        nan        nan        nan        nan\n",
      "        nan        nan        nan        nan        nan        nan\n",
      " 0.82280426 0.82332884 0.82281928 0.71341759 0.73984757 0.72242494\n",
      " 0.82501374 0.82661133 0.82529118        nan        nan        nan\n",
      "        nan        nan        nan        nan        nan        nan\n",
      "        nan        nan        nan        nan        nan        nan\n",
      "        nan        nan        nan 0.82271572 0.83643248 0.8227298\n",
      " 0.72453432 0.7473095  0.7332814  0.82106044 0.83160404 0.81936937\n",
      "        nan        nan        nan        nan        nan        nan\n",
      "        nan        nan        nan]\n",
      "  warnings.warn(\n"
     ]
    },
    {
     "data": {
      "text/plain": [
       "GridSearchCV(cv=LeaveOneGroupOut(),\n",
       "             estimator=Pipeline(steps=[('normalize', Normalizer()),\n",
       "                                       ('sgd', SGDClassifier())]),\n",
       "             n_jobs=-1,\n",
       "             param_grid={'sgd__alpha': [0.0001, 0.0005, 0.001],\n",
       "                         'sgd__class_weight': [{0: 1, 1: 1}, {0: 1, 1: 1.5},\n",
       "                                               {0: 1, 1: 2}],\n",
       "                         'sgd__learning_rate': ['constant', 'optimal',\n",
       "                                                'adaptive'],\n",
       "                         'sgd__loss': ['hinge', 'squared_hinge', 'log'],\n",
       "                         'sgd__penalty': ['l2', 'l1', 'elasticnet']},\n",
       "             return_train_score=True, scoring='f1', verbose=2)"
      ]
     },
     "execution_count": 9,
     "metadata": {},
     "output_type": "execute_result"
    }
   ],
   "source": [
    "clf_lin_sgd = GridSearchCV(pipe, params, cv=logo, scoring='f1', n_jobs=-1, verbose=2, return_train_score=True)\n",
    "clf_lin_sgd.fit(X_learning, y_learning, groups=groups)"
   ]
  },
  {
   "cell_type": "code",
   "execution_count": 10,
   "metadata": {},
   "outputs": [
    {
     "data": {
      "text/plain": [
       "Pipeline(steps=[('normalize', Normalizer()),\n",
       "                ('sgd',\n",
       "                 SGDClassifier(alpha=0.0005, class_weight={0: 1, 1: 1},\n",
       "                               loss='log', penalty='l1'))])"
      ]
     },
     "execution_count": 10,
     "metadata": {},
     "output_type": "execute_result"
    }
   ],
   "source": [
    "clf_lin_sgd.best_estimator_"
   ]
  },
  {
   "cell_type": "code",
   "execution_count": 11,
   "metadata": {},
   "outputs": [
    {
     "data": {
      "text/plain": [
       "0.5923126657913448"
      ]
     },
     "execution_count": 11,
     "metadata": {},
     "output_type": "execute_result"
    }
   ],
   "source": [
    "clf_lin_sgd.best_score_"
   ]
  },
  {
   "cell_type": "code",
   "execution_count": 12,
   "metadata": {},
   "outputs": [
    {
     "data": {
      "image/png": "[encoded data removed]",
      "text/plain": [
       "<Figure size 1440x360 with 5 Axes>"
      ]
     },
     "metadata": {
      "needs_background": "light"
     },
     "output_type": "display_data"
    }
   ],
   "source": [
    "plot_all_gridsearch_results(clf_lin_sgd)"
   ]
  },
  {
   "cell_type": "markdown",
   "metadata": {},
   "source": [
    "## KNN"
   ]
  },
  {
   "cell_type": "markdown",
   "metadata": {},
   "source": [
    "Define params"
   ]
  },
  {
   "cell_type": "code",
   "execution_count": 26,
   "metadata": {},
   "outputs": [],
   "source": [
    "from sklearn.neighbors import KNeighborsClassifier\n",
    "from sklearn.model_selection import LeaveOneGroupOut\n",
    "from sklearn.pipeline import Pipeline\n",
    "from sklearn.preprocessing import Normalizer\n",
    "\n",
    "pipe = Pipeline([\n",
    "    ('normalize', Normalizer()),\n",
    "    ('knn', KNeighborsClassifier(algorithm='kd_tree'))\n",
    "])\n",
    "\n",
    "params = {\n",
    "    'knn__leaf_size': [5, 10, 15, 20, 25, 30, 35, 40]\n",
    "}"
   ]
  },
  {
   "cell_type": "markdown",
   "metadata": {},
   "source": [
    "Perform gridsearch"
   ]
  },
  {
   "cell_type": "code",
   "execution_count": 27,
   "metadata": {},
   "outputs": [
    {
     "name": "stdout",
     "output_type": "stream",
     "text": [
      "Fitting 48 folds for each of 8 candidates, totalling 384 fits\n"
     ]
    },
    {
     "data": {
      "text/plain": [
       "GridSearchCV(cv=LeaveOneGroupOut(),\n",
       "             estimator=Pipeline(steps=[('normalize', Normalizer()),\n",
       "                                       ('knn',\n",
       "                                        KNeighborsClassifier(algorithm='kd_tree'))]),\n",
       "             n_jobs=-1,\n",
       "             param_grid={'knn__leaf_size': [5, 10, 15, 20, 25, 30, 35, 40]},\n",
       "             scoring='f1', verbose=1)"
      ]
     },
     "execution_count": 27,
     "metadata": {},
     "output_type": "execute_result"
    }
   ],
   "source": [
    "clf_knn = GridSearchCV(pipe, params, cv=logo, scoring='f1', n_jobs=-1, verbose=1)\n",
    "clf_knn.fit(X_learning, y_learning, groups=groups)"
   ]
  },
  {
   "cell_type": "code",
   "execution_count": 28,
   "metadata": {},
   "outputs": [
    {
     "data": {
      "text/plain": [
       "Pipeline(steps=[('normalize', Normalizer()),\n",
       "                ('knn',\n",
       "                 KNeighborsClassifier(algorithm='kd_tree', leaf_size=5))])"
      ]
     },
     "execution_count": 28,
     "metadata": {},
     "output_type": "execute_result"
    }
   ],
   "source": [
    "clf_knn.best_estimator_"
   ]
  },
  {
   "cell_type": "code",
   "execution_count": 29,
   "metadata": {},
   "outputs": [
    {
     "data": {
      "text/plain": [
       "0.5604762097243333"
      ]
     },
     "execution_count": 29,
     "metadata": {},
     "output_type": "execute_result"
    }
   ],
   "source": [
    "clf_knn.best_score_"
   ]
  },
  {
   "cell_type": "markdown",
   "metadata": {},
   "source": [
    "Save results"
   ]
  },
  {
   "cell_type": "code",
   "execution_count": 15,
   "metadata": {},
   "outputs": [
    {
     "data": {
      "text/plain": [
       "['test/clf_knn.joblib']"
      ]
     },
     "execution_count": 15,
     "metadata": {},
     "output_type": "execute_result"
    }
   ],
   "source": [
    "'''\n",
    "dump(clf_knn, 'test/dfs&results/clf_knn.joblib')\n",
    "'''"
   ]
  },
  {
   "cell_type": "markdown",
   "metadata": {},
   "source": [
    "## XGboost"
   ]
  },
  {
   "cell_type": "markdown",
   "metadata": {},
   "source": [
    "Define params"
   ]
  },
  {
   "cell_type": "code",
   "execution_count": 4,
   "metadata": {},
   "outputs": [],
   "source": [
    "from sklearn.model_selection import LeaveOneGroupOut, cross_validate\n",
    "from sklearn.pipeline import Pipeline\n",
    "from xgboost import XGBClassifier\n",
    "from sklearn.model_selection import GridSearchCV\n",
    "\n",
    "xgb = XGBClassifier()\n",
    "logo = LeaveOneGroupOut()\n",
    "params = {\n",
    "    'eta': [0.1, 0.3, 0.5, 0.7],\n",
    "    'gamma': [0, 0.25, 0.5],\n",
    "    'max_depth': [2, 4, 6, 8, 10],\n",
    "    'min_child_weight': [1, 3, 5]\n",
    "}"
   ]
  },
  {
   "cell_type": "markdown",
   "metadata": {},
   "source": [
    "Perform GridSearchCV"
   ]
  },
  {
   "cell_type": "code",
   "execution_count": 5,
   "metadata": {},
   "outputs": [
    {
     "name": "stdout",
     "output_type": "stream",
     "text": [
      "Fitting 48 folds for each of 180 candidates, totalling 8640 fits\n"
     ]
    },
    {
     "data": {
      "text/plain": [
       "GridSearchCV(cv=LeaveOneGroupOut(),\n",
       "             estimator=XGBClassifier(base_score=None, booster=None,\n",
       "                                     callbacks=None, colsample_bylevel=None,\n",
       "                                     colsample_bynode=None,\n",
       "                                     colsample_bytree=None,\n",
       "                                     early_stopping_rounds=None,\n",
       "                                     enable_categorical=False, eval_metric=None,\n",
       "                                     gamma=None, gpu_id=None, grow_policy=None,\n",
       "                                     importance_type=None,\n",
       "                                     interaction_constraints=None,\n",
       "                                     learning_rate=None, ma...\n",
       "                                     max_delta_step=None, max_depth=None,\n",
       "                                     max_leaves=None, min_child_weight=None,\n",
       "                                     missing=nan, monotone_constraints=None,\n",
       "                                     n_estimators=100, n_jobs=None,\n",
       "                                     num_parallel_tree=None, predictor=None,\n",
       "                                     random_state=None, reg_alpha=None,\n",
       "                                     reg_lambda=None, ...),\n",
       "             n_jobs=-1,\n",
       "             param_grid={'eta': [0.1, 0.3, 0.5, 0.7], 'gamma': [0, 0.25, 0.5],\n",
       "                         'max_depth': [2, 4, 6, 8, 10],\n",
       "                         'min_child_weight': [1, 3, 5]},\n",
       "             scoring='f1', verbose=10)"
      ]
     },
     "execution_count": 5,
     "metadata": {},
     "output_type": "execute_result"
    }
   ],
   "source": [
    "clf_xgb = GridSearchCV(xgb, params, cv=logo, n_jobs=-1, scoring='f1', verbose=10)\n",
    "clf_xgb.fit(X_learning, y_learning, groups=groups)"
   ]
  },
  {
   "cell_type": "code",
   "execution_count": 7,
   "metadata": {},
   "outputs": [
    {
     "data": {
      "text/plain": [
       "['test/dfs&results/clf_xgb.joblib']"
      ]
     },
     "execution_count": 7,
     "metadata": {},
     "output_type": "execute_result"
    }
   ],
   "source": [
    "from joblib import dump\n",
    "dump(clf_xgb, 'test/dfs&results/clf_xgb.joblib')"
   ]
  },
  {
   "cell_type": "code",
   "execution_count": 8,
   "metadata": {},
   "outputs": [
    {
     "data": {
      "text/plain": [
       "XGBClassifier(base_score=0.5, booster='gbtree', callbacks=None,\n",
       "              colsample_bylevel=1, colsample_bynode=1, colsample_bytree=1,\n",
       "              early_stopping_rounds=None, enable_categorical=False, eta=0.3,\n",
       "              eval_metric=None, gamma=0.5, gpu_id=-1, grow_policy='depthwise',\n",
       "              importance_type=None, interaction_constraints='',\n",
       "              learning_rate=0.300000012, max_bin=256, max_cat_to_onehot=4,\n",
       "              max_delta_step=0, max_depth=2, max_leaves=0, min_child_weight=3,\n",
       "              missing=nan, monotone_constraints='()', n_estimators=100,\n",
       "              n_jobs=0, num_parallel_tree=1, predictor='auto', random_state=0,\n",
       "              reg_alpha=0, ...)"
      ]
     },
     "execution_count": 8,
     "metadata": {},
     "output_type": "execute_result"
    }
   ],
   "source": [
    "clf_xgb.best_estimator_"
   ]
  },
  {
   "cell_type": "code",
   "execution_count": 9,
   "metadata": {},
   "outputs": [
    {
     "data": {
      "text/plain": [
       "0.6283087802463467"
      ]
     },
     "execution_count": 9,
     "metadata": {},
     "output_type": "execute_result"
    }
   ],
   "source": [
    "clf_xgb.best_score_"
   ]
  },
  {
   "cell_type": "code",
   "execution_count": 11,
   "metadata": {},
   "outputs": [
    {
     "data": {
      "image/png": "[encoded data removed]",
      "text/plain": [
       "<Figure size 1440x360 with 4 Axes>"
      ]
     },
     "metadata": {
      "needs_background": "light"
     },
     "output_type": "display_data"
    }
   ],
   "source": [
    "mf.plot_all_gridsearch_results(clf_xgb)"
   ]
  },
  {
   "cell_type": "markdown",
   "metadata": {},
   "source": [
    "# Examine the results"
   ]
  },
  {
   "cell_type": "code",
   "execution_count": 10,
   "metadata": {},
   "outputs": [
    {
     "ename": "FileNotFoundError",
     "evalue": "[Errno 2] No such file or directory: 'test/dfs&results/clf_rfc.joblib'",
     "output_type": "error",
     "traceback": [
      "\u001b[1;31m---------------------------------------------------------------------------\u001b[0m",
      "\u001b[1;31mFileNotFoundError\u001b[0m                         Traceback (most recent call last)",
      "\u001b[1;32mc:\\licencjat\\hyperparameter_tuning.ipynb Cell 68'\u001b[0m in \u001b[0;36m<cell line: 2>\u001b[1;34m()\u001b[0m\n\u001b[0;32m      <a href='vscode-notebook-cell:/c%3A/licencjat/hyperparameter_tuning.ipynb#ch0000064?line=0'>1</a>\u001b[0m \u001b[39mfrom\u001b[39;00m \u001b[39mjoblib\u001b[39;00m \u001b[39mimport\u001b[39;00m load\n\u001b[1;32m----> <a href='vscode-notebook-cell:/c%3A/licencjat/hyperparameter_tuning.ipynb#ch0000064?line=1'>2</a>\u001b[0m clf_rfc \u001b[39m=\u001b[39m load(\u001b[39m'\u001b[39;49m\u001b[39mtest/dfs&results/clf_rfc.joblib\u001b[39;49m\u001b[39m'\u001b[39;49m)\n",
      "File \u001b[1;32m~\\AppData\\Local\\Programs\\Python\\Python310\\lib\\site-packages\\joblib\\numpy_pickle.py:577\u001b[0m, in \u001b[0;36mload\u001b[1;34m(filename, mmap_mode)\u001b[0m\n\u001b[0;32m    <a href='file:///c%3A/Users/misia/AppData/Local/Programs/Python/Python310/lib/site-packages/joblib/numpy_pickle.py?line=574'>575</a>\u001b[0m         obj \u001b[39m=\u001b[39m _unpickle(fobj)\n\u001b[0;32m    <a href='file:///c%3A/Users/misia/AppData/Local/Programs/Python/Python310/lib/site-packages/joblib/numpy_pickle.py?line=575'>576</a>\u001b[0m \u001b[39melse\u001b[39;00m:\n\u001b[1;32m--> <a href='file:///c%3A/Users/misia/AppData/Local/Programs/Python/Python310/lib/site-packages/joblib/numpy_pickle.py?line=576'>577</a>\u001b[0m     \u001b[39mwith\u001b[39;00m \u001b[39mopen\u001b[39;49m(filename, \u001b[39m'\u001b[39;49m\u001b[39mrb\u001b[39;49m\u001b[39m'\u001b[39;49m) \u001b[39mas\u001b[39;00m f:\n\u001b[0;32m    <a href='file:///c%3A/Users/misia/AppData/Local/Programs/Python/Python310/lib/site-packages/joblib/numpy_pickle.py?line=577'>578</a>\u001b[0m         \u001b[39mwith\u001b[39;00m _read_fileobject(f, filename, mmap_mode) \u001b[39mas\u001b[39;00m fobj:\n\u001b[0;32m    <a href='file:///c%3A/Users/misia/AppData/Local/Programs/Python/Python310/lib/site-packages/joblib/numpy_pickle.py?line=578'>579</a>\u001b[0m             \u001b[39mif\u001b[39;00m \u001b[39misinstance\u001b[39m(fobj, \u001b[39mstr\u001b[39m):\n\u001b[0;32m    <a href='file:///c%3A/Users/misia/AppData/Local/Programs/Python/Python310/lib/site-packages/joblib/numpy_pickle.py?line=579'>580</a>\u001b[0m                 \u001b[39m# if the returned file object is a string, this means we\u001b[39;00m\n\u001b[0;32m    <a href='file:///c%3A/Users/misia/AppData/Local/Programs/Python/Python310/lib/site-packages/joblib/numpy_pickle.py?line=580'>581</a>\u001b[0m                 \u001b[39m# try to load a pickle file generated with an version of\u001b[39;00m\n\u001b[0;32m    <a href='file:///c%3A/Users/misia/AppData/Local/Programs/Python/Python310/lib/site-packages/joblib/numpy_pickle.py?line=581'>582</a>\u001b[0m                 \u001b[39m# Joblib so we load it with joblib compatibility function.\u001b[39;00m\n",
      "\u001b[1;31mFileNotFoundError\u001b[0m: [Errno 2] No such file or directory: 'test/dfs&results/clf_rfc.joblib'"
     ]
    }
   ],
   "source": [
    "from joblib import load\n",
    "clf_rfc = load('test/dfs&results/clf_rfc.joblib')"
   ]
  },
  {
   "cell_type": "code",
   "execution_count": 9,
   "metadata": {},
   "outputs": [
    {
     "data": {
      "text/plain": [
       "RandomForestClassifier(criterion='entropy', max_depth=10, n_estimators=200,\n",
       "                       random_state=1)"
      ]
     },
     "execution_count": 9,
     "metadata": {},
     "output_type": "execute_result"
    }
   ],
   "source": [
    "clf_rfc.best_estimator_"
   ]
  },
  {
   "cell_type": "code",
   "execution_count": 13,
   "metadata": {},
   "outputs": [
    {
     "data": {
      "text/plain": [
       "0.6089659670541102"
      ]
     },
     "execution_count": 13,
     "metadata": {},
     "output_type": "execute_result"
    }
   ],
   "source": [
    "clf_rfc.best_score_"
   ]
  },
  {
   "cell_type": "code",
   "execution_count": 14,
   "metadata": {},
   "outputs": [
    {
     "data": {
      "text/plain": [
       "{'max_depth': 10, 'n_estimators': 200}"
      ]
     },
     "execution_count": 14,
     "metadata": {},
     "output_type": "execute_result"
    }
   ],
   "source": [
    "clf_rfc.best_params_"
   ]
  },
  {
   "cell_type": "code",
   "execution_count": 15,
   "metadata": {},
   "outputs": [
    {
     "data": {
      "text/plain": [
       "make_scorer(f1_score, average=binary)"
      ]
     },
     "execution_count": 15,
     "metadata": {},
     "output_type": "execute_result"
    }
   ],
   "source": [
    "clf_rfc.scorer_"
   ]
  },
  {
   "cell_type": "code",
   "execution_count": 16,
   "metadata": {},
   "outputs": [
    {
     "data": {
      "text/plain": [
       "48"
      ]
     },
     "execution_count": 16,
     "metadata": {},
     "output_type": "execute_result"
    }
   ],
   "source": [
    "clf_rfc.n_splits_"
   ]
  },
  {
   "cell_type": "markdown",
   "metadata": {},
   "source": [
    "#### Visualisations"
   ]
  },
  {
   "cell_type": "code",
   "execution_count": 38,
   "metadata": {},
   "outputs": [
    {
     "data": {
      "image/png": "[encoded data removed]",
      "text/plain": [
       "<Figure size 432x288 with 1 Axes>"
      ]
     },
     "metadata": {
      "needs_background": "light"
     },
     "output_type": "display_data"
    }
   ],
   "source": [
    "plot_grid_search(clf_rfc.cv_results_, params['n_estimators'], params['max_depth'], 'n_estimators', 'max_depth')"
   ]
  },
  {
   "cell_type": "code",
   "execution_count": 49,
   "metadata": {},
   "outputs": [
    {
     "name": "stderr",
     "output_type": "stream",
     "text": [
      "No artists with labels found to put in legend.  Note that artists whose label start with an underscore are ignored when legend() is called with no argument.\n"
     ]
    },
    {
     "data": {
      "image/png": "[encoded data removed]",
      "text/plain": [
       "<Figure size 432x288 with 1 Axes>"
      ]
     },
     "metadata": {
      "needs_background": "light"
     },
     "output_type": "display_data"
    }
   ],
   "source": [
    "plot_grid_search_one_param(clf_rfc.cv_results_, params['max_depth'], 'max_depth')"
   ]
  },
  {
   "cell_type": "code",
   "execution_count": 50,
   "metadata": {},
   "outputs": [
    {
     "data": {
      "text/plain": [
       "RandomForestClassifier(criterion='entropy', max_depth=4, n_estimators=200,\n",
       "                       random_state=1)"
      ]
     },
     "execution_count": 50,
     "metadata": {},
     "output_type": "execute_result"
    }
   ],
   "source": [
    "clf_rfc.best_estimator_"
   ]
  },
  {
   "cell_type": "code",
   "execution_count": 26,
   "metadata": {},
   "outputs": [
    {
     "name": "stderr",
     "output_type": "stream",
     "text": [
      "No artists with labels found to put in legend.  Note that artists whose label start with an underscore are ignored when legend() is called with no argument.\n"
     ]
    },
    {
     "data": {
      "image/png": "[encoded data removed]",
      "text/plain": [
       "<Figure size 432x288 with 1 Axes>"
      ]
     },
     "metadata": {
      "needs_background": "light"
     },
     "output_type": "display_data"
    }
   ],
   "source": [
    "plot_grid_search_one_param(clf_knn.cv_results_, params['knn__algorithm'], 'knn_algorithm')"
   ]
  },
  {
   "cell_type": "code",
   "execution_count": 30,
   "metadata": {},
   "outputs": [
    {
     "data": {
      "image/png": "[encoded data removed]",
      "text/plain": [
       "<Figure size 432x288 with 1 Axes>"
      ]
     },
     "metadata": {
      "needs_background": "light"
     },
     "output_type": "display_data"
    }
   ],
   "source": [
    "plot_grid_search(clf_svc.cv_results_, params['svc__C'], params['svc__kernel'], 'svc_C', 'svc_kernel')"
   ]
  },
  {
   "cell_type": "code",
   "execution_count": 28,
   "metadata": {},
   "outputs": [
    {
     "data": {
      "image/png": "[encoded data removed]",
      "text/plain": [
       "<Figure size 1440x360 with 3 Axes>"
      ]
     },
     "metadata": {
      "needs_background": "light"
     },
     "output_type": "display_data"
    }
   ],
   "source": [
    "plot_all_gridsearch_results(clf_lin_svc)"
   ]
  },
  {
   "cell_type": "code",
   "execution_count": 29,
   "metadata": {},
   "outputs": [
    {
     "data": {
      "text/plain": [
       "Pipeline(steps=[('normalize', Normalizer()),\n",
       "                ('svc', LinearSVC(C=0.01, class_weight={0: 1, 1: 1.5}))])"
      ]
     },
     "execution_count": 29,
     "metadata": {},
     "output_type": "execute_result"
    }
   ],
   "source": [
    "clf_lin_svc.best_estimator_"
   ]
  },
  {
   "cell_type": "code",
   "execution_count": 15,
   "metadata": {},
   "outputs": [
    {
     "data": {
      "image/png": "[encoded data removed]",
      "text/plain": [
       "<Figure size 1440x360 with 4 Axes>"
      ]
     },
     "metadata": {
      "needs_background": "light"
     },
     "output_type": "display_data"
    }
   ],
   "source": [
    "plot_all_gridsearch_results(clf_lrc)"
   ]
  }
 ],
 "metadata": {
  "interpreter": {
   "hash": "3cdc73890b0ed29f31b9fd804fd56ba74e9de979ac48999a171ce85ea02c003c"
  },
  "kernelspec": {
   "display_name": "Python 3.10.4 64-bit",
   "language": "python",
   "name": "python3"
  },
  "language_info": {
   "codemirror_mode": {
    "name": "ipython",
    "version": 3
   },
   "file_extension": ".py",
   "mimetype": "text/x-python",
   "name": "python",
   "nbconvert_exporter": "python",
   "pygments_lexer": "ipython3",
   "version": "3.10.4"
  },
  "orig_nbformat": 4
 },
 "nbformat": 4,
 "nbformat_minor": 2
}
