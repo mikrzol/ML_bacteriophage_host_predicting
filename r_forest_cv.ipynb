{
 "cells": [
  {
   "cell_type": "markdown",
   "metadata": {},
   "source": [
    "### Import basic libraries"
   ]
  },
  {
   "cell_type": "code",
   "execution_count": 2,
   "metadata": {},
   "outputs": [],
   "source": [
    "import numpy as np\n",
    "import matplotlib.pyplot as plt\n",
    "import pandas as pd"
   ]
  },
  {
   "cell_type": "markdown",
   "metadata": {},
   "source": [
    "### Load in the dataframe"
   ]
  },
  {
   "cell_type": "code",
   "execution_count": 2,
   "metadata": {},
   "outputs": [
    {
     "name": "stdout",
     "output_type": "stream",
     "text": [
      "(2213180, 14)\n"
     ]
    },
    {
     "data": {
      "text/html": [
       "<div>\n",
       "<style scoped>\n",
       "    .dataframe tbody tr th:only-of-type {\n",
       "        vertical-align: middle;\n",
       "    }\n",
       "\n",
       "    .dataframe tbody tr th {\n",
       "        vertical-align: top;\n",
       "    }\n",
       "\n",
       "    .dataframe thead th {\n",
       "        text-align: right;\n",
       "    }\n",
       "</style>\n",
       "<table border=\"1\" class=\"dataframe\">\n",
       "  <thead>\n",
       "    <tr style=\"text-align: right;\">\n",
       "      <th></th>\n",
       "      <th>virus</th>\n",
       "      <th>host</th>\n",
       "      <th>blastn</th>\n",
       "      <th>crisprdetect-2mismatch</th>\n",
       "      <th>gc_content</th>\n",
       "      <th>k25</th>\n",
       "      <th>k6-chebyshev</th>\n",
       "      <th>k6-kendalltau</th>\n",
       "      <th>k6-manhattan</th>\n",
       "      <th>piler-2mismatch</th>\n",
       "      <th>wish</th>\n",
       "      <th>group</th>\n",
       "      <th>group_code</th>\n",
       "      <th>y</th>\n",
       "    </tr>\n",
       "  </thead>\n",
       "  <tbody>\n",
       "    <tr>\n",
       "      <th>0</th>\n",
       "      <td>NC_010363</td>\n",
       "      <td>NC_008527</td>\n",
       "      <td>60.8</td>\n",
       "      <td>0.0</td>\n",
       "      <td>0.021973</td>\n",
       "      <td>0.0</td>\n",
       "      <td>0.002122</td>\n",
       "      <td>0.398421</td>\n",
       "      <td>0.382144</td>\n",
       "      <td>0.0</td>\n",
       "      <td>-1.33553</td>\n",
       "      <td>Streptococcaceae</td>\n",
       "      <td>41</td>\n",
       "      <td>1</td>\n",
       "    </tr>\n",
       "    <tr>\n",
       "      <th>1</th>\n",
       "      <td>NC_010363</td>\n",
       "      <td>NC_002662</td>\n",
       "      <td>59.0</td>\n",
       "      <td>0.0</td>\n",
       "      <td>0.016709</td>\n",
       "      <td>0.0</td>\n",
       "      <td>0.001929</td>\n",
       "      <td>0.397773</td>\n",
       "      <td>0.377498</td>\n",
       "      <td>0.0</td>\n",
       "      <td>-1.33035</td>\n",
       "      <td>Streptococcaceae</td>\n",
       "      <td>41</td>\n",
       "      <td>1</td>\n",
       "    </tr>\n",
       "    <tr>\n",
       "      <th>2</th>\n",
       "      <td>NC_010363</td>\n",
       "      <td>NC_017949</td>\n",
       "      <td>59.0</td>\n",
       "      <td>0.0</td>\n",
       "      <td>0.020818</td>\n",
       "      <td>0.0</td>\n",
       "      <td>0.002088</td>\n",
       "      <td>0.396969</td>\n",
       "      <td>0.379686</td>\n",
       "      <td>0.0</td>\n",
       "      <td>-1.33341</td>\n",
       "      <td>Streptococcaceae</td>\n",
       "      <td>41</td>\n",
       "      <td>1</td>\n",
       "    </tr>\n",
       "    <tr>\n",
       "      <th>3</th>\n",
       "      <td>NC_010363</td>\n",
       "      <td>NC_017492</td>\n",
       "      <td>59.0</td>\n",
       "      <td>0.0</td>\n",
       "      <td>0.022209</td>\n",
       "      <td>0.0</td>\n",
       "      <td>0.002131</td>\n",
       "      <td>0.396148</td>\n",
       "      <td>0.380930</td>\n",
       "      <td>0.0</td>\n",
       "      <td>-1.33767</td>\n",
       "      <td>Streptococcaceae</td>\n",
       "      <td>41</td>\n",
       "      <td>1</td>\n",
       "    </tr>\n",
       "    <tr>\n",
       "      <th>4</th>\n",
       "      <td>NC_010363</td>\n",
       "      <td>NC_009004</td>\n",
       "      <td>59.0</td>\n",
       "      <td>0.0</td>\n",
       "      <td>0.020871</td>\n",
       "      <td>0.0</td>\n",
       "      <td>0.002088</td>\n",
       "      <td>0.397095</td>\n",
       "      <td>0.379834</td>\n",
       "      <td>0.0</td>\n",
       "      <td>-1.33341</td>\n",
       "      <td>Streptococcaceae</td>\n",
       "      <td>41</td>\n",
       "      <td>1</td>\n",
       "    </tr>\n",
       "  </tbody>\n",
       "</table>\n",
       "</div>"
      ],
      "text/plain": [
       "       virus       host  blastn  crisprdetect-2mismatch  gc_content  k25  \\\n",
       "0  NC_010363  NC_008527    60.8                     0.0    0.021973  0.0   \n",
       "1  NC_010363  NC_002662    59.0                     0.0    0.016709  0.0   \n",
       "2  NC_010363  NC_017949    59.0                     0.0    0.020818  0.0   \n",
       "3  NC_010363  NC_017492    59.0                     0.0    0.022209  0.0   \n",
       "4  NC_010363  NC_009004    59.0                     0.0    0.020871  0.0   \n",
       "\n",
       "   k6-chebyshev  k6-kendalltau  k6-manhattan  piler-2mismatch     wish  \\\n",
       "0      0.002122       0.398421      0.382144              0.0 -1.33553   \n",
       "1      0.001929       0.397773      0.377498              0.0 -1.33035   \n",
       "2      0.002088       0.396969      0.379686              0.0 -1.33341   \n",
       "3      0.002131       0.396148      0.380930              0.0 -1.33767   \n",
       "4      0.002088       0.397095      0.379834              0.0 -1.33341   \n",
       "\n",
       "              group group_code  y  \n",
       "0  Streptococcaceae         41  1  \n",
       "1  Streptococcaceae         41  1  \n",
       "2  Streptococcaceae         41  1  \n",
       "3  Streptococcaceae         41  1  \n",
       "4  Streptococcaceae         41  1  "
      ]
     },
     "execution_count": 2,
     "metadata": {},
     "output_type": "execute_result"
    }
   ],
   "source": [
    "df = pd.read_pickle('./main_df.pkl')\n",
    "print(df.shape)\n",
    "df.head()"
   ]
  },
  {
   "cell_type": "markdown",
   "metadata": {},
   "source": [
    "## Data preprocessing"
   ]
  },
  {
   "cell_type": "markdown",
   "metadata": {},
   "source": [
    "### Get all of positive cases + the same number of negative cases randomly"
   ]
  },
  {
   "cell_type": "code",
   "execution_count": 3,
   "metadata": {},
   "outputs": [
    {
     "name": "stdout",
     "output_type": "stream",
     "text": [
      "(33514, 14)\n"
     ]
    },
    {
     "data": {
      "text/html": [
       "<div>\n",
       "<style scoped>\n",
       "    .dataframe tbody tr th:only-of-type {\n",
       "        vertical-align: middle;\n",
       "    }\n",
       "\n",
       "    .dataframe tbody tr th {\n",
       "        vertical-align: top;\n",
       "    }\n",
       "\n",
       "    .dataframe thead th {\n",
       "        text-align: right;\n",
       "    }\n",
       "</style>\n",
       "<table border=\"1\" class=\"dataframe\">\n",
       "  <thead>\n",
       "    <tr style=\"text-align: right;\">\n",
       "      <th></th>\n",
       "      <th>virus</th>\n",
       "      <th>host</th>\n",
       "      <th>blastn</th>\n",
       "      <th>crisprdetect-2mismatch</th>\n",
       "      <th>gc_content</th>\n",
       "      <th>k25</th>\n",
       "      <th>k6-chebyshev</th>\n",
       "      <th>k6-kendalltau</th>\n",
       "      <th>k6-manhattan</th>\n",
       "      <th>piler-2mismatch</th>\n",
       "      <th>wish</th>\n",
       "      <th>group</th>\n",
       "      <th>group_code</th>\n",
       "      <th>y</th>\n",
       "    </tr>\n",
       "  </thead>\n",
       "  <tbody>\n",
       "    <tr>\n",
       "      <th>0</th>\n",
       "      <td>NC_010363</td>\n",
       "      <td>NC_008527</td>\n",
       "      <td>60.8</td>\n",
       "      <td>0.0</td>\n",
       "      <td>0.021973</td>\n",
       "      <td>0.0</td>\n",
       "      <td>0.002122</td>\n",
       "      <td>0.398421</td>\n",
       "      <td>0.382144</td>\n",
       "      <td>0.0</td>\n",
       "      <td>-1.33553</td>\n",
       "      <td>Streptococcaceae</td>\n",
       "      <td>41</td>\n",
       "      <td>1</td>\n",
       "    </tr>\n",
       "    <tr>\n",
       "      <th>1</th>\n",
       "      <td>NC_010363</td>\n",
       "      <td>NC_002662</td>\n",
       "      <td>59.0</td>\n",
       "      <td>0.0</td>\n",
       "      <td>0.016709</td>\n",
       "      <td>0.0</td>\n",
       "      <td>0.001929</td>\n",
       "      <td>0.397773</td>\n",
       "      <td>0.377498</td>\n",
       "      <td>0.0</td>\n",
       "      <td>-1.33035</td>\n",
       "      <td>Streptococcaceae</td>\n",
       "      <td>41</td>\n",
       "      <td>1</td>\n",
       "    </tr>\n",
       "    <tr>\n",
       "      <th>2</th>\n",
       "      <td>NC_010363</td>\n",
       "      <td>NC_017949</td>\n",
       "      <td>59.0</td>\n",
       "      <td>0.0</td>\n",
       "      <td>0.020818</td>\n",
       "      <td>0.0</td>\n",
       "      <td>0.002088</td>\n",
       "      <td>0.396969</td>\n",
       "      <td>0.379686</td>\n",
       "      <td>0.0</td>\n",
       "      <td>-1.33341</td>\n",
       "      <td>Streptococcaceae</td>\n",
       "      <td>41</td>\n",
       "      <td>1</td>\n",
       "    </tr>\n",
       "    <tr>\n",
       "      <th>3</th>\n",
       "      <td>NC_010363</td>\n",
       "      <td>NC_017492</td>\n",
       "      <td>59.0</td>\n",
       "      <td>0.0</td>\n",
       "      <td>0.022209</td>\n",
       "      <td>0.0</td>\n",
       "      <td>0.002131</td>\n",
       "      <td>0.396148</td>\n",
       "      <td>0.380930</td>\n",
       "      <td>0.0</td>\n",
       "      <td>-1.33767</td>\n",
       "      <td>Streptococcaceae</td>\n",
       "      <td>41</td>\n",
       "      <td>1</td>\n",
       "    </tr>\n",
       "    <tr>\n",
       "      <th>4</th>\n",
       "      <td>NC_010363</td>\n",
       "      <td>NC_009004</td>\n",
       "      <td>59.0</td>\n",
       "      <td>0.0</td>\n",
       "      <td>0.020871</td>\n",
       "      <td>0.0</td>\n",
       "      <td>0.002088</td>\n",
       "      <td>0.397095</td>\n",
       "      <td>0.379834</td>\n",
       "      <td>0.0</td>\n",
       "      <td>-1.33341</td>\n",
       "      <td>Streptococcaceae</td>\n",
       "      <td>41</td>\n",
       "      <td>1</td>\n",
       "    </tr>\n",
       "  </tbody>\n",
       "</table>\n",
       "</div>"
      ],
      "text/plain": [
       "       virus       host  blastn  crisprdetect-2mismatch  gc_content  k25  \\\n",
       "0  NC_010363  NC_008527    60.8                     0.0    0.021973  0.0   \n",
       "1  NC_010363  NC_002662    59.0                     0.0    0.016709  0.0   \n",
       "2  NC_010363  NC_017949    59.0                     0.0    0.020818  0.0   \n",
       "3  NC_010363  NC_017492    59.0                     0.0    0.022209  0.0   \n",
       "4  NC_010363  NC_009004    59.0                     0.0    0.020871  0.0   \n",
       "\n",
       "   k6-chebyshev  k6-kendalltau  k6-manhattan  piler-2mismatch     wish  \\\n",
       "0      0.002122       0.398421      0.382144              0.0 -1.33553   \n",
       "1      0.001929       0.397773      0.377498              0.0 -1.33035   \n",
       "2      0.002088       0.396969      0.379686              0.0 -1.33341   \n",
       "3      0.002131       0.396148      0.380930              0.0 -1.33767   \n",
       "4      0.002088       0.397095      0.379834              0.0 -1.33341   \n",
       "\n",
       "              group group_code  y  \n",
       "0  Streptococcaceae         41  1  \n",
       "1  Streptococcaceae         41  1  \n",
       "2  Streptococcaceae         41  1  \n",
       "3  Streptococcaceae         41  1  \n",
       "4  Streptococcaceae         41  1  "
      ]
     },
     "execution_count": 3,
     "metadata": {},
     "output_type": "execute_result"
    }
   ],
   "source": [
    "# get all the positive cases\n",
    "learning_df = df[df['y'] == 1]\n",
    "# get the same amount of negative cases RANDOMLY\n",
    "negative_learning_df = df[df['y'] == 0].sample(n=len(df[df['y'] == 1].index))\n",
    "\n",
    "learning_df = pd.concat([learning_df, negative_learning_df], ignore_index=True)\n",
    "print(learning_df.shape)\n",
    "learning_df.head()"
   ]
  },
  {
   "cell_type": "markdown",
   "metadata": {},
   "source": [
    "### Groups dristribution"
   ]
  },
  {
   "cell_type": "markdown",
   "metadata": {},
   "source": [
    "NOTE: evening out the differences in group compositions will be added later"
   ]
  },
  {
   "cell_type": "code",
   "execution_count": null,
   "metadata": {},
   "outputs": [
    {
     "data": {
      "text/plain": [
       "group                                              group_code\n",
       "Enterobacteriaceae                                 16            12661\n",
       "Staphylococcaceae                                  40             4814\n",
       "Pseudomonadaceae                                   34             2904\n",
       "Streptococcaceae                                   41             2237\n",
       "Bacillaceae                                        5              1546\n",
       "Burkholderiaceae                                   9              1241\n",
       "Vibrionaceae                                       46             1130\n",
       "Listeriaceae                                       22              884\n",
       "Propionibacteriaceae                               33              674\n",
       "Mycobacteriaceae                                   25              636\n",
       "Xanthomonadaceae                                   47              446\n",
       "Lactobacillaceae                                   20              393\n",
       "Enterococcaceae                                    17              316\n",
       "Clostridiaceae                                     13              312\n",
       "Helicobacteraceae                                  19              291\n",
       "Moraxellaceae                                      24              289\n",
       "Aeromonadaceae                                     2               266\n",
       "Nocardiaceae                                       28              217\n",
       "Pasteurellaceae                                    30              207\n",
       "Peptostreptococcaceae                              31              201\n",
       "Chlamydiaceae                                      12              199\n",
       "Caulobacteraceae                                   11              159\n",
       "Leuconostocaceae                                   21              159\n",
       "Streptomycetaceae                                  42              127\n",
       "Thermaceae                                         43              116\n",
       "Rhodobacteraceae                                   36              102\n",
       "Flavobacteriaceae                                  18               95\n",
       "Campylobacteraceae                                 10               95\n",
       "Mycoplasmataceae                                   26               78\n",
       "Bdellovibrionaceae                                 7                75\n",
       "Alcaligenaceae                                     3                70\n",
       "Bacteroidaceae                                     6                58\n",
       "Rhizobiaceae                                       35               58\n",
       "Brucellaceae                                       8                54\n",
       "Microbacteriaceae                                  23               51\n",
       "Prochlorococcaceae                                 32               41\n",
       "Acholeplasmataceae                                 1                38\n",
       "Rhodothermaceae                                    38               33\n",
       "                                                   0                31\n",
       "Shewanellaceae                                     39               29\n",
       "Alteromonadaceae                                   4                29\n",
       "Comamonadaceae                                     14               26\n",
       "Corynebacteriaceae                                 15               26\n",
       "Thermoanaerobacterales Family III. Incertae Sedis  44               25\n",
       "Nostocaceae                                        29               23\n",
       "Tsukamurellaceae                                   45               19\n",
       "Rhodospirillaceae                                  37               17\n",
       "Myxococcaceae                                      27               16\n",
       "dtype: int64"
      ]
     },
     "execution_count": 4,
     "metadata": {},
     "output_type": "execute_result"
    }
   ],
   "source": [
    "learning_df[['group','group_code']].value_counts()"
   ]
  },
  {
   "cell_type": "code",
   "execution_count": null,
   "metadata": {},
   "outputs": [],
   "source": [
    "learning_df[learning_df['y'] == 1][['group', 'group_code']].value_counts()"
   ]
  },
  {
   "cell_type": "markdown",
   "metadata": {},
   "source": [
    "### Encode categorical values"
   ]
  },
  {
   "cell_type": "markdown",
   "metadata": {},
   "source": [
    "*Note: encoding not needed because training is not based on virus and host names*"
   ]
  },
  {
   "cell_type": "code",
   "execution_count": null,
   "metadata": {},
   "outputs": [],
   "source": [
    "'''\n",
    "transformed_data = pd.get_dummies(filled_df, columns=['virus', 'host'])\n",
    "transformed_data\n",
    "'''"
   ]
  },
  {
   "cell_type": "markdown",
   "metadata": {},
   "source": [
    "### Extract X and y arrays"
   ]
  },
  {
   "cell_type": "markdown",
   "metadata": {},
   "source": [
    "\\+ get groups for LeaveOneGroupOut"
   ]
  },
  {
   "cell_type": "code",
   "execution_count": 4,
   "metadata": {},
   "outputs": [
    {
     "name": "stdout",
     "output_type": "stream",
     "text": [
      "shape of X: (33514, 9)\n",
      "len(y): 33514\n"
     ]
    }
   ],
   "source": [
    "# can also use .values for X and y for speed, but without it it's easier to look at these sets \n",
    "X = learning_df.drop(['virus', 'host', 'group', 'group_code', 'y'], axis=1)\n",
    "y = learning_df['y']\n",
    "groups = learning_df['group_code'].values\n",
    "\n",
    "print(f'shape of X: {X.shape}')\n",
    "print(f'len(y): {len(y)}')"
   ]
  },
  {
   "cell_type": "markdown",
   "metadata": {},
   "source": [
    "# Training using cross validation"
   ]
  },
  {
   "cell_type": "markdown",
   "metadata": {},
   "source": [
    "### Using cross_validate function"
   ]
  },
  {
   "cell_type": "code",
   "execution_count": 5,
   "metadata": {},
   "outputs": [],
   "source": [
    "from sklearn.model_selection import LeaveOneGroupOut\n",
    "from sklearn.model_selection import cross_validate\n",
    "from sklearn.ensemble import RandomForestClassifier\n",
    "\n",
    "# determine the scoring method\n",
    "scoring = ['f1']\n",
    "# create logo cv procedure\n",
    "logo = LeaveOneGroupOut()\n",
    "# create model\n",
    "model = RandomForestClassifier(n_estimators = 10, criterion = 'entropy', random_state=1)\n",
    "# evaluate model\n",
    "results = cross_validate(model, X, y, scoring=scoring, \n",
    "                        cv=logo, groups=groups, n_jobs=-1, return_estimator=True)"
   ]
  },
  {
   "cell_type": "code",
   "execution_count": 8,
   "metadata": {},
   "outputs": [
    {
     "data": {
      "text/plain": [
       "dict_keys(['fit_time', 'score_time', 'estimator', 'test_f1'])"
      ]
     },
     "execution_count": 8,
     "metadata": {},
     "output_type": "execute_result"
    }
   ],
   "source": [
    "results.keys()"
   ]
  },
  {
   "cell_type": "code",
   "execution_count": 9,
   "metadata": {},
   "outputs": [
    {
     "data": {
      "text/plain": [
       "array([0.66666667, 0.66666667, 0.        , 0.9       , 0.33333333,\n",
       "       0.62008734, 0.44444444, 0.        , 0.66666667, 0.60818713,\n",
       "       0.39215686, 0.75      , 0.03076923, 0.77894737, 0.        ,\n",
       "       0.        , 0.53096586, 0.68518519, 0.8       , 1.        ,\n",
       "       0.8125    , 0.55555556, 0.90611542, 0.        , 0.575     ,\n",
       "       0.68292683, 0.88888889, 1.        , 0.45454545, 0.        ,\n",
       "       0.92929293, 0.91489362, 0.28571429, 0.296     , 0.33570863,\n",
       "       0.91666667, 0.44444444, 1.        , 0.8       , 0.        ,\n",
       "       0.88719815, 0.86373166, 0.47058824, 0.72727273, 0.66666667,\n",
       "       1.        , 0.39564428, 0.48484848])"
      ]
     },
     "execution_count": 9,
     "metadata": {},
     "output_type": "execute_result"
    }
   ],
   "source": [
    "results['test_f1']"
   ]
  },
  {
   "cell_type": "code",
   "execution_count": 40,
   "metadata": {},
   "outputs": [
    {
     "data": {
      "text/plain": [
       "48"
      ]
     },
     "execution_count": 40,
     "metadata": {},
     "output_type": "execute_result"
    }
   ],
   "source": [
    "len(results['estimator'])"
   ]
  },
  {
   "cell_type": "markdown",
   "metadata": {},
   "source": [
    "## Get probabilities of class assignment for each element in main_df"
   ]
  },
  {
   "cell_type": "markdown",
   "metadata": {},
   "source": [
    "for each estimator:\n",
    "1. take the viruses from the test part of the estimator\n",
    "2. for each of this virus estimate class for ALL the bacteria in main_df\n",
    "3. check if estimation was correct\n",
    "4. take best predictions (highest probabilities) for each virus\n",
    "5. write these predictions down"
   ]
  },
  {
   "cell_type": "markdown",
   "metadata": {},
   "source": [
    "### For main df:"
   ]
  },
  {
   "cell_type": "markdown",
   "metadata": {},
   "source": [
    "Create X, y and groups sets for the main df"
   ]
  },
  {
   "cell_type": "code",
   "execution_count": 6,
   "metadata": {},
   "outputs": [],
   "source": [
    "X_main = df.drop(['virus', 'host', 'group', 'group_code', 'y'], axis=1)\n",
    "y_main = df['y']\n",
    "groups_main = df['group_code'].values"
   ]
  },
  {
   "cell_type": "markdown",
   "metadata": {},
   "source": [
    "Check if each subgroup contains all the hosts"
   ]
  },
  {
   "cell_type": "code",
   "execution_count": 7,
   "metadata": {},
   "outputs": [],
   "source": [
    "hosts_num = len(pd.unique(df.loc[:, 'host']))\n",
    "for i in range(0, max(groups_main)+1):\n",
    "    if len(pd.unique(df.loc[groups_main == i, 'host'])) != hosts_num:\n",
    "        print(f'ERROR: not enough hosts in subgroup {i} (hosts: {len(pd.unique(df.loc[groups_main == i, \"host\"]))})!')"
   ]
  },
  {
   "cell_type": "markdown",
   "metadata": {},
   "source": [
    "Calculate the probabilities of classification for viruses in each of the test sets (i.e. where groups_main == i)"
   ]
  },
  {
   "cell_type": "code",
   "execution_count": 8,
   "metadata": {},
   "outputs": [],
   "source": [
    "prob_df_main = pd.DataFrame(index=range(len(df['y'])), columns=['0', '1'])\n",
    "prob_df_main['0'] = prob_df_main['0'].astype('float')\n",
    "prob_df_main['1'] = prob_df_main['1'].astype('float')\n",
    "for i in range(0, max(groups_main)+1):\n",
    "    mask_main = groups_main == i\n",
    "    prob_df_main.loc[mask_main, ['0', '1']] = results['estimator'][i].predict_proba(X_main.loc[mask_main,:])"
   ]
  },
  {
   "cell_type": "markdown",
   "metadata": {},
   "source": [
    "Create a df with the results"
   ]
  },
  {
   "cell_type": "code",
   "execution_count": 9,
   "metadata": {},
   "outputs": [],
   "source": [
    "df_all = pd.concat([df, prob_df_main], axis=1)"
   ]
  },
  {
   "cell_type": "code",
   "execution_count": 10,
   "metadata": {},
   "outputs": [
    {
     "data": {
      "text/html": [
       "<div>\n",
       "<style scoped>\n",
       "    .dataframe tbody tr th:only-of-type {\n",
       "        vertical-align: middle;\n",
       "    }\n",
       "\n",
       "    .dataframe tbody tr th {\n",
       "        vertical-align: top;\n",
       "    }\n",
       "\n",
       "    .dataframe thead th {\n",
       "        text-align: right;\n",
       "    }\n",
       "</style>\n",
       "<table border=\"1\" class=\"dataframe\">\n",
       "  <thead>\n",
       "    <tr style=\"text-align: right;\">\n",
       "      <th></th>\n",
       "      <th>virus</th>\n",
       "      <th>host</th>\n",
       "      <th>blastn</th>\n",
       "      <th>crisprdetect-2mismatch</th>\n",
       "      <th>gc_content</th>\n",
       "      <th>k25</th>\n",
       "      <th>k6-chebyshev</th>\n",
       "      <th>k6-kendalltau</th>\n",
       "      <th>k6-manhattan</th>\n",
       "      <th>piler-2mismatch</th>\n",
       "      <th>wish</th>\n",
       "      <th>group</th>\n",
       "      <th>group_code</th>\n",
       "      <th>y</th>\n",
       "      <th>0</th>\n",
       "      <th>1</th>\n",
       "    </tr>\n",
       "  </thead>\n",
       "  <tbody>\n",
       "    <tr>\n",
       "      <th>0</th>\n",
       "      <td>NC_010363</td>\n",
       "      <td>NC_008527</td>\n",
       "      <td>60.8</td>\n",
       "      <td>0.0</td>\n",
       "      <td>0.021973</td>\n",
       "      <td>0.0</td>\n",
       "      <td>0.002122</td>\n",
       "      <td>0.398421</td>\n",
       "      <td>0.382144</td>\n",
       "      <td>0.0</td>\n",
       "      <td>-1.33553</td>\n",
       "      <td>Streptococcaceae</td>\n",
       "      <td>41</td>\n",
       "      <td>1</td>\n",
       "      <td>0.9</td>\n",
       "      <td>0.1</td>\n",
       "    </tr>\n",
       "    <tr>\n",
       "      <th>1</th>\n",
       "      <td>NC_010363</td>\n",
       "      <td>NC_002662</td>\n",
       "      <td>59.0</td>\n",
       "      <td>0.0</td>\n",
       "      <td>0.016709</td>\n",
       "      <td>0.0</td>\n",
       "      <td>0.001929</td>\n",
       "      <td>0.397773</td>\n",
       "      <td>0.377498</td>\n",
       "      <td>0.0</td>\n",
       "      <td>-1.33035</td>\n",
       "      <td>Streptococcaceae</td>\n",
       "      <td>41</td>\n",
       "      <td>1</td>\n",
       "      <td>0.8</td>\n",
       "      <td>0.2</td>\n",
       "    </tr>\n",
       "    <tr>\n",
       "      <th>2</th>\n",
       "      <td>NC_010363</td>\n",
       "      <td>NC_017949</td>\n",
       "      <td>59.0</td>\n",
       "      <td>0.0</td>\n",
       "      <td>0.020818</td>\n",
       "      <td>0.0</td>\n",
       "      <td>0.002088</td>\n",
       "      <td>0.396969</td>\n",
       "      <td>0.379686</td>\n",
       "      <td>0.0</td>\n",
       "      <td>-1.33341</td>\n",
       "      <td>Streptococcaceae</td>\n",
       "      <td>41</td>\n",
       "      <td>1</td>\n",
       "      <td>0.8</td>\n",
       "      <td>0.2</td>\n",
       "    </tr>\n",
       "    <tr>\n",
       "      <th>3</th>\n",
       "      <td>NC_010363</td>\n",
       "      <td>NC_017492</td>\n",
       "      <td>59.0</td>\n",
       "      <td>0.0</td>\n",
       "      <td>0.022209</td>\n",
       "      <td>0.0</td>\n",
       "      <td>0.002131</td>\n",
       "      <td>0.396148</td>\n",
       "      <td>0.380930</td>\n",
       "      <td>0.0</td>\n",
       "      <td>-1.33767</td>\n",
       "      <td>Streptococcaceae</td>\n",
       "      <td>41</td>\n",
       "      <td>1</td>\n",
       "      <td>0.9</td>\n",
       "      <td>0.1</td>\n",
       "    </tr>\n",
       "    <tr>\n",
       "      <th>4</th>\n",
       "      <td>NC_010363</td>\n",
       "      <td>NC_009004</td>\n",
       "      <td>59.0</td>\n",
       "      <td>0.0</td>\n",
       "      <td>0.020871</td>\n",
       "      <td>0.0</td>\n",
       "      <td>0.002088</td>\n",
       "      <td>0.397095</td>\n",
       "      <td>0.379834</td>\n",
       "      <td>0.0</td>\n",
       "      <td>-1.33341</td>\n",
       "      <td>Streptococcaceae</td>\n",
       "      <td>41</td>\n",
       "      <td>1</td>\n",
       "      <td>0.8</td>\n",
       "      <td>0.2</td>\n",
       "    </tr>\n",
       "  </tbody>\n",
       "</table>\n",
       "</div>"
      ],
      "text/plain": [
       "       virus       host  blastn  crisprdetect-2mismatch  gc_content  k25  \\\n",
       "0  NC_010363  NC_008527    60.8                     0.0    0.021973  0.0   \n",
       "1  NC_010363  NC_002662    59.0                     0.0    0.016709  0.0   \n",
       "2  NC_010363  NC_017949    59.0                     0.0    0.020818  0.0   \n",
       "3  NC_010363  NC_017492    59.0                     0.0    0.022209  0.0   \n",
       "4  NC_010363  NC_009004    59.0                     0.0    0.020871  0.0   \n",
       "\n",
       "   k6-chebyshev  k6-kendalltau  k6-manhattan  piler-2mismatch     wish  \\\n",
       "0      0.002122       0.398421      0.382144              0.0 -1.33553   \n",
       "1      0.001929       0.397773      0.377498              0.0 -1.33035   \n",
       "2      0.002088       0.396969      0.379686              0.0 -1.33341   \n",
       "3      0.002131       0.396148      0.380930              0.0 -1.33767   \n",
       "4      0.002088       0.397095      0.379834              0.0 -1.33341   \n",
       "\n",
       "              group group_code  y    0    1  \n",
       "0  Streptococcaceae         41  1  0.9  0.1  \n",
       "1  Streptococcaceae         41  1  0.8  0.2  \n",
       "2  Streptococcaceae         41  1  0.8  0.2  \n",
       "3  Streptococcaceae         41  1  0.9  0.1  \n",
       "4  Streptococcaceae         41  1  0.8  0.2  "
      ]
     },
     "execution_count": 10,
     "metadata": {},
     "output_type": "execute_result"
    }
   ],
   "source": [
    "df_all.head()"
   ]
  },
  {
   "cell_type": "markdown",
   "metadata": {},
   "source": [
    "Check if there indeed are all the expected predictions (2699 hosts for each virus)"
   ]
  },
  {
   "cell_type": "code",
   "execution_count": 11,
   "metadata": {},
   "outputs": [],
   "source": [
    "hosts_num = len(pd.unique(df['host']))\n",
    "for i, el in enumerate(df_all.groupby('virus')['host'].count()):\n",
    "    if el != hosts_num:\n",
    "        print(f'Error for virus {i}')"
   ]
  },
  {
   "cell_type": "markdown",
   "metadata": {},
   "source": [
    "Determine if the predition was correct"
   ]
  },
  {
   "cell_type": "code",
   "execution_count": 12,
   "metadata": {},
   "outputs": [],
   "source": [
    "df_all['estimator_correct'] = df['y']\n",
    "df_all['estimator_correct'] = df_all['estimator_correct'].astype(bool)\n",
    "mask = df_all['y'] == 0\n",
    "df_all.loc[mask,'estimator_correct'] = df_all['0'] > df_all['1']\n",
    "df_all.loc[mask, 'prob'] = df_all['0']\n",
    "mask = df_all['y'] == 1\n",
    "df_all.loc[mask, 'estimator_correct'] = df_all['1'] > df_all['0']\n",
    "df_all.loc[mask, 'prob'] = df_all['1']\n",
    "df_all['prob'] = df_all['prob'].astype('float')"
   ]
  },
  {
   "cell_type": "code",
   "execution_count": 15,
   "metadata": {},
   "outputs": [
    {
     "data": {
      "text/html": [
       "<div>\n",
       "<style scoped>\n",
       "    .dataframe tbody tr th:only-of-type {\n",
       "        vertical-align: middle;\n",
       "    }\n",
       "\n",
       "    .dataframe tbody tr th {\n",
       "        vertical-align: top;\n",
       "    }\n",
       "\n",
       "    .dataframe thead th {\n",
       "        text-align: right;\n",
       "    }\n",
       "</style>\n",
       "<table border=\"1\" class=\"dataframe\">\n",
       "  <thead>\n",
       "    <tr style=\"text-align: right;\">\n",
       "      <th></th>\n",
       "      <th>virus</th>\n",
       "      <th>host</th>\n",
       "      <th>blastn</th>\n",
       "      <th>crisprdetect-2mismatch</th>\n",
       "      <th>gc_content</th>\n",
       "      <th>k25</th>\n",
       "      <th>k6-chebyshev</th>\n",
       "      <th>k6-kendalltau</th>\n",
       "      <th>k6-manhattan</th>\n",
       "      <th>piler-2mismatch</th>\n",
       "      <th>wish</th>\n",
       "      <th>group</th>\n",
       "      <th>group_code</th>\n",
       "      <th>y</th>\n",
       "      <th>0</th>\n",
       "      <th>1</th>\n",
       "      <th>estimator_correct</th>\n",
       "      <th>prob</th>\n",
       "    </tr>\n",
       "  </thead>\n",
       "  <tbody>\n",
       "    <tr>\n",
       "      <th>6</th>\n",
       "      <td>NC_010363</td>\n",
       "      <td>NC_012438</td>\n",
       "      <td>57.2</td>\n",
       "      <td>0.0</td>\n",
       "      <td>0.009055</td>\n",
       "      <td>0.0</td>\n",
       "      <td>0.002532</td>\n",
       "      <td>0.515620</td>\n",
       "      <td>0.588794</td>\n",
       "      <td>0.0</td>\n",
       "      <td>-1.35836</td>\n",
       "      <td>Streptococcaceae</td>\n",
       "      <td>41</td>\n",
       "      <td>0</td>\n",
       "      <td>0.8</td>\n",
       "      <td>0.2</td>\n",
       "      <td>True</td>\n",
       "      <td>0.8</td>\n",
       "    </tr>\n",
       "    <tr>\n",
       "      <th>7</th>\n",
       "      <td>NC_010363</td>\n",
       "      <td>NC_006814</td>\n",
       "      <td>53.6</td>\n",
       "      <td>0.0</td>\n",
       "      <td>0.010561</td>\n",
       "      <td>0.0</td>\n",
       "      <td>0.001443</td>\n",
       "      <td>0.445837</td>\n",
       "      <td>0.412691</td>\n",
       "      <td>0.0</td>\n",
       "      <td>-1.34041</td>\n",
       "      <td>Streptococcaceae</td>\n",
       "      <td>41</td>\n",
       "      <td>0</td>\n",
       "      <td>1.0</td>\n",
       "      <td>0.0</td>\n",
       "      <td>True</td>\n",
       "      <td>1.0</td>\n",
       "    </tr>\n",
       "    <tr>\n",
       "      <th>8</th>\n",
       "      <td>NC_010363</td>\n",
       "      <td>NC_021181</td>\n",
       "      <td>53.6</td>\n",
       "      <td>0.0</td>\n",
       "      <td>0.010478</td>\n",
       "      <td>0.0</td>\n",
       "      <td>0.001445</td>\n",
       "      <td>0.445844</td>\n",
       "      <td>0.412664</td>\n",
       "      <td>0.0</td>\n",
       "      <td>-1.34044</td>\n",
       "      <td>Streptococcaceae</td>\n",
       "      <td>41</td>\n",
       "      <td>0</td>\n",
       "      <td>1.0</td>\n",
       "      <td>0.0</td>\n",
       "      <td>True</td>\n",
       "      <td>1.0</td>\n",
       "    </tr>\n",
       "    <tr>\n",
       "      <th>9</th>\n",
       "      <td>NC_010363</td>\n",
       "      <td>NC_021721</td>\n",
       "      <td>53.6</td>\n",
       "      <td>0.0</td>\n",
       "      <td>0.125869</td>\n",
       "      <td>0.0</td>\n",
       "      <td>0.003324</td>\n",
       "      <td>0.691869</td>\n",
       "      <td>0.655933</td>\n",
       "      <td>0.0</td>\n",
       "      <td>-1.37431</td>\n",
       "      <td>Streptococcaceae</td>\n",
       "      <td>41</td>\n",
       "      <td>0</td>\n",
       "      <td>1.0</td>\n",
       "      <td>0.0</td>\n",
       "      <td>True</td>\n",
       "      <td>1.0</td>\n",
       "    </tr>\n",
       "    <tr>\n",
       "      <th>10</th>\n",
       "      <td>NC_010363</td>\n",
       "      <td>NC_018420</td>\n",
       "      <td>53.6</td>\n",
       "      <td>0.0</td>\n",
       "      <td>0.047558</td>\n",
       "      <td>0.0</td>\n",
       "      <td>0.008447</td>\n",
       "      <td>0.441399</td>\n",
       "      <td>0.475200</td>\n",
       "      <td>0.0</td>\n",
       "      <td>-1.35649</td>\n",
       "      <td>Streptococcaceae</td>\n",
       "      <td>41</td>\n",
       "      <td>0</td>\n",
       "      <td>0.9</td>\n",
       "      <td>0.1</td>\n",
       "      <td>True</td>\n",
       "      <td>0.9</td>\n",
       "    </tr>\n",
       "    <tr>\n",
       "      <th>...</th>\n",
       "      <td>...</td>\n",
       "      <td>...</td>\n",
       "      <td>...</td>\n",
       "      <td>...</td>\n",
       "      <td>...</td>\n",
       "      <td>...</td>\n",
       "      <td>...</td>\n",
       "      <td>...</td>\n",
       "      <td>...</td>\n",
       "      <td>...</td>\n",
       "      <td>...</td>\n",
       "      <td>...</td>\n",
       "      <td>...</td>\n",
       "      <td>...</td>\n",
       "      <td>...</td>\n",
       "      <td>...</td>\n",
       "      <td>...</td>\n",
       "      <td>...</td>\n",
       "    </tr>\n",
       "    <tr>\n",
       "      <th>2213175</th>\n",
       "      <td>NC_024392</td>\n",
       "      <td>NC_009664</td>\n",
       "      <td>0.0</td>\n",
       "      <td>0.0</td>\n",
       "      <td>0.380006</td>\n",
       "      <td>0.0</td>\n",
       "      <td>0.006918</td>\n",
       "      <td>1.525475</td>\n",
       "      <td>1.535981</td>\n",
       "      <td>0.0</td>\n",
       "      <td>-1.46593</td>\n",
       "      <td>Listeriaceae</td>\n",
       "      <td>22</td>\n",
       "      <td>0</td>\n",
       "      <td>1.0</td>\n",
       "      <td>0.0</td>\n",
       "      <td>True</td>\n",
       "      <td>1.0</td>\n",
       "    </tr>\n",
       "    <tr>\n",
       "      <th>2213176</th>\n",
       "      <td>NC_024392</td>\n",
       "      <td>NC_011891</td>\n",
       "      <td>0.0</td>\n",
       "      <td>0.0</td>\n",
       "      <td>0.382821</td>\n",
       "      <td>0.0</td>\n",
       "      <td>0.010627</td>\n",
       "      <td>1.509128</td>\n",
       "      <td>1.523096</td>\n",
       "      <td>0.0</td>\n",
       "      <td>-1.47323</td>\n",
       "      <td>Listeriaceae</td>\n",
       "      <td>22</td>\n",
       "      <td>0</td>\n",
       "      <td>1.0</td>\n",
       "      <td>0.0</td>\n",
       "      <td>True</td>\n",
       "      <td>1.0</td>\n",
       "    </tr>\n",
       "    <tr>\n",
       "      <th>2213177</th>\n",
       "      <td>NC_024392</td>\n",
       "      <td>NC_015514</td>\n",
       "      <td>0.0</td>\n",
       "      <td>0.0</td>\n",
       "      <td>0.382899</td>\n",
       "      <td>0.0</td>\n",
       "      <td>0.007646</td>\n",
       "      <td>1.544129</td>\n",
       "      <td>1.575653</td>\n",
       "      <td>0.0</td>\n",
       "      <td>-1.45837</td>\n",
       "      <td>Listeriaceae</td>\n",
       "      <td>22</td>\n",
       "      <td>0</td>\n",
       "      <td>1.0</td>\n",
       "      <td>0.0</td>\n",
       "      <td>True</td>\n",
       "      <td>1.0</td>\n",
       "    </tr>\n",
       "    <tr>\n",
       "      <th>2213178</th>\n",
       "      <td>NC_024392</td>\n",
       "      <td>NC_011145</td>\n",
       "      <td>0.0</td>\n",
       "      <td>0.0</td>\n",
       "      <td>0.384063</td>\n",
       "      <td>0.0</td>\n",
       "      <td>0.010793</td>\n",
       "      <td>1.507242</td>\n",
       "      <td>1.526537</td>\n",
       "      <td>0.0</td>\n",
       "      <td>-1.47286</td>\n",
       "      <td>Listeriaceae</td>\n",
       "      <td>22</td>\n",
       "      <td>0</td>\n",
       "      <td>1.0</td>\n",
       "      <td>0.0</td>\n",
       "      <td>True</td>\n",
       "      <td>1.0</td>\n",
       "    </tr>\n",
       "    <tr>\n",
       "      <th>2213179</th>\n",
       "      <td>NC_024392</td>\n",
       "      <td>NC_007760</td>\n",
       "      <td>0.0</td>\n",
       "      <td>0.0</td>\n",
       "      <td>0.384709</td>\n",
       "      <td>0.0</td>\n",
       "      <td>0.010861</td>\n",
       "      <td>1.507473</td>\n",
       "      <td>1.526325</td>\n",
       "      <td>0.0</td>\n",
       "      <td>-1.47258</td>\n",
       "      <td>Listeriaceae</td>\n",
       "      <td>22</td>\n",
       "      <td>0</td>\n",
       "      <td>1.0</td>\n",
       "      <td>0.0</td>\n",
       "      <td>True</td>\n",
       "      <td>1.0</td>\n",
       "    </tr>\n",
       "  </tbody>\n",
       "</table>\n",
       "<p>2132759 rows × 18 columns</p>\n",
       "</div>"
      ],
      "text/plain": [
       "             virus       host  blastn  crisprdetect-2mismatch  gc_content  \\\n",
       "6        NC_010363  NC_012438    57.2                     0.0    0.009055   \n",
       "7        NC_010363  NC_006814    53.6                     0.0    0.010561   \n",
       "8        NC_010363  NC_021181    53.6                     0.0    0.010478   \n",
       "9        NC_010363  NC_021721    53.6                     0.0    0.125869   \n",
       "10       NC_010363  NC_018420    53.6                     0.0    0.047558   \n",
       "...            ...        ...     ...                     ...         ...   \n",
       "2213175  NC_024392  NC_009664     0.0                     0.0    0.380006   \n",
       "2213176  NC_024392  NC_011891     0.0                     0.0    0.382821   \n",
       "2213177  NC_024392  NC_015514     0.0                     0.0    0.382899   \n",
       "2213178  NC_024392  NC_011145     0.0                     0.0    0.384063   \n",
       "2213179  NC_024392  NC_007760     0.0                     0.0    0.384709   \n",
       "\n",
       "         k25  k6-chebyshev  k6-kendalltau  k6-manhattan  piler-2mismatch  \\\n",
       "6        0.0      0.002532       0.515620      0.588794              0.0   \n",
       "7        0.0      0.001443       0.445837      0.412691              0.0   \n",
       "8        0.0      0.001445       0.445844      0.412664              0.0   \n",
       "9        0.0      0.003324       0.691869      0.655933              0.0   \n",
       "10       0.0      0.008447       0.441399      0.475200              0.0   \n",
       "...      ...           ...            ...           ...              ...   \n",
       "2213175  0.0      0.006918       1.525475      1.535981              0.0   \n",
       "2213176  0.0      0.010627       1.509128      1.523096              0.0   \n",
       "2213177  0.0      0.007646       1.544129      1.575653              0.0   \n",
       "2213178  0.0      0.010793       1.507242      1.526537              0.0   \n",
       "2213179  0.0      0.010861       1.507473      1.526325              0.0   \n",
       "\n",
       "            wish             group group_code  y    0    1  estimator_correct  \\\n",
       "6       -1.35836  Streptococcaceae         41  0  0.8  0.2               True   \n",
       "7       -1.34041  Streptococcaceae         41  0  1.0  0.0               True   \n",
       "8       -1.34044  Streptococcaceae         41  0  1.0  0.0               True   \n",
       "9       -1.37431  Streptococcaceae         41  0  1.0  0.0               True   \n",
       "10      -1.35649  Streptococcaceae         41  0  0.9  0.1               True   \n",
       "...          ...               ...        ... ..  ...  ...                ...   \n",
       "2213175 -1.46593      Listeriaceae         22  0  1.0  0.0               True   \n",
       "2213176 -1.47323      Listeriaceae         22  0  1.0  0.0               True   \n",
       "2213177 -1.45837      Listeriaceae         22  0  1.0  0.0               True   \n",
       "2213178 -1.47286      Listeriaceae         22  0  1.0  0.0               True   \n",
       "2213179 -1.47258      Listeriaceae         22  0  1.0  0.0               True   \n",
       "\n",
       "         prob  \n",
       "6         0.8  \n",
       "7         1.0  \n",
       "8         1.0  \n",
       "9         1.0  \n",
       "10        0.9  \n",
       "...       ...  \n",
       "2213175   1.0  \n",
       "2213176   1.0  \n",
       "2213177   1.0  \n",
       "2213178   1.0  \n",
       "2213179   1.0  \n",
       "\n",
       "[2132759 rows x 18 columns]"
      ]
     },
     "execution_count": 15,
     "metadata": {},
     "output_type": "execute_result"
    }
   ],
   "source": [
    "correct_df = df_all[df_all['estimator_correct'] == True]\n",
    "correct_df"
   ]
  },
  {
   "cell_type": "markdown",
   "metadata": {},
   "source": [
    "Number of hosts for each virus where the estimator's prediction was correct:"
   ]
  },
  {
   "cell_type": "code",
   "execution_count": 16,
   "metadata": {},
   "outputs": [
    {
     "data": {
      "text/plain": [
       "virus\n",
       "NC_000866    2572\n",
       "NC_000871    2612\n",
       "NC_000872    2623\n",
       "NC_000896    2646\n",
       "NC_000902    2564\n",
       "             ... \n",
       "NC_024387    2601\n",
       "NC_024388    2677\n",
       "NC_024389    2673\n",
       "NC_024391    2605\n",
       "NC_024392    2655\n",
       "Name: host, Length: 820, dtype: int64"
      ]
     },
     "execution_count": 16,
     "metadata": {},
     "output_type": "execute_result"
    }
   ],
   "source": [
    "correct_df.groupby(['virus'])['host'].count()"
   ]
  },
  {
   "cell_type": "markdown",
   "metadata": {},
   "source": [
    "Determine best hosts for each virus - ones with the highest probabilities (and correct classification) "
   ]
  },
  {
   "cell_type": "code",
   "execution_count": 41,
   "metadata": {},
   "outputs": [
    {
     "data": {
      "text/plain": [
       "array(['NC_001447', 'NC_001341'], dtype=object)"
      ]
     },
     "execution_count": 41,
     "metadata": {},
     "output_type": "execute_result"
    }
   ],
   "source": [
    "pd.unique(df.loc[groups_main == 1, 'virus'])"
   ]
  },
  {
   "cell_type": "markdown",
   "metadata": {},
   "source": [
    "NOTE - need to use .groupby and .agg for scalability below !!!"
   ]
  },
  {
   "cell_type": "code",
   "execution_count": 17,
   "metadata": {},
   "outputs": [],
   "source": [
    "# WATCH OUT - long (approx. 4 min.)\n",
    "viruses = pd.unique(correct_df['virus'])\n",
    "best_hosts = {}\n",
    "\n",
    "for vir in viruses:\n",
    "    best_hosts[vir] = {}\n",
    "    best_hosts[vir]['hosts'] = []\n",
    "    vir_max_prob = max(correct_df[correct_df['virus'] == vir]['prob'])\n",
    "\n",
    "    for _, row in correct_df[correct_df['virus'] == vir].iterrows():\n",
    "        if row['prob'] == vir_max_prob:\n",
    "            best_hosts[vir]['hosts'].append((row['host'], row['prob']))"
   ]
  },
  {
   "cell_type": "markdown",
   "metadata": {},
   "source": [
    "### Write down the classification results"
   ]
  },
  {
   "cell_type": "markdown",
   "metadata": {},
   "source": [
    "Load in the taxonomy JSONs"
   ]
  },
  {
   "cell_type": "code",
   "execution_count": 18,
   "metadata": {},
   "outputs": [
    {
     "data": {
      "text/plain": [
       "dict_keys(['host', 'virus'])"
      ]
     },
     "execution_count": 18,
     "metadata": {},
     "output_type": "execute_result"
    }
   ],
   "source": [
    "import json\n",
    "import pathlib\n",
    "\n",
    "orgs = {}\n",
    "for file in pathlib.Path('./taxonomy/').iterdir():\n",
    "    with open(file, 'r') as open_file:\n",
    "        orgs[file.stem] = json.load(open_file)\n",
    "        \n",
    "orgs.keys()"
   ]
  },
  {
   "cell_type": "markdown",
   "metadata": {},
   "source": [
    "Write down the results to file"
   ]
  },
  {
   "cell_type": "markdown",
   "metadata": {},
   "source": [
    "Use .tsv because some names contain ',' - potential problems with .csv"
   ]
  },
  {
   "cell_type": "code",
   "execution_count": 27,
   "metadata": {},
   "outputs": [],
   "source": [
    "with open('host_predicions_log.tsv', 'w') as of:\n",
    "    of.write('virus_id\\tvirus_name\\thost_id\\thost_name\\tprobability\\n')\n",
    "    for key, val in best_hosts.items():\n",
    "        for el in val[\"hosts\"]:\n",
    "            of.write(f'{key}\\t{orgs[\"virus\"][key][\"organism_name\"].split(\",\")[0]}\\t{el[0]}\\t{orgs[\"host\"][el[0]][\"organism_name\"]}\\t{el[1]}\\n')\n"
   ]
  },
  {
   "cell_type": "code",
   "execution_count": 3,
   "metadata": {},
   "outputs": [],
   "source": [
    "check_df = pd.read_csv('host_predicions_log.tsv',sep='\\t')"
   ]
  },
  {
   "cell_type": "code",
   "execution_count": 6,
   "metadata": {},
   "outputs": [
    {
     "data": {
      "text/html": [
       "<div>\n",
       "<style scoped>\n",
       "    .dataframe tbody tr th:only-of-type {\n",
       "        vertical-align: middle;\n",
       "    }\n",
       "\n",
       "    .dataframe tbody tr th {\n",
       "        vertical-align: top;\n",
       "    }\n",
       "\n",
       "    .dataframe thead th {\n",
       "        text-align: right;\n",
       "    }\n",
       "</style>\n",
       "<table border=\"1\" class=\"dataframe\">\n",
       "  <thead>\n",
       "    <tr style=\"text-align: right;\">\n",
       "      <th></th>\n",
       "      <th>virus_id</th>\n",
       "      <th>virus_name</th>\n",
       "      <th>host_id</th>\n",
       "      <th>host_name</th>\n",
       "      <th>probability</th>\n",
       "    </tr>\n",
       "  </thead>\n",
       "  <tbody>\n",
       "    <tr>\n",
       "      <th>0</th>\n",
       "      <td>NC_010363</td>\n",
       "      <td>Lactococcus phage asccphi28</td>\n",
       "      <td>NC_006814</td>\n",
       "      <td>Lactobacillus acidophilus NCFM</td>\n",
       "      <td>1.0</td>\n",
       "    </tr>\n",
       "    <tr>\n",
       "      <th>1</th>\n",
       "      <td>NC_010363</td>\n",
       "      <td>Lactococcus phage asccphi28</td>\n",
       "      <td>NC_021181</td>\n",
       "      <td>Lactobacillus acidophilus La-14</td>\n",
       "      <td>1.0</td>\n",
       "    </tr>\n",
       "    <tr>\n",
       "      <th>2</th>\n",
       "      <td>NC_010363</td>\n",
       "      <td>Lactococcus phage asccphi28</td>\n",
       "      <td>NC_021721</td>\n",
       "      <td>Lactobacillus casei LOCK919</td>\n",
       "      <td>1.0</td>\n",
       "    </tr>\n",
       "    <tr>\n",
       "      <th>3</th>\n",
       "      <td>NC_010363</td>\n",
       "      <td>Lactococcus phage asccphi28</td>\n",
       "      <td>NC_023063</td>\n",
       "      <td>Ehrlichia muris AS145</td>\n",
       "      <td>1.0</td>\n",
       "    </tr>\n",
       "    <tr>\n",
       "      <th>4</th>\n",
       "      <td>NC_010363</td>\n",
       "      <td>Lactococcus phage asccphi28</td>\n",
       "      <td>NC_015856</td>\n",
       "      <td>Collimonas fungivorans Ter331</td>\n",
       "      <td>1.0</td>\n",
       "    </tr>\n",
       "    <tr>\n",
       "      <th>...</th>\n",
       "      <td>...</td>\n",
       "      <td>...</td>\n",
       "      <td>...</td>\n",
       "      <td>...</td>\n",
       "      <td>...</td>\n",
       "    </tr>\n",
       "    <tr>\n",
       "      <th>1613644</th>\n",
       "      <td>NC_007805</td>\n",
       "      <td>Pseudomonas phage F10</td>\n",
       "      <td>NC_018417</td>\n",
       "      <td>Candidatus Carsonella ruddii HT isolate Thao2000</td>\n",
       "      <td>1.0</td>\n",
       "    </tr>\n",
       "    <tr>\n",
       "      <th>1613645</th>\n",
       "      <td>NC_007805</td>\n",
       "      <td>Pseudomonas phage F10</td>\n",
       "      <td>NC_018415</td>\n",
       "      <td>Candidatus Carsonella ruddii CS isolate Thao2000</td>\n",
       "      <td>1.0</td>\n",
       "    </tr>\n",
       "    <tr>\n",
       "      <th>1613646</th>\n",
       "      <td>NC_007805</td>\n",
       "      <td>Pseudomonas phage F10</td>\n",
       "      <td>NC_018416</td>\n",
       "      <td>Candidatus Carsonella ruddii HC isolate Thao2000</td>\n",
       "      <td>1.0</td>\n",
       "    </tr>\n",
       "    <tr>\n",
       "      <th>1613647</th>\n",
       "      <td>NC_007805</td>\n",
       "      <td>Pseudomonas phage F10</td>\n",
       "      <td>NC_018414</td>\n",
       "      <td>Candidatus Carsonella ruddii CE isolate Thao2000</td>\n",
       "      <td>1.0</td>\n",
       "    </tr>\n",
       "    <tr>\n",
       "      <th>1613648</th>\n",
       "      <td>NC_007805</td>\n",
       "      <td>Pseudomonas phage F10</td>\n",
       "      <td>NC_014497</td>\n",
       "      <td>Candidatus Zinderia insecticola CARI</td>\n",
       "      <td>1.0</td>\n",
       "    </tr>\n",
       "  </tbody>\n",
       "</table>\n",
       "<p>1613649 rows × 5 columns</p>\n",
       "</div>"
      ],
      "text/plain": [
       "          virus_id                   virus_name    host_id  \\\n",
       "0        NC_010363  Lactococcus phage asccphi28  NC_006814   \n",
       "1        NC_010363  Lactococcus phage asccphi28  NC_021181   \n",
       "2        NC_010363  Lactococcus phage asccphi28  NC_021721   \n",
       "3        NC_010363  Lactococcus phage asccphi28  NC_023063   \n",
       "4        NC_010363  Lactococcus phage asccphi28  NC_015856   \n",
       "...            ...                          ...        ...   \n",
       "1613644  NC_007805        Pseudomonas phage F10  NC_018417   \n",
       "1613645  NC_007805        Pseudomonas phage F10  NC_018415   \n",
       "1613646  NC_007805        Pseudomonas phage F10  NC_018416   \n",
       "1613647  NC_007805        Pseudomonas phage F10  NC_018414   \n",
       "1613648  NC_007805        Pseudomonas phage F10  NC_014497   \n",
       "\n",
       "                                                host_name  probability  \n",
       "0                          Lactobacillus acidophilus NCFM          1.0  \n",
       "1                         Lactobacillus acidophilus La-14          1.0  \n",
       "2                             Lactobacillus casei LOCK919          1.0  \n",
       "3                                   Ehrlichia muris AS145          1.0  \n",
       "4                           Collimonas fungivorans Ter331          1.0  \n",
       "...                                                   ...          ...  \n",
       "1613644  Candidatus Carsonella ruddii HT isolate Thao2000          1.0  \n",
       "1613645  Candidatus Carsonella ruddii CS isolate Thao2000          1.0  \n",
       "1613646  Candidatus Carsonella ruddii HC isolate Thao2000          1.0  \n",
       "1613647  Candidatus Carsonella ruddii CE isolate Thao2000          1.0  \n",
       "1613648              Candidatus Zinderia insecticola CARI          1.0  \n",
       "\n",
       "[1613649 rows x 5 columns]"
      ]
     },
     "execution_count": 6,
     "metadata": {},
     "output_type": "execute_result"
    }
   ],
   "source": [
    "check_df"
   ]
  },
  {
   "cell_type": "code",
   "execution_count": 5,
   "metadata": {},
   "outputs": [
    {
     "data": {
      "text/html": [
       "<div>\n",
       "<style scoped>\n",
       "    .dataframe tbody tr th:only-of-type {\n",
       "        vertical-align: middle;\n",
       "    }\n",
       "\n",
       "    .dataframe tbody tr th {\n",
       "        vertical-align: top;\n",
       "    }\n",
       "\n",
       "    .dataframe thead th {\n",
       "        text-align: right;\n",
       "    }\n",
       "</style>\n",
       "<table border=\"1\" class=\"dataframe\">\n",
       "  <thead>\n",
       "    <tr style=\"text-align: right;\">\n",
       "      <th></th>\n",
       "      <th>virus_id</th>\n",
       "      <th>virus_name</th>\n",
       "      <th>host_id</th>\n",
       "      <th>host_name</th>\n",
       "      <th>probability</th>\n",
       "    </tr>\n",
       "  </thead>\n",
       "  <tbody>\n",
       "  </tbody>\n",
       "</table>\n",
       "</div>"
      ],
      "text/plain": [
       "Empty DataFrame\n",
       "Columns: [virus_id, virus_name, host_id, host_name, probability]\n",
       "Index: []"
      ]
     },
     "execution_count": 5,
     "metadata": {},
     "output_type": "execute_result"
    }
   ],
   "source": [
    "check_df[check_df['probability'] != 1]"
   ]
  },
  {
   "cell_type": "markdown",
   "metadata": {},
   "source": [
    "TODO: why do we have so many good predictions with such high probability?"
   ]
  },
  {
   "cell_type": "markdown",
   "metadata": {},
   "source": [
    "# TODO: implement F1 + precision/recall curves for all estimators in cross validation\n",
    "\n",
    "e.g. take estimator from cross_validate function + use from_estimator "
   ]
  },
  {
   "cell_type": "markdown",
   "metadata": {},
   "source": [
    "# Additional/old code"
   ]
  },
  {
   "cell_type": "markdown",
   "metadata": {},
   "source": [
    "Explicit tqdm handling (better visualisaition)"
   ]
  },
  {
   "cell_type": "markdown",
   "metadata": {},
   "source": [
    "*Watch out -* ***long!***\n",
    "\n",
    "*This code is for LeaveOneOut* ***only!***"
   ]
  },
  {
   "cell_type": "code",
   "execution_count": null,
   "metadata": {},
   "outputs": [],
   "source": [
    "'''\n",
    "# FOR LEAVE ONE OUT ONLY!\n",
    "from sklearn.ensemble import RandomForestClassifier\n",
    "from sklearn.metrics import accuracy_score\n",
    "from tqdm import tqdm\n",
    "# enumerate splits\n",
    "y_true, y_pred = list(), list()\n",
    "pbar = tqdm(total=len(X))\n",
    "\n",
    "for train_ix, test_ix in cv.split(X):\n",
    "    # split data\n",
    "    X_train, X_test = X[train_ix, :], X[test_ix, :]\n",
    "    y_train, y_test = y[train_ix], y[test_ix]\n",
    "    # fit model\n",
    "    model = RandomForestClassifier(n_estimators = 10, criterion = 'entropy', random_state=1)\n",
    "    model.fit(X_train, y_train)\n",
    "    # evaluate model\n",
    "    yhat = model.predict(X_test)\n",
    "    # store\n",
    "    y_true.append(y_test[0])\n",
    "    y_pred.append(yhat[0])\n",
    "    pbar.update(1)\n",
    "pbar.close()\n",
    "# calculate accuracy\n",
    "acc = accuracy_score(y_true, y_pred)\n",
    "print(f'Accuracy: {acc:.3f}')\n",
    "'''"
   ]
  },
  {
   "cell_type": "markdown",
   "metadata": {},
   "source": [
    "### Is the prediction replicable + does it work the way it's supposed to?"
   ]
  },
  {
   "cell_type": "code",
   "execution_count": null,
   "metadata": {},
   "outputs": [],
   "source": [
    "'''\n",
    "idx = learning_df[learning_df['group_code'] == 0].index\n",
    "X_ref_train = learning_df.drop(index=idx).drop(['virus', 'host', 'group', 'group_code', 'y'], axis=1).values\n",
    "X_ref_test = learning_df.iloc[idx,:].drop(['virus', 'host', 'group', 'group_code', 'y'], axis=1).values\n",
    "y_ref_train = learning_df.drop(index=idx).iloc[:, -1]\n",
    "y_ref_test = learning_df.iloc[idx,-1]\n",
    "'''"
   ]
  },
  {
   "cell_type": "code",
   "execution_count": null,
   "metadata": {},
   "outputs": [],
   "source": [
    "'''\n",
    "model = RandomForestClassifier(n_estimators = 10, criterion = 'entropy', random_state=1)\n",
    "model.fit(X_ref_train, y_ref_train)\n",
    "y_pred = model.predict(X_ref_test)\n",
    "'''"
   ]
  },
  {
   "cell_type": "code",
   "execution_count": null,
   "metadata": {},
   "outputs": [],
   "source": [
    "'''\n",
    "from sklearn.metrics import f1_score\n",
    "print(f'F1 is: {f1_score(y_ref_test, y_pred)}')\n",
    "'''"
   ]
  }
 ],
 "metadata": {
  "interpreter": {
   "hash": "b3ba2566441a7c06988d0923437866b63cedc61552a5af99d1f4fb67d367b25f"
  },
  "kernelspec": {
   "display_name": "Python 3.8.8 64-bit (conda)",
   "language": "python",
   "name": "python3"
  },
  "language_info": {
   "codemirror_mode": {
    "name": "ipython",
    "version": 3
   },
   "file_extension": ".py",
   "mimetype": "text/x-python",
   "name": "python",
   "nbconvert_exporter": "python",
   "pygments_lexer": "ipython3",
   "version": "3.8.8"
  },
  "orig_nbformat": 4
 },
 "nbformat": 4,
 "nbformat_minor": 2
}
