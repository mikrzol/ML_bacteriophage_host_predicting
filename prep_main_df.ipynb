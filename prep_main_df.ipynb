{
 "cells": [
  {
   "cell_type": "markdown",
   "metadata": {},
   "source": [
    "### Import libraries"
   ]
  },
  {
   "cell_type": "code",
   "execution_count": null,
   "metadata": {},
   "outputs": [],
   "source": [
    "import numpy as np\n",
    "import matplotlib.pyplot as plt\n",
    "import pandas as pd"
   ]
  },
  {
   "cell_type": "markdown",
   "metadata": {},
   "source": [
    "### Find the number of sequences"
   ]
  },
  {
   "cell_type": "code",
   "execution_count": null,
   "metadata": {},
   "outputs": [],
   "source": [
    "import pathlib\n",
    "vir_path = pathlib.Path('./sequences/edwards/virus/')\n",
    "host_path = pathlib.Path('./sequences/edwards/host/')\n",
    "vir_count = 0\n",
    "host_count = 0\n",
    "for vir_file in vir_path.iterdir():\n",
    "    vir_count += 1\n",
    "for host_file in host_path.iterdir():\n",
    "    host_count += 1\n",
    "\n",
    "print(f'virus files: {vir_count}')\n",
    "print(f'host files: {host_count}')\n",
    "print(f'paired files: {vir_count * host_count}')"
   ]
  },
  {
   "cell_type": "markdown",
   "metadata": {},
   "source": [
    "## Importing the dataset"
   ]
  },
  {
   "cell_type": "markdown",
   "metadata": {},
   "source": [
    "### Merge the datasets"
   ]
  },
  {
   "cell_type": "code",
   "execution_count": null,
   "metadata": {},
   "outputs": [],
   "source": [
    "import pathlib\n",
    "from functools import reduce\n",
    "\n",
    "features_path = pathlib.Path('./features/')\n",
    "dfs = [pd.read_csv(feat_file, sep='\\t', header=0) for feat_file in features_path.iterdir()]\n",
    "final_df = reduce(lambda left,right: pd.merge(left,right,on=[\"#virus\", \"bacteria\"],\n",
    "                                                    how=\"outer\"), dfs)\n",
    "final_df.shape"
   ]
  },
  {
   "cell_type": "markdown",
   "metadata": {},
   "source": [
    "### Replace the column names"
   ]
  },
  {
   "cell_type": "code",
   "execution_count": null,
   "metadata": {},
   "outputs": [],
   "source": [
    "col_names = ['#virus', 'host']\n",
    "col_names += [file.stem for file in features_path.iterdir()]\n",
    "final_df.columns = col_names\n",
    "final_df.head()"
   ]
  },
  {
   "cell_type": "code",
   "execution_count": null,
   "metadata": {},
   "outputs": [],
   "source": [
    "check_rows = final_df[~final_df.isnull().any(axis=1)]\n",
    "check_rows.head()"
   ]
  },
  {
   "cell_type": "markdown",
   "metadata": {},
   "source": [
    "## Save the dataframe to files"
   ]
  },
  {
   "cell_type": "code",
   "execution_count": null,
   "metadata": {},
   "outputs": [],
   "source": [
    "final_df.to_csv('main_df.csv',index=False)\n",
    "final_df.to_pickle('./main_df.pkl')"
   ]
  }
 ],
 "metadata": {
  "interpreter": {
   "hash": "b3ba2566441a7c06988d0923437866b63cedc61552a5af99d1f4fb67d367b25f"
  },
  "kernelspec": {
   "display_name": "Python 3.8.8 64-bit (conda)",
   "language": "python",
   "name": "python3"
  },
  "language_info": {
   "codemirror_mode": {
    "name": "ipython",
    "version": 3
   },
   "file_extension": ".py",
   "mimetype": "text/x-python",
   "name": "python",
   "nbconvert_exporter": "python",
   "pygments_lexer": "ipython3",
   "version": "3.8.8"
  },
  "orig_nbformat": 4
 },
 "nbformat": 4,
 "nbformat_minor": 2
}
