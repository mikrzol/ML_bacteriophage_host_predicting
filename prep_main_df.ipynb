{
 "cells": [
  {
   "cell_type": "markdown",
   "metadata": {},
   "source": [
    "### Import libraries"
   ]
  },
  {
   "cell_type": "code",
   "execution_count": 1,
   "metadata": {},
   "outputs": [],
   "source": [
    "import numpy as np\n",
    "import matplotlib.pyplot as plt\n",
    "import pandas as pd"
   ]
  },
  {
   "cell_type": "markdown",
   "metadata": {},
   "source": [
    "### Find the number of sequences"
   ]
  },
  {
   "cell_type": "code",
   "execution_count": 2,
   "metadata": {},
   "outputs": [
    {
     "name": "stdout",
     "output_type": "stream",
     "text": [
      "virus files: 820\n",
      "host files: 2699\n",
      "paired files: 2213180\n"
     ]
    }
   ],
   "source": [
    "import pathlib\n",
    "vir_path = pathlib.Path('./sequences/edwards/virus/')\n",
    "host_path = pathlib.Path('./sequences/edwards/host/')\n",
    "vir_count = 0\n",
    "host_count = 0\n",
    "for vir_file in vir_path.iterdir():\n",
    "    vir_count += 1\n",
    "for host_file in host_path.iterdir():\n",
    "    host_count += 1\n",
    "\n",
    "print(f'virus files: {vir_count}')\n",
    "print(f'host files: {host_count}')\n",
    "print(f'paired files: {vir_count * host_count}')"
   ]
  },
  {
   "cell_type": "markdown",
   "metadata": {},
   "source": [
    "## Importing the dataset"
   ]
  },
  {
   "cell_type": "markdown",
   "metadata": {},
   "source": [
    "### Merge the datasets"
   ]
  },
  {
   "cell_type": "code",
   "execution_count": 3,
   "metadata": {},
   "outputs": [
    {
     "data": {
      "text/plain": [
       "(2213180, 11)"
      ]
     },
     "execution_count": 3,
     "metadata": {},
     "output_type": "execute_result"
    }
   ],
   "source": [
    "import pathlib\n",
    "from functools import reduce\n",
    "\n",
    "features_path = pathlib.Path('./features/')\n",
    "dfs = [pd.read_csv(feat_file, sep='\\t', header=0) for feat_file in features_path.iterdir()]\n",
    "final_df = reduce(lambda left,right: pd.merge(left,right,on=[\"#virus\", \"bacteria\"],\n",
    "                                                    how=\"outer\"), dfs)\n",
    "final_df.shape"
   ]
  },
  {
   "cell_type": "markdown",
   "metadata": {},
   "source": [
    "### Replace the column names"
   ]
  },
  {
   "cell_type": "code",
   "execution_count": 4,
   "metadata": {},
   "outputs": [
    {
     "data": {
      "text/html": [
       "<div>\n",
       "<style scoped>\n",
       "    .dataframe tbody tr th:only-of-type {\n",
       "        vertical-align: middle;\n",
       "    }\n",
       "\n",
       "    .dataframe tbody tr th {\n",
       "        vertical-align: top;\n",
       "    }\n",
       "\n",
       "    .dataframe thead th {\n",
       "        text-align: right;\n",
       "    }\n",
       "</style>\n",
       "<table border=\"1\" class=\"dataframe\">\n",
       "  <thead>\n",
       "    <tr style=\"text-align: right;\">\n",
       "      <th></th>\n",
       "      <th>#virus</th>\n",
       "      <th>host</th>\n",
       "      <th>blastn</th>\n",
       "      <th>crisprdetect-2mismatch</th>\n",
       "      <th>gc_content</th>\n",
       "      <th>k25</th>\n",
       "      <th>k6-chebyshev</th>\n",
       "      <th>k6-kendalltau</th>\n",
       "      <th>k6-manhattan</th>\n",
       "      <th>piler-2mismatch</th>\n",
       "      <th>wish</th>\n",
       "    </tr>\n",
       "  </thead>\n",
       "  <tbody>\n",
       "    <tr>\n",
       "      <th>0</th>\n",
       "      <td>NC_010363</td>\n",
       "      <td>NC_008527</td>\n",
       "      <td>60.8</td>\n",
       "      <td>NaN</td>\n",
       "      <td>0.021973</td>\n",
       "      <td>NaN</td>\n",
       "      <td>0.002122</td>\n",
       "      <td>0.398421</td>\n",
       "      <td>0.382144</td>\n",
       "      <td>NaN</td>\n",
       "      <td>-1.33553</td>\n",
       "    </tr>\n",
       "    <tr>\n",
       "      <th>1</th>\n",
       "      <td>NC_010363</td>\n",
       "      <td>NC_002662</td>\n",
       "      <td>59.0</td>\n",
       "      <td>NaN</td>\n",
       "      <td>0.016709</td>\n",
       "      <td>NaN</td>\n",
       "      <td>0.001929</td>\n",
       "      <td>0.397773</td>\n",
       "      <td>0.377498</td>\n",
       "      <td>NaN</td>\n",
       "      <td>-1.33035</td>\n",
       "    </tr>\n",
       "    <tr>\n",
       "      <th>2</th>\n",
       "      <td>NC_010363</td>\n",
       "      <td>NC_017949</td>\n",
       "      <td>59.0</td>\n",
       "      <td>NaN</td>\n",
       "      <td>0.020818</td>\n",
       "      <td>NaN</td>\n",
       "      <td>0.002088</td>\n",
       "      <td>0.396969</td>\n",
       "      <td>0.379686</td>\n",
       "      <td>NaN</td>\n",
       "      <td>-1.33341</td>\n",
       "    </tr>\n",
       "    <tr>\n",
       "      <th>3</th>\n",
       "      <td>NC_010363</td>\n",
       "      <td>NC_017492</td>\n",
       "      <td>59.0</td>\n",
       "      <td>NaN</td>\n",
       "      <td>0.022209</td>\n",
       "      <td>NaN</td>\n",
       "      <td>0.002131</td>\n",
       "      <td>0.396148</td>\n",
       "      <td>0.380930</td>\n",
       "      <td>NaN</td>\n",
       "      <td>-1.33767</td>\n",
       "    </tr>\n",
       "    <tr>\n",
       "      <th>4</th>\n",
       "      <td>NC_010363</td>\n",
       "      <td>NC_009004</td>\n",
       "      <td>59.0</td>\n",
       "      <td>NaN</td>\n",
       "      <td>0.020871</td>\n",
       "      <td>NaN</td>\n",
       "      <td>0.002088</td>\n",
       "      <td>0.397095</td>\n",
       "      <td>0.379834</td>\n",
       "      <td>NaN</td>\n",
       "      <td>-1.33341</td>\n",
       "    </tr>\n",
       "  </tbody>\n",
       "</table>\n",
       "</div>"
      ],
      "text/plain": [
       "      #virus       host  blastn  crisprdetect-2mismatch  gc_content  k25  \\\n",
       "0  NC_010363  NC_008527    60.8                     NaN    0.021973  NaN   \n",
       "1  NC_010363  NC_002662    59.0                     NaN    0.016709  NaN   \n",
       "2  NC_010363  NC_017949    59.0                     NaN    0.020818  NaN   \n",
       "3  NC_010363  NC_017492    59.0                     NaN    0.022209  NaN   \n",
       "4  NC_010363  NC_009004    59.0                     NaN    0.020871  NaN   \n",
       "\n",
       "   k6-chebyshev  k6-kendalltau  k6-manhattan  piler-2mismatch     wish  \n",
       "0      0.002122       0.398421      0.382144              NaN -1.33553  \n",
       "1      0.001929       0.397773      0.377498              NaN -1.33035  \n",
       "2      0.002088       0.396969      0.379686              NaN -1.33341  \n",
       "3      0.002131       0.396148      0.380930              NaN -1.33767  \n",
       "4      0.002088       0.397095      0.379834              NaN -1.33341  "
      ]
     },
     "execution_count": 4,
     "metadata": {},
     "output_type": "execute_result"
    }
   ],
   "source": [
    "col_names = ['#virus', 'host']\n",
    "col_names += [file.stem for file in features_path.iterdir()]\n",
    "final_df.columns = col_names\n",
    "final_df.head()"
   ]
  },
  {
   "cell_type": "code",
   "execution_count": 5,
   "metadata": {},
   "outputs": [
    {
     "data": {
      "text/html": [
       "<div>\n",
       "<style scoped>\n",
       "    .dataframe tbody tr th:only-of-type {\n",
       "        vertical-align: middle;\n",
       "    }\n",
       "\n",
       "    .dataframe tbody tr th {\n",
       "        vertical-align: top;\n",
       "    }\n",
       "\n",
       "    .dataframe thead th {\n",
       "        text-align: right;\n",
       "    }\n",
       "</style>\n",
       "<table border=\"1\" class=\"dataframe\">\n",
       "  <thead>\n",
       "    <tr style=\"text-align: right;\">\n",
       "      <th></th>\n",
       "      <th>#virus</th>\n",
       "      <th>host</th>\n",
       "      <th>blastn</th>\n",
       "      <th>crisprdetect-2mismatch</th>\n",
       "      <th>gc_content</th>\n",
       "      <th>k25</th>\n",
       "      <th>k6-chebyshev</th>\n",
       "      <th>k6-kendalltau</th>\n",
       "      <th>k6-manhattan</th>\n",
       "      <th>piler-2mismatch</th>\n",
       "      <th>wish</th>\n",
       "    </tr>\n",
       "  </thead>\n",
       "  <tbody>\n",
       "    <tr>\n",
       "      <th>3611</th>\n",
       "      <td>NC_011357</td>\n",
       "      <td>NC_012731</td>\n",
       "      <td>670.0</td>\n",
       "      <td>1.0</td>\n",
       "      <td>0.067620</td>\n",
       "      <td>2.0</td>\n",
       "      <td>0.002660</td>\n",
       "      <td>0.468791</td>\n",
       "      <td>0.410775</td>\n",
       "      <td>1.0</td>\n",
       "      <td>-1.38249</td>\n",
       "    </tr>\n",
       "    <tr>\n",
       "      <th>4182</th>\n",
       "      <td>NC_004585</td>\n",
       "      <td>NC_008022</td>\n",
       "      <td>22561.0</td>\n",
       "      <td>2.0</td>\n",
       "      <td>0.001751</td>\n",
       "      <td>14364.0</td>\n",
       "      <td>0.000713</td>\n",
       "      <td>0.285006</td>\n",
       "      <td>0.232619</td>\n",
       "      <td>1.0</td>\n",
       "      <td>-1.33040</td>\n",
       "    </tr>\n",
       "    <tr>\n",
       "      <th>4183</th>\n",
       "      <td>NC_004585</td>\n",
       "      <td>NC_008021</td>\n",
       "      <td>22561.0</td>\n",
       "      <td>2.0</td>\n",
       "      <td>0.002832</td>\n",
       "      <td>10850.0</td>\n",
       "      <td>0.000736</td>\n",
       "      <td>0.288697</td>\n",
       "      <td>0.235694</td>\n",
       "      <td>2.0</td>\n",
       "      <td>-1.33668</td>\n",
       "    </tr>\n",
       "    <tr>\n",
       "      <th>4187</th>\n",
       "      <td>NC_004585</td>\n",
       "      <td>NC_002737</td>\n",
       "      <td>12311.0</td>\n",
       "      <td>2.0</td>\n",
       "      <td>0.002570</td>\n",
       "      <td>6765.0</td>\n",
       "      <td>0.000741</td>\n",
       "      <td>0.290344</td>\n",
       "      <td>0.237060</td>\n",
       "      <td>2.0</td>\n",
       "      <td>-1.34749</td>\n",
       "    </tr>\n",
       "    <tr>\n",
       "      <th>4190</th>\n",
       "      <td>NC_004585</td>\n",
       "      <td>NC_020540</td>\n",
       "      <td>4621.0</td>\n",
       "      <td>3.0</td>\n",
       "      <td>0.002453</td>\n",
       "      <td>5271.0</td>\n",
       "      <td>0.000749</td>\n",
       "      <td>0.290872</td>\n",
       "      <td>0.237612</td>\n",
       "      <td>1.0</td>\n",
       "      <td>-1.36364</td>\n",
       "    </tr>\n",
       "  </tbody>\n",
       "</table>\n",
       "</div>"
      ],
      "text/plain": [
       "         #virus       host   blastn  crisprdetect-2mismatch  gc_content  \\\n",
       "3611  NC_011357  NC_012731    670.0                     1.0    0.067620   \n",
       "4182  NC_004585  NC_008022  22561.0                     2.0    0.001751   \n",
       "4183  NC_004585  NC_008021  22561.0                     2.0    0.002832   \n",
       "4187  NC_004585  NC_002737  12311.0                     2.0    0.002570   \n",
       "4190  NC_004585  NC_020540   4621.0                     3.0    0.002453   \n",
       "\n",
       "          k25  k6-chebyshev  k6-kendalltau  k6-manhattan  piler-2mismatch  \\\n",
       "3611      2.0      0.002660       0.468791      0.410775              1.0   \n",
       "4182  14364.0      0.000713       0.285006      0.232619              1.0   \n",
       "4183  10850.0      0.000736       0.288697      0.235694              2.0   \n",
       "4187   6765.0      0.000741       0.290344      0.237060              2.0   \n",
       "4190   5271.0      0.000749       0.290872      0.237612              1.0   \n",
       "\n",
       "         wish  \n",
       "3611 -1.38249  \n",
       "4182 -1.33040  \n",
       "4183 -1.33668  \n",
       "4187 -1.34749  \n",
       "4190 -1.36364  "
      ]
     },
     "execution_count": 5,
     "metadata": {},
     "output_type": "execute_result"
    }
   ],
   "source": [
    "check_rows = final_df[~final_df.isnull().any(axis=1)]\n",
    "check_rows.head()"
   ]
  },
  {
   "cell_type": "markdown",
   "metadata": {},
   "source": [
    "## Save the dataframe to files"
   ]
  },
  {
   "cell_type": "code",
   "execution_count": 7,
   "metadata": {},
   "outputs": [],
   "source": [
    "final_df.to_csv('main_df.csv',index=False)\n",
    "final_df.to_pickle('./main_df.pkl')"
   ]
  }
 ],
 "metadata": {
  "interpreter": {
   "hash": "b3ba2566441a7c06988d0923437866b63cedc61552a5af99d1f4fb67d367b25f"
  },
  "kernelspec": {
   "display_name": "Python 3.8.8 64-bit (conda)",
   "language": "python",
   "name": "python3"
  },
  "language_info": {
   "codemirror_mode": {
    "name": "ipython",
    "version": 3
   },
   "file_extension": ".py",
   "mimetype": "text/x-python",
   "name": "python",
   "nbconvert_exporter": "python",
   "pygments_lexer": "ipython3",
   "version": "3.8.8"
  },
  "orig_nbformat": 4
 },
 "nbformat": 4,
 "nbformat_minor": 2
}
