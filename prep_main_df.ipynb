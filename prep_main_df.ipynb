{
 "cells": [
  {
   "cell_type": "markdown",
   "metadata": {},
   "source": [
    "### Import libraries"
   ]
  },
  {
   "cell_type": "code",
   "execution_count": 1,
   "metadata": {},
   "outputs": [],
   "source": [
    "import numpy as np\n",
    "import matplotlib.pyplot as plt\n",
    "import pandas as pd"
   ]
  },
  {
   "cell_type": "markdown",
   "metadata": {},
   "source": [
    "### Find the number of sequences"
   ]
  },
  {
   "cell_type": "code",
   "execution_count": 2,
   "metadata": {},
   "outputs": [
    {
     "data": {
      "text/plain": [
       "\"\\nimport pathlib\\nvir_path = pathlib.Path('./sequences/edwards/virus/')\\nhost_path = pathlib.Path('./sequences/edwards/host/')\\nvir_count = 0\\nhost_count = 0\\nfor vir_file in vir_path.iterdir():\\n    vir_count += 1\\nfor host_file in host_path.iterdir():\\n    host_count += 1\\n\\nprint(f'virus files: {vir_count}')\\nprint(f'host files: {host_count}')\\nprint(f'paired files: {vir_count * host_count}')\\n\""
      ]
     },
     "execution_count": 2,
     "metadata": {},
     "output_type": "execute_result"
    }
   ],
   "source": [
    "'''\n",
    "import pathlib\n",
    "vir_path = pathlib.Path('./sequences/edwards/virus/')\n",
    "host_path = pathlib.Path('./sequences/edwards/host/')\n",
    "vir_count = 0\n",
    "host_count = 0\n",
    "for vir_file in vir_path.iterdir():\n",
    "    vir_count += 1\n",
    "for host_file in host_path.iterdir():\n",
    "    host_count += 1\n",
    "\n",
    "print(f'virus files: {vir_count}')\n",
    "print(f'host files: {host_count}')\n",
    "print(f'paired files: {vir_count * host_count}')\n",
    "'''"
   ]
  },
  {
   "cell_type": "markdown",
   "metadata": {},
   "source": [
    "## Importing the dataset"
   ]
  },
  {
   "cell_type": "markdown",
   "metadata": {},
   "source": [
    "### Merge the datasets"
   ]
  },
  {
   "cell_type": "code",
   "execution_count": 3,
   "metadata": {},
   "outputs": [
    {
     "data": {
      "text/plain": [
       "(2213180, 11)"
      ]
     },
     "execution_count": 3,
     "metadata": {},
     "output_type": "execute_result"
    }
   ],
   "source": [
    "import pathlib\n",
    "from functools import reduce\n",
    "\n",
    "features_path = pathlib.Path('./features/')\n",
    "dfs = [pd.read_csv(feat_file, sep='\\t', header=0) \n",
    "                    for feat_file in features_path.iterdir()]\n",
    "final_df = reduce(lambda left,right: \n",
    "                pd.merge(left,right,\n",
    "                on=[\"#virus\", \"bacteria\"],how=\"outer\"), dfs)\n",
    "final_df.shape"
   ]
  },
  {
   "cell_type": "markdown",
   "metadata": {},
   "source": [
    "## Replace the column names"
   ]
  },
  {
   "cell_type": "code",
   "execution_count": 4,
   "metadata": {},
   "outputs": [
    {
     "data": {
      "text/html": [
       "<div>\n",
       "<style scoped>\n",
       "    .dataframe tbody tr th:only-of-type {\n",
       "        vertical-align: middle;\n",
       "    }\n",
       "\n",
       "    .dataframe tbody tr th {\n",
       "        vertical-align: top;\n",
       "    }\n",
       "\n",
       "    .dataframe thead th {\n",
       "        text-align: right;\n",
       "    }\n",
       "</style>\n",
       "<table border=\"1\" class=\"dataframe\">\n",
       "  <thead>\n",
       "    <tr style=\"text-align: right;\">\n",
       "      <th></th>\n",
       "      <th>virus</th>\n",
       "      <th>host</th>\n",
       "      <th>blastn</th>\n",
       "      <th>crisprdetect-2mismatch</th>\n",
       "      <th>gc_content</th>\n",
       "      <th>k25</th>\n",
       "      <th>k6-chebyshev</th>\n",
       "      <th>k6-kendalltau</th>\n",
       "      <th>k6-manhattan</th>\n",
       "      <th>piler-2mismatch</th>\n",
       "      <th>wish</th>\n",
       "    </tr>\n",
       "  </thead>\n",
       "  <tbody>\n",
       "    <tr>\n",
       "      <th>0</th>\n",
       "      <td>NC_010363</td>\n",
       "      <td>NC_008527</td>\n",
       "      <td>60.8</td>\n",
       "      <td>NaN</td>\n",
       "      <td>0.021973</td>\n",
       "      <td>NaN</td>\n",
       "      <td>0.002122</td>\n",
       "      <td>0.398421</td>\n",
       "      <td>0.382144</td>\n",
       "      <td>NaN</td>\n",
       "      <td>-1.33553</td>\n",
       "    </tr>\n",
       "    <tr>\n",
       "      <th>1</th>\n",
       "      <td>NC_010363</td>\n",
       "      <td>NC_002662</td>\n",
       "      <td>59.0</td>\n",
       "      <td>NaN</td>\n",
       "      <td>0.016709</td>\n",
       "      <td>NaN</td>\n",
       "      <td>0.001929</td>\n",
       "      <td>0.397773</td>\n",
       "      <td>0.377498</td>\n",
       "      <td>NaN</td>\n",
       "      <td>-1.33035</td>\n",
       "    </tr>\n",
       "    <tr>\n",
       "      <th>2</th>\n",
       "      <td>NC_010363</td>\n",
       "      <td>NC_017949</td>\n",
       "      <td>59.0</td>\n",
       "      <td>NaN</td>\n",
       "      <td>0.020818</td>\n",
       "      <td>NaN</td>\n",
       "      <td>0.002088</td>\n",
       "      <td>0.396969</td>\n",
       "      <td>0.379686</td>\n",
       "      <td>NaN</td>\n",
       "      <td>-1.33341</td>\n",
       "    </tr>\n",
       "    <tr>\n",
       "      <th>3</th>\n",
       "      <td>NC_010363</td>\n",
       "      <td>NC_017492</td>\n",
       "      <td>59.0</td>\n",
       "      <td>NaN</td>\n",
       "      <td>0.022209</td>\n",
       "      <td>NaN</td>\n",
       "      <td>0.002131</td>\n",
       "      <td>0.396148</td>\n",
       "      <td>0.380930</td>\n",
       "      <td>NaN</td>\n",
       "      <td>-1.33767</td>\n",
       "    </tr>\n",
       "    <tr>\n",
       "      <th>4</th>\n",
       "      <td>NC_010363</td>\n",
       "      <td>NC_009004</td>\n",
       "      <td>59.0</td>\n",
       "      <td>NaN</td>\n",
       "      <td>0.020871</td>\n",
       "      <td>NaN</td>\n",
       "      <td>0.002088</td>\n",
       "      <td>0.397095</td>\n",
       "      <td>0.379834</td>\n",
       "      <td>NaN</td>\n",
       "      <td>-1.33341</td>\n",
       "    </tr>\n",
       "  </tbody>\n",
       "</table>\n",
       "</div>"
      ],
      "text/plain": [
       "       virus       host  blastn  crisprdetect-2mismatch  gc_content  k25  \\\n",
       "0  NC_010363  NC_008527    60.8                     NaN    0.021973  NaN   \n",
       "1  NC_010363  NC_002662    59.0                     NaN    0.016709  NaN   \n",
       "2  NC_010363  NC_017949    59.0                     NaN    0.020818  NaN   \n",
       "3  NC_010363  NC_017492    59.0                     NaN    0.022209  NaN   \n",
       "4  NC_010363  NC_009004    59.0                     NaN    0.020871  NaN   \n",
       "\n",
       "   k6-chebyshev  k6-kendalltau  k6-manhattan  piler-2mismatch     wish  \n",
       "0      0.002122       0.398421      0.382144              NaN -1.33553  \n",
       "1      0.001929       0.397773      0.377498              NaN -1.33035  \n",
       "2      0.002088       0.396969      0.379686              NaN -1.33341  \n",
       "3      0.002131       0.396148      0.380930              NaN -1.33767  \n",
       "4      0.002088       0.397095      0.379834              NaN -1.33341  "
      ]
     },
     "execution_count": 4,
     "metadata": {},
     "output_type": "execute_result"
    }
   ],
   "source": [
    "col_names = ['virus', 'host']\n",
    "col_names += [file.stem for file in features_path.iterdir()]\n",
    "final_df.columns = col_names\n",
    "final_df.head()"
   ]
  },
  {
   "cell_type": "markdown",
   "metadata": {},
   "source": [
    "## Handle missing values"
   ]
  },
  {
   "cell_type": "markdown",
   "metadata": {},
   "source": [
    "### Check for missing values"
   ]
  },
  {
   "cell_type": "code",
   "execution_count": 5,
   "metadata": {},
   "outputs": [
    {
     "data": {
      "text/html": [
       "<div>\n",
       "<style scoped>\n",
       "    .dataframe tbody tr th:only-of-type {\n",
       "        vertical-align: middle;\n",
       "    }\n",
       "\n",
       "    .dataframe tbody tr th {\n",
       "        vertical-align: top;\n",
       "    }\n",
       "\n",
       "    .dataframe thead th {\n",
       "        text-align: right;\n",
       "    }\n",
       "</style>\n",
       "<table border=\"1\" class=\"dataframe\">\n",
       "  <thead>\n",
       "    <tr style=\"text-align: right;\">\n",
       "      <th></th>\n",
       "      <th>virus</th>\n",
       "      <th>host</th>\n",
       "      <th>blastn</th>\n",
       "      <th>crisprdetect-2mismatch</th>\n",
       "      <th>gc_content</th>\n",
       "      <th>k25</th>\n",
       "      <th>k6-chebyshev</th>\n",
       "      <th>k6-kendalltau</th>\n",
       "      <th>k6-manhattan</th>\n",
       "      <th>piler-2mismatch</th>\n",
       "      <th>wish</th>\n",
       "    </tr>\n",
       "  </thead>\n",
       "  <tbody>\n",
       "    <tr>\n",
       "      <th>3611</th>\n",
       "      <td>NC_011357</td>\n",
       "      <td>NC_012731</td>\n",
       "      <td>670.0</td>\n",
       "      <td>1.0</td>\n",
       "      <td>0.067620</td>\n",
       "      <td>2.0</td>\n",
       "      <td>0.002660</td>\n",
       "      <td>0.468791</td>\n",
       "      <td>0.410775</td>\n",
       "      <td>1.0</td>\n",
       "      <td>-1.38249</td>\n",
       "    </tr>\n",
       "    <tr>\n",
       "      <th>4182</th>\n",
       "      <td>NC_004585</td>\n",
       "      <td>NC_008022</td>\n",
       "      <td>22561.0</td>\n",
       "      <td>2.0</td>\n",
       "      <td>0.001751</td>\n",
       "      <td>14364.0</td>\n",
       "      <td>0.000713</td>\n",
       "      <td>0.285006</td>\n",
       "      <td>0.232619</td>\n",
       "      <td>1.0</td>\n",
       "      <td>-1.33040</td>\n",
       "    </tr>\n",
       "    <tr>\n",
       "      <th>4183</th>\n",
       "      <td>NC_004585</td>\n",
       "      <td>NC_008021</td>\n",
       "      <td>22561.0</td>\n",
       "      <td>2.0</td>\n",
       "      <td>0.002832</td>\n",
       "      <td>10850.0</td>\n",
       "      <td>0.000736</td>\n",
       "      <td>0.288697</td>\n",
       "      <td>0.235694</td>\n",
       "      <td>2.0</td>\n",
       "      <td>-1.33668</td>\n",
       "    </tr>\n",
       "    <tr>\n",
       "      <th>4187</th>\n",
       "      <td>NC_004585</td>\n",
       "      <td>NC_002737</td>\n",
       "      <td>12311.0</td>\n",
       "      <td>2.0</td>\n",
       "      <td>0.002570</td>\n",
       "      <td>6765.0</td>\n",
       "      <td>0.000741</td>\n",
       "      <td>0.290344</td>\n",
       "      <td>0.237060</td>\n",
       "      <td>2.0</td>\n",
       "      <td>-1.34749</td>\n",
       "    </tr>\n",
       "    <tr>\n",
       "      <th>4190</th>\n",
       "      <td>NC_004585</td>\n",
       "      <td>NC_020540</td>\n",
       "      <td>4621.0</td>\n",
       "      <td>3.0</td>\n",
       "      <td>0.002453</td>\n",
       "      <td>5271.0</td>\n",
       "      <td>0.000749</td>\n",
       "      <td>0.290872</td>\n",
       "      <td>0.237612</td>\n",
       "      <td>1.0</td>\n",
       "      <td>-1.36364</td>\n",
       "    </tr>\n",
       "  </tbody>\n",
       "</table>\n",
       "</div>"
      ],
      "text/plain": [
       "          virus       host   blastn  crisprdetect-2mismatch  gc_content  \\\n",
       "3611  NC_011357  NC_012731    670.0                     1.0    0.067620   \n",
       "4182  NC_004585  NC_008022  22561.0                     2.0    0.001751   \n",
       "4183  NC_004585  NC_008021  22561.0                     2.0    0.002832   \n",
       "4187  NC_004585  NC_002737  12311.0                     2.0    0.002570   \n",
       "4190  NC_004585  NC_020540   4621.0                     3.0    0.002453   \n",
       "\n",
       "          k25  k6-chebyshev  k6-kendalltau  k6-manhattan  piler-2mismatch  \\\n",
       "3611      2.0      0.002660       0.468791      0.410775              1.0   \n",
       "4182  14364.0      0.000713       0.285006      0.232619              1.0   \n",
       "4183  10850.0      0.000736       0.288697      0.235694              2.0   \n",
       "4187   6765.0      0.000741       0.290344      0.237060              2.0   \n",
       "4190   5271.0      0.000749       0.290872      0.237612              1.0   \n",
       "\n",
       "         wish  \n",
       "3611 -1.38249  \n",
       "4182 -1.33040  \n",
       "4183 -1.33668  \n",
       "4187 -1.34749  \n",
       "4190 -1.36364  "
      ]
     },
     "execution_count": 5,
     "metadata": {},
     "output_type": "execute_result"
    }
   ],
   "source": [
    "check_rows = final_df[~final_df.isnull().any(axis=1)]\n",
    "check_rows.head()"
   ]
  },
  {
   "cell_type": "code",
   "execution_count": 6,
   "metadata": {},
   "outputs": [
    {
     "data": {
      "text/plain": [
       "(469, 11)"
      ]
     },
     "execution_count": 6,
     "metadata": {},
     "output_type": "execute_result"
    }
   ],
   "source": [
    "check_rows.shape"
   ]
  },
  {
   "cell_type": "markdown",
   "metadata": {},
   "source": [
    "### Check number of missing values"
   ]
  },
  {
   "cell_type": "code",
   "execution_count": 7,
   "metadata": {},
   "outputs": [
    {
     "data": {
      "text/plain": [
       "virus                           0\n",
       "host                            0\n",
       "blastn                    1925573\n",
       "crisprdetect-2mismatch    2212430\n",
       "gc_content                      0\n",
       "k25                       2154290\n",
       "k6-chebyshev                    0\n",
       "k6-kendalltau                   0\n",
       "k6-manhattan                    0\n",
       "piler-2mismatch           2212592\n",
       "wish                            0\n",
       "dtype: int64"
      ]
     },
     "execution_count": 7,
     "metadata": {},
     "output_type": "execute_result"
    }
   ],
   "source": [
    "final_df.isna().sum()"
   ]
  },
  {
   "cell_type": "code",
   "execution_count": 8,
   "metadata": {},
   "outputs": [
    {
     "data": {
      "text/plain": [
       "virus                     2213180\n",
       "host                      2213180\n",
       "blastn                     287607\n",
       "crisprdetect-2mismatch        750\n",
       "gc_content                2213180\n",
       "k25                         58890\n",
       "k6-chebyshev              2213180\n",
       "k6-kendalltau             2213180\n",
       "k6-manhattan              2213180\n",
       "piler-2mismatch               588\n",
       "wish                      2213180\n",
       "dtype: int64"
      ]
     },
     "execution_count": 8,
     "metadata": {},
     "output_type": "execute_result"
    }
   ],
   "source": [
    "final_df.notnull().sum()"
   ]
  },
  {
   "cell_type": "markdown",
   "metadata": {},
   "source": [
    "### Fill missing values (according to promoter's suggestions)"
   ]
  },
  {
   "cell_type": "code",
   "execution_count": 9,
   "metadata": {},
   "outputs": [],
   "source": [
    "final_df['blastn'].fillna(0, inplace=True)\n",
    "final_df['crisprdetect-2mismatch'].fillna(0, inplace=True)\n",
    "final_df['k25'].fillna(0, inplace=True)\n",
    "final_df['piler-2mismatch'].fillna(0, inplace=True)"
   ]
  },
  {
   "cell_type": "code",
   "execution_count": 10,
   "metadata": {},
   "outputs": [
    {
     "data": {
      "text/plain": [
       "virus                     0\n",
       "host                      0\n",
       "blastn                    0\n",
       "crisprdetect-2mismatch    0\n",
       "gc_content                0\n",
       "k25                       0\n",
       "k6-chebyshev              0\n",
       "k6-kendalltau             0\n",
       "k6-manhattan              0\n",
       "piler-2mismatch           0\n",
       "wish                      0\n",
       "dtype: int64"
      ]
     },
     "execution_count": 10,
     "metadata": {},
     "output_type": "execute_result"
    }
   ],
   "source": [
    "final_df.isna().sum()"
   ]
  },
  {
   "cell_type": "markdown",
   "metadata": {},
   "source": [
    "## Find labels (which viruses infect which hosts in nature)"
   ]
  },
  {
   "cell_type": "markdown",
   "metadata": {},
   "source": [
    "### Load in the taxonomy JSONs"
   ]
  },
  {
   "cell_type": "code",
   "execution_count": 11,
   "metadata": {},
   "outputs": [
    {
     "data": {
      "text/plain": [
       "dict_keys(['host', 'virus'])"
      ]
     },
     "execution_count": 11,
     "metadata": {},
     "output_type": "execute_result"
    }
   ],
   "source": [
    "import json\n",
    "import pathlib\n",
    "\n",
    "orgs = {}\n",
    "for file in pathlib.Path('./taxonomy/').iterdir():\n",
    "    with open(file, 'r') as open_file:\n",
    "        orgs[file.stem] = json.load(open_file)\n",
    "        \n",
    "orgs.keys()"
   ]
  },
  {
   "cell_type": "markdown",
   "metadata": {},
   "source": [
    "### Find groups for LeaveOneGroupOut"
   ]
  },
  {
   "cell_type": "code",
   "execution_count": 12,
   "metadata": {},
   "outputs": [],
   "source": [
    "final_df['group'] = final_df.apply(lambda row: \n",
    "                    orgs['virus'][row['virus']]['host']['lineage_names'][-3], axis=1)"
   ]
  },
  {
   "cell_type": "code",
   "execution_count": 13,
   "metadata": {},
   "outputs": [
    {
     "data": {
      "text/plain": [
       "array(['Streptococcaceae', 'Xanthomonadaceae', 'Enterobacteriaceae',\n",
       "       'Aeromonadaceae', 'Staphylococcaceae', 'Nocardiaceae',\n",
       "       'Streptomycetaceae', 'Rhodobacteraceae', 'Burkholderiaceae',\n",
       "       'Enterococcaceae', 'Pseudomonadaceae', 'Bacillaceae',\n",
       "       'Leuconostocaceae', 'Moraxellaceae', 'Vibrionaceae',\n",
       "       'Listeriaceae', 'Lactobacillaceae', 'Campylobacteraceae',\n",
       "       'Propionibacteriaceae', 'Mycobacteriaceae', 'Chlamydiaceae',\n",
       "       'Clostridiaceae', 'Shewanellaceae', 'Prochlorococcaceae',\n",
       "       'Pasteurellaceae', 'Bacteroidaceae',\n",
       "       'Thermoanaerobacterales Family III. Incertae Sedis',\n",
       "       'Helicobacteraceae', 'Brucellaceae', 'Peptostreptococcaceae',\n",
       "       'Microbacteriaceae', 'Acholeplasmataceae', 'Flavobacteriaceae',\n",
       "       'Rhizobiaceae', 'Mycoplasmataceae', 'Caulobacteraceae',\n",
       "       'Thermaceae', 'Alcaligenaceae', 'Bdellovibrionaceae',\n",
       "       'Rhodospirillaceae', 'Rhodothermaceae', 'Comamonadaceae', '',\n",
       "       'Corynebacteriaceae', 'Alteromonadaceae', 'Myxococcaceae',\n",
       "       'Nostocaceae', 'Tsukamurellaceae'], dtype=object)"
      ]
     },
     "execution_count": 13,
     "metadata": {},
     "output_type": "execute_result"
    }
   ],
   "source": [
    "pd.unique(final_df['group'])"
   ]
  },
  {
   "cell_type": "code",
   "execution_count": 14,
   "metadata": {},
   "outputs": [
    {
     "data": {
      "text/plain": [
       "Enterobacteriaceae                                   569489\n",
       "Pseudomonadaceae                                     251007\n",
       "Staphylococcaceae                                    199726\n",
       "Streptococcaceae                                     188930\n",
       "Bacillaceae                                          140348\n",
       "Burkholderiaceae                                     113358\n",
       "Vibrionaceae                                          94465\n",
       "Mycobacteriaceae                                      59378\n",
       "Propionibacteriaceae                                  59378\n",
       "Xanthomonadaceae                                      48582\n",
       "Lactobacillaceae                                      43184\n",
       "Listeriaceae                                          43184\n",
       "Clostridiaceae                                        35087\n",
       "Enterococcaceae                                       35087\n",
       "Aeromonadaceae                                        32388\n",
       "Nocardiaceae                                          26990\n",
       "Moraxellaceae                                         21592\n",
       "Pasteurellaceae                                       21592\n",
       "Leuconostocaceae                                      18893\n",
       "Peptostreptococcaceae                                 18893\n",
       "Caulobacteraceae                                      18893\n",
       "Streptomycetaceae                                     16194\n",
       "Chlamydiaceae                                         16194\n",
       "Thermaceae                                            13495\n",
       "Rhodobacteraceae                                      13495\n",
       "Flavobacteriaceae                                     10796\n",
       "Helicobacteraceae                                     10796\n",
       "Alcaligenaceae                                         8097\n",
       "Campylobacteraceae                                     8097\n",
       "Bdellovibrionaceae                                     8097\n",
       "Mycoplasmataceae                                       8097\n",
       "Bacteroidaceae                                         5398\n",
       "Brucellaceae                                           5398\n",
       "Acholeplasmataceae                                     5398\n",
       "Microbacteriaceae                                      5398\n",
       "Rhizobiaceae                                           5398\n",
       "Thermoanaerobacterales Family III. Incertae Sedis      2699\n",
       "Myxococcaceae                                          2699\n",
       "                                                       2699\n",
       "Rhodospirillaceae                                      2699\n",
       "Shewanellaceae                                         2699\n",
       "Comamonadaceae                                         2699\n",
       "Corynebacteriaceae                                     2699\n",
       "Tsukamurellaceae                                       2699\n",
       "Alteromonadaceae                                       2699\n",
       "Prochlorococcaceae                                     2699\n",
       "Nostocaceae                                            2699\n",
       "Rhodothermaceae                                        2699\n",
       "Name: group, dtype: int64"
      ]
     },
     "execution_count": 14,
     "metadata": {},
     "output_type": "execute_result"
    }
   ],
   "source": [
    "final_df['group'].value_counts()"
   ]
  },
  {
   "cell_type": "code",
   "execution_count": 15,
   "metadata": {},
   "outputs": [
    {
     "data": {
      "text/plain": [
       "48"
      ]
     },
     "execution_count": 15,
     "metadata": {},
     "output_type": "execute_result"
    }
   ],
   "source": [
    "len(pd.unique(final_df['group']))"
   ]
  },
  {
   "cell_type": "code",
   "execution_count": 16,
   "metadata": {},
   "outputs": [
    {
     "data": {
      "text/html": [
       "<div>\n",
       "<style scoped>\n",
       "    .dataframe tbody tr th:only-of-type {\n",
       "        vertical-align: middle;\n",
       "    }\n",
       "\n",
       "    .dataframe tbody tr th {\n",
       "        vertical-align: top;\n",
       "    }\n",
       "\n",
       "    .dataframe thead th {\n",
       "        text-align: right;\n",
       "    }\n",
       "</style>\n",
       "<table border=\"1\" class=\"dataframe\">\n",
       "  <thead>\n",
       "    <tr style=\"text-align: right;\">\n",
       "      <th></th>\n",
       "      <th>virus</th>\n",
       "      <th>host</th>\n",
       "      <th>blastn</th>\n",
       "      <th>crisprdetect-2mismatch</th>\n",
       "      <th>gc_content</th>\n",
       "      <th>k25</th>\n",
       "      <th>k6-chebyshev</th>\n",
       "      <th>k6-kendalltau</th>\n",
       "      <th>k6-manhattan</th>\n",
       "      <th>piler-2mismatch</th>\n",
       "      <th>wish</th>\n",
       "      <th>group</th>\n",
       "    </tr>\n",
       "  </thead>\n",
       "  <tbody>\n",
       "    <tr>\n",
       "      <th>0</th>\n",
       "      <td>NC_010363</td>\n",
       "      <td>NC_008527</td>\n",
       "      <td>60.8</td>\n",
       "      <td>0.0</td>\n",
       "      <td>0.021973</td>\n",
       "      <td>0.0</td>\n",
       "      <td>0.002122</td>\n",
       "      <td>0.398421</td>\n",
       "      <td>0.382144</td>\n",
       "      <td>0.0</td>\n",
       "      <td>-1.33553</td>\n",
       "      <td>Streptococcaceae</td>\n",
       "    </tr>\n",
       "    <tr>\n",
       "      <th>1</th>\n",
       "      <td>NC_010363</td>\n",
       "      <td>NC_002662</td>\n",
       "      <td>59.0</td>\n",
       "      <td>0.0</td>\n",
       "      <td>0.016709</td>\n",
       "      <td>0.0</td>\n",
       "      <td>0.001929</td>\n",
       "      <td>0.397773</td>\n",
       "      <td>0.377498</td>\n",
       "      <td>0.0</td>\n",
       "      <td>-1.33035</td>\n",
       "      <td>Streptococcaceae</td>\n",
       "    </tr>\n",
       "    <tr>\n",
       "      <th>2</th>\n",
       "      <td>NC_010363</td>\n",
       "      <td>NC_017949</td>\n",
       "      <td>59.0</td>\n",
       "      <td>0.0</td>\n",
       "      <td>0.020818</td>\n",
       "      <td>0.0</td>\n",
       "      <td>0.002088</td>\n",
       "      <td>0.396969</td>\n",
       "      <td>0.379686</td>\n",
       "      <td>0.0</td>\n",
       "      <td>-1.33341</td>\n",
       "      <td>Streptococcaceae</td>\n",
       "    </tr>\n",
       "    <tr>\n",
       "      <th>3</th>\n",
       "      <td>NC_010363</td>\n",
       "      <td>NC_017492</td>\n",
       "      <td>59.0</td>\n",
       "      <td>0.0</td>\n",
       "      <td>0.022209</td>\n",
       "      <td>0.0</td>\n",
       "      <td>0.002131</td>\n",
       "      <td>0.396148</td>\n",
       "      <td>0.380930</td>\n",
       "      <td>0.0</td>\n",
       "      <td>-1.33767</td>\n",
       "      <td>Streptococcaceae</td>\n",
       "    </tr>\n",
       "    <tr>\n",
       "      <th>4</th>\n",
       "      <td>NC_010363</td>\n",
       "      <td>NC_009004</td>\n",
       "      <td>59.0</td>\n",
       "      <td>0.0</td>\n",
       "      <td>0.020871</td>\n",
       "      <td>0.0</td>\n",
       "      <td>0.002088</td>\n",
       "      <td>0.397095</td>\n",
       "      <td>0.379834</td>\n",
       "      <td>0.0</td>\n",
       "      <td>-1.33341</td>\n",
       "      <td>Streptococcaceae</td>\n",
       "    </tr>\n",
       "  </tbody>\n",
       "</table>\n",
       "</div>"
      ],
      "text/plain": [
       "       virus       host  blastn  crisprdetect-2mismatch  gc_content  k25  \\\n",
       "0  NC_010363  NC_008527    60.8                     0.0    0.021973  0.0   \n",
       "1  NC_010363  NC_002662    59.0                     0.0    0.016709  0.0   \n",
       "2  NC_010363  NC_017949    59.0                     0.0    0.020818  0.0   \n",
       "3  NC_010363  NC_017492    59.0                     0.0    0.022209  0.0   \n",
       "4  NC_010363  NC_009004    59.0                     0.0    0.020871  0.0   \n",
       "\n",
       "   k6-chebyshev  k6-kendalltau  k6-manhattan  piler-2mismatch     wish  \\\n",
       "0      0.002122       0.398421      0.382144              0.0 -1.33553   \n",
       "1      0.001929       0.397773      0.377498              0.0 -1.33035   \n",
       "2      0.002088       0.396969      0.379686              0.0 -1.33341   \n",
       "3      0.002131       0.396148      0.380930              0.0 -1.33767   \n",
       "4      0.002088       0.397095      0.379834              0.0 -1.33341   \n",
       "\n",
       "              group  \n",
       "0  Streptococcaceae  \n",
       "1  Streptococcaceae  \n",
       "2  Streptococcaceae  \n",
       "3  Streptococcaceae  \n",
       "4  Streptococcaceae  "
      ]
     },
     "execution_count": 16,
     "metadata": {},
     "output_type": "execute_result"
    }
   ],
   "source": [
    "final_df.head()"
   ]
  },
  {
   "cell_type": "code",
   "execution_count": 17,
   "metadata": {},
   "outputs": [
    {
     "data": {
      "text/plain": [
       "<AxesSubplot:ylabel='group'>"
      ]
     },
     "execution_count": 17,
     "metadata": {},
     "output_type": "execute_result"
    },
    {
     "data": {
      "image/png": "[encoded data removed]",
      "text/plain": [
       "<Figure size 432x288 with 1 Axes>"
      ]
     },
     "metadata": {},
     "output_type": "display_data"
    }
   ],
   "source": [
    "final_df['group'].value_counts().plot(kind=\"pie\", autopct=\"%1.1f%%\")"
   ]
  },
  {
   "cell_type": "markdown",
   "metadata": {},
   "source": [
    "### Make 'group' parameter categorical – optimilization"
   ]
  },
  {
   "cell_type": "code",
   "execution_count": 18,
   "metadata": {},
   "outputs": [
    {
     "data": {
      "text/plain": [
       "dtype('O')"
      ]
     },
     "execution_count": 18,
     "metadata": {},
     "output_type": "execute_result"
    }
   ],
   "source": [
    "final_df['group'].dtype"
   ]
  },
  {
   "cell_type": "code",
   "execution_count": 19,
   "metadata": {},
   "outputs": [
    {
     "name": "stdout",
     "output_type": "stream",
     "text": [
      "<class 'pandas.core.frame.DataFrame'>\n",
      "Int64Index: 2213180 entries, 0 to 2213179\n",
      "Data columns (total 12 columns):\n",
      " #   Column                  Dtype  \n",
      "---  ------                  -----  \n",
      " 0   virus                   object \n",
      " 1   host                    object \n",
      " 2   blastn                  float64\n",
      " 3   crisprdetect-2mismatch  float64\n",
      " 4   gc_content              float64\n",
      " 5   k25                     float64\n",
      " 6   k6-chebyshev            float64\n",
      " 7   k6-kendalltau           float64\n",
      " 8   k6-manhattan            float64\n",
      " 9   piler-2mismatch         float64\n",
      " 10  wish                    float64\n",
      " 11  group                   object \n",
      "dtypes: float64(9), object(3)\n",
      "memory usage: 219.5+ MB\n"
     ]
    }
   ],
   "source": [
    "final_df.info()"
   ]
  },
  {
   "cell_type": "code",
   "execution_count": 20,
   "metadata": {},
   "outputs": [
    {
     "data": {
      "text/plain": [
       "CategoricalDtype(categories=['', 'Acholeplasmataceae', 'Aeromonadaceae', 'Alcaligenaceae',\n",
       "                  'Alteromonadaceae', 'Bacillaceae', 'Bacteroidaceae',\n",
       "                  'Bdellovibrionaceae', 'Brucellaceae', 'Burkholderiaceae',\n",
       "                  'Campylobacteraceae', 'Caulobacteraceae', 'Chlamydiaceae',\n",
       "                  'Clostridiaceae', 'Comamonadaceae', 'Corynebacteriaceae',\n",
       "                  'Enterobacteriaceae', 'Enterococcaceae', 'Flavobacteriaceae',\n",
       "                  'Helicobacteraceae', 'Lactobacillaceae', 'Leuconostocaceae',\n",
       "                  'Listeriaceae', 'Microbacteriaceae', 'Moraxellaceae',\n",
       "                  'Mycobacteriaceae', 'Mycoplasmataceae', 'Myxococcaceae',\n",
       "                  'Nocardiaceae', 'Nostocaceae', 'Pasteurellaceae',\n",
       "                  'Peptostreptococcaceae', 'Prochlorococcaceae',\n",
       "                  'Propionibacteriaceae', 'Pseudomonadaceae', 'Rhizobiaceae',\n",
       "                  'Rhodobacteraceae', 'Rhodospirillaceae', 'Rhodothermaceae',\n",
       "                  'Shewanellaceae', 'Staphylococcaceae', 'Streptococcaceae',\n",
       "                  'Streptomycetaceae', 'Thermaceae',\n",
       "                  'Thermoanaerobacterales Family III. Incertae Sedis',\n",
       "                  'Tsukamurellaceae', 'Vibrionaceae', 'Xanthomonadaceae'],\n",
       ", ordered=False)"
      ]
     },
     "execution_count": 20,
     "metadata": {},
     "output_type": "execute_result"
    }
   ],
   "source": [
    "final_df['group'] = pd.Categorical(final_df['group'])\n",
    "final_df['group'].dtype"
   ]
  },
  {
   "cell_type": "markdown",
   "metadata": {},
   "source": [
    "NOTE: what to do with this?"
   ]
  },
  {
   "cell_type": "code",
   "execution_count": 24,
   "metadata": {},
   "outputs": [
    {
     "data": {
      "text/html": [
       "<div>\n",
       "<style scoped>\n",
       "    .dataframe tbody tr th:only-of-type {\n",
       "        vertical-align: middle;\n",
       "    }\n",
       "\n",
       "    .dataframe tbody tr th {\n",
       "        vertical-align: top;\n",
       "    }\n",
       "\n",
       "    .dataframe thead th {\n",
       "        text-align: right;\n",
       "    }\n",
       "</style>\n",
       "<table border=\"1\" class=\"dataframe\">\n",
       "  <thead>\n",
       "    <tr style=\"text-align: right;\">\n",
       "      <th></th>\n",
       "      <th>virus</th>\n",
       "      <th>host</th>\n",
       "      <th>blastn</th>\n",
       "      <th>crisprdetect-2mismatch</th>\n",
       "      <th>gc_content</th>\n",
       "      <th>k25</th>\n",
       "      <th>k6-chebyshev</th>\n",
       "      <th>k6-kendalltau</th>\n",
       "      <th>k6-manhattan</th>\n",
       "      <th>piler-2mismatch</th>\n",
       "      <th>wish</th>\n",
       "      <th>group</th>\n",
       "      <th>y</th>\n",
       "    </tr>\n",
       "  </thead>\n",
       "  <tbody>\n",
       "    <tr>\n",
       "      <th>189108</th>\n",
       "      <td>NC_008562</td>\n",
       "      <td>NC_011729</td>\n",
       "      <td>1936.0</td>\n",
       "      <td>0.0</td>\n",
       "      <td>0.073441</td>\n",
       "      <td>50.0</td>\n",
       "      <td>0.003370</td>\n",
       "      <td>0.851879</td>\n",
       "      <td>0.639265</td>\n",
       "      <td>0.0</td>\n",
       "      <td>-1.43287</td>\n",
       "      <td></td>\n",
       "      <td>0</td>\n",
       "    </tr>\n",
       "    <tr>\n",
       "      <th>189109</th>\n",
       "      <td>NC_008562</td>\n",
       "      <td>NC_010296</td>\n",
       "      <td>1930.0</td>\n",
       "      <td>0.0</td>\n",
       "      <td>0.036224</td>\n",
       "      <td>1431.0</td>\n",
       "      <td>0.002731</td>\n",
       "      <td>0.891840</td>\n",
       "      <td>0.601082</td>\n",
       "      <td>0.0</td>\n",
       "      <td>-1.44261</td>\n",
       "      <td></td>\n",
       "      <td>1</td>\n",
       "    </tr>\n",
       "    <tr>\n",
       "      <th>189110</th>\n",
       "      <td>NC_008562</td>\n",
       "      <td>NC_016640</td>\n",
       "      <td>1159.0</td>\n",
       "      <td>0.0</td>\n",
       "      <td>0.023027</td>\n",
       "      <td>50.0</td>\n",
       "      <td>0.002908</td>\n",
       "      <td>0.864091</td>\n",
       "      <td>0.557508</td>\n",
       "      <td>0.0</td>\n",
       "      <td>-1.44114</td>\n",
       "      <td></td>\n",
       "      <td>0</td>\n",
       "    </tr>\n",
       "    <tr>\n",
       "      <th>189111</th>\n",
       "      <td>NC_008562</td>\n",
       "      <td>NC_019753</td>\n",
       "      <td>801.0</td>\n",
       "      <td>0.0</td>\n",
       "      <td>0.057910</td>\n",
       "      <td>2.0</td>\n",
       "      <td>0.002481</td>\n",
       "      <td>0.797970</td>\n",
       "      <td>0.577121</td>\n",
       "      <td>0.0</td>\n",
       "      <td>-1.42135</td>\n",
       "      <td></td>\n",
       "      <td>0</td>\n",
       "    </tr>\n",
       "    <tr>\n",
       "      <th>189112</th>\n",
       "      <td>NC_008562</td>\n",
       "      <td>NC_014501</td>\n",
       "      <td>720.0</td>\n",
       "      <td>0.0</td>\n",
       "      <td>0.057305</td>\n",
       "      <td>6.0</td>\n",
       "      <td>0.003333</td>\n",
       "      <td>0.830270</td>\n",
       "      <td>0.592474</td>\n",
       "      <td>0.0</td>\n",
       "      <td>-1.42505</td>\n",
       "      <td></td>\n",
       "      <td>0</td>\n",
       "    </tr>\n",
       "    <tr>\n",
       "      <th>...</th>\n",
       "      <td>...</td>\n",
       "      <td>...</td>\n",
       "      <td>...</td>\n",
       "      <td>...</td>\n",
       "      <td>...</td>\n",
       "      <td>...</td>\n",
       "      <td>...</td>\n",
       "      <td>...</td>\n",
       "      <td>...</td>\n",
       "      <td>...</td>\n",
       "      <td>...</td>\n",
       "      <td>...</td>\n",
       "      <td>...</td>\n",
       "    </tr>\n",
       "    <tr>\n",
       "      <th>905267</th>\n",
       "      <td>NC_008562</td>\n",
       "      <td>NC_018417</td>\n",
       "      <td>0.0</td>\n",
       "      <td>0.0</td>\n",
       "      <td>0.314027</td>\n",
       "      <td>0.0</td>\n",
       "      <td>0.048148</td>\n",
       "      <td>0.767260</td>\n",
       "      <td>1.275939</td>\n",
       "      <td>0.0</td>\n",
       "      <td>-1.39383</td>\n",
       "      <td></td>\n",
       "      <td>0</td>\n",
       "    </tr>\n",
       "    <tr>\n",
       "      <th>905268</th>\n",
       "      <td>NC_008562</td>\n",
       "      <td>NC_018415</td>\n",
       "      <td>0.0</td>\n",
       "      <td>0.0</td>\n",
       "      <td>0.317681</td>\n",
       "      <td>0.0</td>\n",
       "      <td>0.053895</td>\n",
       "      <td>0.757731</td>\n",
       "      <td>1.293647</td>\n",
       "      <td>0.0</td>\n",
       "      <td>-1.39432</td>\n",
       "      <td></td>\n",
       "      <td>0</td>\n",
       "    </tr>\n",
       "    <tr>\n",
       "      <th>905269</th>\n",
       "      <td>NC_008562</td>\n",
       "      <td>NC_018416</td>\n",
       "      <td>0.0</td>\n",
       "      <td>0.0</td>\n",
       "      <td>0.317754</td>\n",
       "      <td>0.0</td>\n",
       "      <td>0.050627</td>\n",
       "      <td>0.765630</td>\n",
       "      <td>1.289442</td>\n",
       "      <td>0.0</td>\n",
       "      <td>-1.39417</td>\n",
       "      <td></td>\n",
       "      <td>0</td>\n",
       "    </tr>\n",
       "    <tr>\n",
       "      <th>905270</th>\n",
       "      <td>NC_008562</td>\n",
       "      <td>NC_018414</td>\n",
       "      <td>0.0</td>\n",
       "      <td>0.0</td>\n",
       "      <td>0.319773</td>\n",
       "      <td>0.0</td>\n",
       "      <td>0.050478</td>\n",
       "      <td>0.763087</td>\n",
       "      <td>1.298034</td>\n",
       "      <td>0.0</td>\n",
       "      <td>-1.39409</td>\n",
       "      <td></td>\n",
       "      <td>0</td>\n",
       "    </tr>\n",
       "    <tr>\n",
       "      <th>905271</th>\n",
       "      <td>NC_008562</td>\n",
       "      <td>NC_014497</td>\n",
       "      <td>0.0</td>\n",
       "      <td>0.0</td>\n",
       "      <td>0.324143</td>\n",
       "      <td>0.0</td>\n",
       "      <td>0.040648</td>\n",
       "      <td>0.746222</td>\n",
       "      <td>1.300492</td>\n",
       "      <td>0.0</td>\n",
       "      <td>-1.39656</td>\n",
       "      <td></td>\n",
       "      <td>0</td>\n",
       "    </tr>\n",
       "  </tbody>\n",
       "</table>\n",
       "<p>2699 rows × 13 columns</p>\n",
       "</div>"
      ],
      "text/plain": [
       "            virus       host  blastn  crisprdetect-2mismatch  gc_content  \\\n",
       "189108  NC_008562  NC_011729  1936.0                     0.0    0.073441   \n",
       "189109  NC_008562  NC_010296  1930.0                     0.0    0.036224   \n",
       "189110  NC_008562  NC_016640  1159.0                     0.0    0.023027   \n",
       "189111  NC_008562  NC_019753   801.0                     0.0    0.057910   \n",
       "189112  NC_008562  NC_014501   720.0                     0.0    0.057305   \n",
       "...           ...        ...     ...                     ...         ...   \n",
       "905267  NC_008562  NC_018417     0.0                     0.0    0.314027   \n",
       "905268  NC_008562  NC_018415     0.0                     0.0    0.317681   \n",
       "905269  NC_008562  NC_018416     0.0                     0.0    0.317754   \n",
       "905270  NC_008562  NC_018414     0.0                     0.0    0.319773   \n",
       "905271  NC_008562  NC_014497     0.0                     0.0    0.324143   \n",
       "\n",
       "           k25  k6-chebyshev  k6-kendalltau  k6-manhattan  piler-2mismatch  \\\n",
       "189108    50.0      0.003370       0.851879      0.639265              0.0   \n",
       "189109  1431.0      0.002731       0.891840      0.601082              0.0   \n",
       "189110    50.0      0.002908       0.864091      0.557508              0.0   \n",
       "189111     2.0      0.002481       0.797970      0.577121              0.0   \n",
       "189112     6.0      0.003333       0.830270      0.592474              0.0   \n",
       "...        ...           ...            ...           ...              ...   \n",
       "905267     0.0      0.048148       0.767260      1.275939              0.0   \n",
       "905268     0.0      0.053895       0.757731      1.293647              0.0   \n",
       "905269     0.0      0.050627       0.765630      1.289442              0.0   \n",
       "905270     0.0      0.050478       0.763087      1.298034              0.0   \n",
       "905271     0.0      0.040648       0.746222      1.300492              0.0   \n",
       "\n",
       "           wish group  y  \n",
       "189108 -1.43287        0  \n",
       "189109 -1.44261        1  \n",
       "189110 -1.44114        0  \n",
       "189111 -1.42135        0  \n",
       "189112 -1.42505        0  \n",
       "...         ...   ... ..  \n",
       "905267 -1.39383        0  \n",
       "905268 -1.39432        0  \n",
       "905269 -1.39417        0  \n",
       "905270 -1.39409        0  \n",
       "905271 -1.39656        0  \n",
       "\n",
       "[2699 rows x 13 columns]"
      ]
     },
     "execution_count": 24,
     "metadata": {},
     "output_type": "execute_result"
    }
   ],
   "source": [
    "final_df[final_df['group'] == '']"
   ]
  },
  {
   "cell_type": "markdown",
   "metadata": {},
   "source": [
    "### Species-based labels"
   ]
  },
  {
   "cell_type": "code",
   "execution_count": 22,
   "metadata": {},
   "outputs": [],
   "source": [
    "final_df['y'] = final_df.apply(lambda row: \n",
    "                    1 if orgs['host'][row['host']]['lineage_names'][-1] == \n",
    "                    orgs['virus'][row['virus']]['host']['lineage_names'][-1] \n",
    "                    else 0, axis=1)"
   ]
  },
  {
   "cell_type": "code",
   "execution_count": 25,
   "metadata": {},
   "outputs": [
    {
     "data": {
      "text/plain": [
       "0    2196423\n",
       "1      16757\n",
       "Name: y, dtype: int64"
      ]
     },
     "execution_count": 25,
     "metadata": {},
     "output_type": "execute_result"
    }
   ],
   "source": [
    "final_df['y'].value_counts()"
   ]
  },
  {
   "cell_type": "markdown",
   "metadata": {},
   "source": [
    "## Save the dataframe to files"
   ]
  },
  {
   "cell_type": "code",
   "execution_count": 26,
   "metadata": {},
   "outputs": [],
   "source": [
    "final_df.to_csv('main_df.csv',index=False)\n",
    "final_df.to_pickle('./main_df.pkl')"
   ]
  }
 ],
 "metadata": {
  "interpreter": {
   "hash": "b3ba2566441a7c06988d0923437866b63cedc61552a5af99d1f4fb67d367b25f"
  },
  "kernelspec": {
   "display_name": "Python 3.8.8 64-bit (conda)",
   "language": "python",
   "name": "python3"
  },
  "language_info": {
   "codemirror_mode": {
    "name": "ipython",
    "version": 3
   },
   "file_extension": ".py",
   "mimetype": "text/x-python",
   "name": "python",
   "nbconvert_exporter": "python",
   "pygments_lexer": "ipython3",
   "version": "3.8.8"
  },
  "orig_nbformat": 4
 },
 "nbformat": 4,
 "nbformat_minor": 2
}
