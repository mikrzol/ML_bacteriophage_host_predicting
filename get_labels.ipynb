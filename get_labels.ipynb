{
 "cells": [
  {
   "cell_type": "code",
   "execution_count": 1,
   "metadata": {},
   "outputs": [],
   "source": [
    "import numpy as np\n",
    "import matplotlib.pyplot as plt\n",
    "import pandas as pd"
   ]
  },
  {
   "cell_type": "markdown",
   "metadata": {},
   "source": [
    "### Load in the dataframe"
   ]
  },
  {
   "cell_type": "code",
   "execution_count": 2,
   "metadata": {},
   "outputs": [
    {
     "name": "stdout",
     "output_type": "stream",
     "text": [
      "(2213180, 11)\n"
     ]
    },
    {
     "data": {
      "text/html": [
       "<div>\n",
       "<style scoped>\n",
       "    .dataframe tbody tr th:only-of-type {\n",
       "        vertical-align: middle;\n",
       "    }\n",
       "\n",
       "    .dataframe tbody tr th {\n",
       "        vertical-align: top;\n",
       "    }\n",
       "\n",
       "    .dataframe thead th {\n",
       "        text-align: right;\n",
       "    }\n",
       "</style>\n",
       "<table border=\"1\" class=\"dataframe\">\n",
       "  <thead>\n",
       "    <tr style=\"text-align: right;\">\n",
       "      <th></th>\n",
       "      <th>#virus</th>\n",
       "      <th>host</th>\n",
       "      <th>blastn</th>\n",
       "      <th>crisprdetect-2mismatch</th>\n",
       "      <th>gc_content</th>\n",
       "      <th>k25</th>\n",
       "      <th>k6-chebyshev</th>\n",
       "      <th>k6-kendalltau</th>\n",
       "      <th>k6-manhattan</th>\n",
       "      <th>piler-2mismatch</th>\n",
       "      <th>wish</th>\n",
       "    </tr>\n",
       "  </thead>\n",
       "  <tbody>\n",
       "    <tr>\n",
       "      <th>0</th>\n",
       "      <td>NC_010363</td>\n",
       "      <td>NC_008527</td>\n",
       "      <td>60.8</td>\n",
       "      <td>NaN</td>\n",
       "      <td>0.021973</td>\n",
       "      <td>NaN</td>\n",
       "      <td>0.002122</td>\n",
       "      <td>0.398421</td>\n",
       "      <td>0.382144</td>\n",
       "      <td>NaN</td>\n",
       "      <td>-1.33553</td>\n",
       "    </tr>\n",
       "    <tr>\n",
       "      <th>1</th>\n",
       "      <td>NC_010363</td>\n",
       "      <td>NC_002662</td>\n",
       "      <td>59.0</td>\n",
       "      <td>NaN</td>\n",
       "      <td>0.016709</td>\n",
       "      <td>NaN</td>\n",
       "      <td>0.001929</td>\n",
       "      <td>0.397773</td>\n",
       "      <td>0.377498</td>\n",
       "      <td>NaN</td>\n",
       "      <td>-1.33035</td>\n",
       "    </tr>\n",
       "    <tr>\n",
       "      <th>2</th>\n",
       "      <td>NC_010363</td>\n",
       "      <td>NC_017949</td>\n",
       "      <td>59.0</td>\n",
       "      <td>NaN</td>\n",
       "      <td>0.020818</td>\n",
       "      <td>NaN</td>\n",
       "      <td>0.002088</td>\n",
       "      <td>0.396969</td>\n",
       "      <td>0.379686</td>\n",
       "      <td>NaN</td>\n",
       "      <td>-1.33341</td>\n",
       "    </tr>\n",
       "    <tr>\n",
       "      <th>3</th>\n",
       "      <td>NC_010363</td>\n",
       "      <td>NC_017492</td>\n",
       "      <td>59.0</td>\n",
       "      <td>NaN</td>\n",
       "      <td>0.022209</td>\n",
       "      <td>NaN</td>\n",
       "      <td>0.002131</td>\n",
       "      <td>0.396148</td>\n",
       "      <td>0.380930</td>\n",
       "      <td>NaN</td>\n",
       "      <td>-1.33767</td>\n",
       "    </tr>\n",
       "    <tr>\n",
       "      <th>4</th>\n",
       "      <td>NC_010363</td>\n",
       "      <td>NC_009004</td>\n",
       "      <td>59.0</td>\n",
       "      <td>NaN</td>\n",
       "      <td>0.020871</td>\n",
       "      <td>NaN</td>\n",
       "      <td>0.002088</td>\n",
       "      <td>0.397095</td>\n",
       "      <td>0.379834</td>\n",
       "      <td>NaN</td>\n",
       "      <td>-1.33341</td>\n",
       "    </tr>\n",
       "  </tbody>\n",
       "</table>\n",
       "</div>"
      ],
      "text/plain": [
       "      #virus       host  blastn  crisprdetect-2mismatch  gc_content  k25  \\\n",
       "0  NC_010363  NC_008527    60.8                     NaN    0.021973  NaN   \n",
       "1  NC_010363  NC_002662    59.0                     NaN    0.016709  NaN   \n",
       "2  NC_010363  NC_017949    59.0                     NaN    0.020818  NaN   \n",
       "3  NC_010363  NC_017492    59.0                     NaN    0.022209  NaN   \n",
       "4  NC_010363  NC_009004    59.0                     NaN    0.020871  NaN   \n",
       "\n",
       "   k6-chebyshev  k6-kendalltau  k6-manhattan  piler-2mismatch     wish  \n",
       "0      0.002122       0.398421      0.382144              NaN -1.33553  \n",
       "1      0.001929       0.397773      0.377498              NaN -1.33035  \n",
       "2      0.002088       0.396969      0.379686              NaN -1.33341  \n",
       "3      0.002131       0.396148      0.380930              NaN -1.33767  \n",
       "4      0.002088       0.397095      0.379834              NaN -1.33341  "
      ]
     },
     "execution_count": 2,
     "metadata": {},
     "output_type": "execute_result"
    }
   ],
   "source": [
    "df = pd.read_pickle('./main_df.pkl')\n",
    "print(df.shape)\n",
    "df.head()"
   ]
  },
  {
   "cell_type": "markdown",
   "metadata": {},
   "source": [
    "### Load in the taxonomy JSONs"
   ]
  },
  {
   "cell_type": "code",
   "execution_count": 3,
   "metadata": {},
   "outputs": [
    {
     "data": {
      "text/plain": [
       "dict_keys(['host', 'virus'])"
      ]
     },
     "execution_count": 3,
     "metadata": {},
     "output_type": "execute_result"
    }
   ],
   "source": [
    "import json\n",
    "import pathlib\n",
    "\n",
    "orgs = {}\n",
    "for file in pathlib.Path('./taxonomy/').iterdir():\n",
    "    with open(file, 'r') as open_file:\n",
    "        orgs[file.stem] = json.load(open_file)\n",
    "        \n",
    "orgs.keys()"
   ]
  },
  {
   "cell_type": "markdown",
   "metadata": {},
   "source": [
    "### Find labels (which viruses infect which hosts in nature)"
   ]
  },
  {
   "cell_type": "code",
   "execution_count": 4,
   "metadata": {},
   "outputs": [],
   "source": [
    "df['y'] = df.apply(lambda row: 1 if orgs['host'][row['host']]['lineage_names'][-1] == orgs['virus'][row['#virus']]['host']['lineage_names'][-1] else 0, axis=1)\n"
   ]
  },
  {
   "cell_type": "markdown",
   "metadata": {},
   "source": [
    "Number of positive cases:"
   ]
  },
  {
   "cell_type": "code",
   "execution_count": 5,
   "metadata": {},
   "outputs": [
    {
     "data": {
      "text/plain": [
       "16757"
      ]
     },
     "execution_count": 5,
     "metadata": {},
     "output_type": "execute_result"
    }
   ],
   "source": [
    "len(df[df['y'] == 1].index)"
   ]
  },
  {
   "cell_type": "markdown",
   "metadata": {},
   "source": [
    "Number of negative cases:"
   ]
  },
  {
   "cell_type": "code",
   "execution_count": 6,
   "metadata": {},
   "outputs": [
    {
     "data": {
      "text/plain": [
       "2196423"
      ]
     },
     "execution_count": 6,
     "metadata": {},
     "output_type": "execute_result"
    }
   ],
   "source": [
    "len(df[df['y'] == 0].index)"
   ]
  }
 ],
 "metadata": {
  "interpreter": {
   "hash": "b3ba2566441a7c06988d0923437866b63cedc61552a5af99d1f4fb67d367b25f"
  },
  "kernelspec": {
   "display_name": "Python 3.8.8 64-bit (conda)",
   "language": "python",
   "name": "python3"
  },
  "language_info": {
   "codemirror_mode": {
    "name": "ipython",
    "version": 3
   },
   "file_extension": ".py",
   "mimetype": "text/x-python",
   "name": "python",
   "nbconvert_exporter": "python",
   "pygments_lexer": "ipython3",
   "version": "3.8.8"
  },
  "orig_nbformat": 4
 },
 "nbformat": 4,
 "nbformat_minor": 2
}
