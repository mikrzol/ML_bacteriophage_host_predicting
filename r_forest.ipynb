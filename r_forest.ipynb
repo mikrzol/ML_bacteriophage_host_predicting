{
 "cells": [
  {
   "cell_type": "markdown",
   "metadata": {},
   "source": [
    "### Import basic libraries"
   ]
  },
  {
   "cell_type": "code",
   "execution_count": 1,
   "metadata": {},
   "outputs": [],
   "source": [
    "import numpy as np\n",
    "import matplotlib.pyplot as plt\n",
    "import pandas as pd"
   ]
  },
  {
   "cell_type": "markdown",
   "metadata": {},
   "source": [
    "### Load in the dataframe"
   ]
  },
  {
   "cell_type": "code",
   "execution_count": 2,
   "metadata": {},
   "outputs": [
    {
     "name": "stdout",
     "output_type": "stream",
     "text": [
      "(2213180, 14)\n"
     ]
    },
    {
     "data": {
      "text/html": [
       "<div>\n",
       "<style scoped>\n",
       "    .dataframe tbody tr th:only-of-type {\n",
       "        vertical-align: middle;\n",
       "    }\n",
       "\n",
       "    .dataframe tbody tr th {\n",
       "        vertical-align: top;\n",
       "    }\n",
       "\n",
       "    .dataframe thead th {\n",
       "        text-align: right;\n",
       "    }\n",
       "</style>\n",
       "<table border=\"1\" class=\"dataframe\">\n",
       "  <thead>\n",
       "    <tr style=\"text-align: right;\">\n",
       "      <th></th>\n",
       "      <th>virus</th>\n",
       "      <th>host</th>\n",
       "      <th>blastn</th>\n",
       "      <th>crisprdetect-2mismatch</th>\n",
       "      <th>gc_content</th>\n",
       "      <th>k25</th>\n",
       "      <th>k6-chebyshev</th>\n",
       "      <th>k6-kendalltau</th>\n",
       "      <th>k6-manhattan</th>\n",
       "      <th>piler-2mismatch</th>\n",
       "      <th>wish</th>\n",
       "      <th>group</th>\n",
       "      <th>group_code</th>\n",
       "      <th>y</th>\n",
       "    </tr>\n",
       "  </thead>\n",
       "  <tbody>\n",
       "    <tr>\n",
       "      <th>0</th>\n",
       "      <td>NC_010363</td>\n",
       "      <td>NC_008527</td>\n",
       "      <td>60.8</td>\n",
       "      <td>0.0</td>\n",
       "      <td>0.021973</td>\n",
       "      <td>0.0</td>\n",
       "      <td>0.002122</td>\n",
       "      <td>0.398421</td>\n",
       "      <td>0.382144</td>\n",
       "      <td>0.0</td>\n",
       "      <td>-1.33553</td>\n",
       "      <td>Streptococcaceae</td>\n",
       "      <td>41</td>\n",
       "      <td>1</td>\n",
       "    </tr>\n",
       "    <tr>\n",
       "      <th>1</th>\n",
       "      <td>NC_010363</td>\n",
       "      <td>NC_002662</td>\n",
       "      <td>59.0</td>\n",
       "      <td>0.0</td>\n",
       "      <td>0.016709</td>\n",
       "      <td>0.0</td>\n",
       "      <td>0.001929</td>\n",
       "      <td>0.397773</td>\n",
       "      <td>0.377498</td>\n",
       "      <td>0.0</td>\n",
       "      <td>-1.33035</td>\n",
       "      <td>Streptococcaceae</td>\n",
       "      <td>41</td>\n",
       "      <td>1</td>\n",
       "    </tr>\n",
       "    <tr>\n",
       "      <th>2</th>\n",
       "      <td>NC_010363</td>\n",
       "      <td>NC_017949</td>\n",
       "      <td>59.0</td>\n",
       "      <td>0.0</td>\n",
       "      <td>0.020818</td>\n",
       "      <td>0.0</td>\n",
       "      <td>0.002088</td>\n",
       "      <td>0.396969</td>\n",
       "      <td>0.379686</td>\n",
       "      <td>0.0</td>\n",
       "      <td>-1.33341</td>\n",
       "      <td>Streptococcaceae</td>\n",
       "      <td>41</td>\n",
       "      <td>1</td>\n",
       "    </tr>\n",
       "    <tr>\n",
       "      <th>3</th>\n",
       "      <td>NC_010363</td>\n",
       "      <td>NC_017492</td>\n",
       "      <td>59.0</td>\n",
       "      <td>0.0</td>\n",
       "      <td>0.022209</td>\n",
       "      <td>0.0</td>\n",
       "      <td>0.002131</td>\n",
       "      <td>0.396148</td>\n",
       "      <td>0.380930</td>\n",
       "      <td>0.0</td>\n",
       "      <td>-1.33767</td>\n",
       "      <td>Streptococcaceae</td>\n",
       "      <td>41</td>\n",
       "      <td>1</td>\n",
       "    </tr>\n",
       "    <tr>\n",
       "      <th>4</th>\n",
       "      <td>NC_010363</td>\n",
       "      <td>NC_009004</td>\n",
       "      <td>59.0</td>\n",
       "      <td>0.0</td>\n",
       "      <td>0.020871</td>\n",
       "      <td>0.0</td>\n",
       "      <td>0.002088</td>\n",
       "      <td>0.397095</td>\n",
       "      <td>0.379834</td>\n",
       "      <td>0.0</td>\n",
       "      <td>-1.33341</td>\n",
       "      <td>Streptococcaceae</td>\n",
       "      <td>41</td>\n",
       "      <td>1</td>\n",
       "    </tr>\n",
       "  </tbody>\n",
       "</table>\n",
       "</div>"
      ],
      "text/plain": [
       "       virus       host  blastn  crisprdetect-2mismatch  gc_content  k25  \\\n",
       "0  NC_010363  NC_008527    60.8                     0.0    0.021973  0.0   \n",
       "1  NC_010363  NC_002662    59.0                     0.0    0.016709  0.0   \n",
       "2  NC_010363  NC_017949    59.0                     0.0    0.020818  0.0   \n",
       "3  NC_010363  NC_017492    59.0                     0.0    0.022209  0.0   \n",
       "4  NC_010363  NC_009004    59.0                     0.0    0.020871  0.0   \n",
       "\n",
       "   k6-chebyshev  k6-kendalltau  k6-manhattan  piler-2mismatch     wish  \\\n",
       "0      0.002122       0.398421      0.382144              0.0 -1.33553   \n",
       "1      0.001929       0.397773      0.377498              0.0 -1.33035   \n",
       "2      0.002088       0.396969      0.379686              0.0 -1.33341   \n",
       "3      0.002131       0.396148      0.380930              0.0 -1.33767   \n",
       "4      0.002088       0.397095      0.379834              0.0 -1.33341   \n",
       "\n",
       "              group group_code  y  \n",
       "0  Streptococcaceae         41  1  \n",
       "1  Streptococcaceae         41  1  \n",
       "2  Streptococcaceae         41  1  \n",
       "3  Streptococcaceae         41  1  \n",
       "4  Streptococcaceae         41  1  "
      ]
     },
     "execution_count": 2,
     "metadata": {},
     "output_type": "execute_result"
    }
   ],
   "source": [
    "df = pd.read_pickle('./main_df.pkl')\n",
    "print(df.shape)\n",
    "df.head()"
   ]
  },
  {
   "cell_type": "markdown",
   "metadata": {},
   "source": [
    "## Data preprocessing"
   ]
  },
  {
   "cell_type": "markdown",
   "metadata": {},
   "source": [
    "### Get all of positive cases + the same number of negative cases randomly"
   ]
  },
  {
   "cell_type": "code",
   "execution_count": 3,
   "metadata": {},
   "outputs": [
    {
     "name": "stdout",
     "output_type": "stream",
     "text": [
      "(33514, 14)\n"
     ]
    },
    {
     "data": {
      "text/html": [
       "<div>\n",
       "<style scoped>\n",
       "    .dataframe tbody tr th:only-of-type {\n",
       "        vertical-align: middle;\n",
       "    }\n",
       "\n",
       "    .dataframe tbody tr th {\n",
       "        vertical-align: top;\n",
       "    }\n",
       "\n",
       "    .dataframe thead th {\n",
       "        text-align: right;\n",
       "    }\n",
       "</style>\n",
       "<table border=\"1\" class=\"dataframe\">\n",
       "  <thead>\n",
       "    <tr style=\"text-align: right;\">\n",
       "      <th></th>\n",
       "      <th>virus</th>\n",
       "      <th>host</th>\n",
       "      <th>blastn</th>\n",
       "      <th>crisprdetect-2mismatch</th>\n",
       "      <th>gc_content</th>\n",
       "      <th>k25</th>\n",
       "      <th>k6-chebyshev</th>\n",
       "      <th>k6-kendalltau</th>\n",
       "      <th>k6-manhattan</th>\n",
       "      <th>piler-2mismatch</th>\n",
       "      <th>wish</th>\n",
       "      <th>group</th>\n",
       "      <th>group_code</th>\n",
       "      <th>y</th>\n",
       "    </tr>\n",
       "  </thead>\n",
       "  <tbody>\n",
       "    <tr>\n",
       "      <th>0</th>\n",
       "      <td>NC_010363</td>\n",
       "      <td>NC_008527</td>\n",
       "      <td>60.8</td>\n",
       "      <td>0.0</td>\n",
       "      <td>0.021973</td>\n",
       "      <td>0.0</td>\n",
       "      <td>0.002122</td>\n",
       "      <td>0.398421</td>\n",
       "      <td>0.382144</td>\n",
       "      <td>0.0</td>\n",
       "      <td>-1.33553</td>\n",
       "      <td>Streptococcaceae</td>\n",
       "      <td>41</td>\n",
       "      <td>1</td>\n",
       "    </tr>\n",
       "    <tr>\n",
       "      <th>1</th>\n",
       "      <td>NC_010363</td>\n",
       "      <td>NC_002662</td>\n",
       "      <td>59.0</td>\n",
       "      <td>0.0</td>\n",
       "      <td>0.016709</td>\n",
       "      <td>0.0</td>\n",
       "      <td>0.001929</td>\n",
       "      <td>0.397773</td>\n",
       "      <td>0.377498</td>\n",
       "      <td>0.0</td>\n",
       "      <td>-1.33035</td>\n",
       "      <td>Streptococcaceae</td>\n",
       "      <td>41</td>\n",
       "      <td>1</td>\n",
       "    </tr>\n",
       "    <tr>\n",
       "      <th>2</th>\n",
       "      <td>NC_010363</td>\n",
       "      <td>NC_017949</td>\n",
       "      <td>59.0</td>\n",
       "      <td>0.0</td>\n",
       "      <td>0.020818</td>\n",
       "      <td>0.0</td>\n",
       "      <td>0.002088</td>\n",
       "      <td>0.396969</td>\n",
       "      <td>0.379686</td>\n",
       "      <td>0.0</td>\n",
       "      <td>-1.33341</td>\n",
       "      <td>Streptococcaceae</td>\n",
       "      <td>41</td>\n",
       "      <td>1</td>\n",
       "    </tr>\n",
       "    <tr>\n",
       "      <th>3</th>\n",
       "      <td>NC_010363</td>\n",
       "      <td>NC_017492</td>\n",
       "      <td>59.0</td>\n",
       "      <td>0.0</td>\n",
       "      <td>0.022209</td>\n",
       "      <td>0.0</td>\n",
       "      <td>0.002131</td>\n",
       "      <td>0.396148</td>\n",
       "      <td>0.380930</td>\n",
       "      <td>0.0</td>\n",
       "      <td>-1.33767</td>\n",
       "      <td>Streptococcaceae</td>\n",
       "      <td>41</td>\n",
       "      <td>1</td>\n",
       "    </tr>\n",
       "    <tr>\n",
       "      <th>4</th>\n",
       "      <td>NC_010363</td>\n",
       "      <td>NC_009004</td>\n",
       "      <td>59.0</td>\n",
       "      <td>0.0</td>\n",
       "      <td>0.020871</td>\n",
       "      <td>0.0</td>\n",
       "      <td>0.002088</td>\n",
       "      <td>0.397095</td>\n",
       "      <td>0.379834</td>\n",
       "      <td>0.0</td>\n",
       "      <td>-1.33341</td>\n",
       "      <td>Streptococcaceae</td>\n",
       "      <td>41</td>\n",
       "      <td>1</td>\n",
       "    </tr>\n",
       "  </tbody>\n",
       "</table>\n",
       "</div>"
      ],
      "text/plain": [
       "       virus       host  blastn  crisprdetect-2mismatch  gc_content  k25  \\\n",
       "0  NC_010363  NC_008527    60.8                     0.0    0.021973  0.0   \n",
       "1  NC_010363  NC_002662    59.0                     0.0    0.016709  0.0   \n",
       "2  NC_010363  NC_017949    59.0                     0.0    0.020818  0.0   \n",
       "3  NC_010363  NC_017492    59.0                     0.0    0.022209  0.0   \n",
       "4  NC_010363  NC_009004    59.0                     0.0    0.020871  0.0   \n",
       "\n",
       "   k6-chebyshev  k6-kendalltau  k6-manhattan  piler-2mismatch     wish  \\\n",
       "0      0.002122       0.398421      0.382144              0.0 -1.33553   \n",
       "1      0.001929       0.397773      0.377498              0.0 -1.33035   \n",
       "2      0.002088       0.396969      0.379686              0.0 -1.33341   \n",
       "3      0.002131       0.396148      0.380930              0.0 -1.33767   \n",
       "4      0.002088       0.397095      0.379834              0.0 -1.33341   \n",
       "\n",
       "              group group_code  y  \n",
       "0  Streptococcaceae         41  1  \n",
       "1  Streptococcaceae         41  1  \n",
       "2  Streptococcaceae         41  1  \n",
       "3  Streptococcaceae         41  1  \n",
       "4  Streptococcaceae         41  1  "
      ]
     },
     "execution_count": 3,
     "metadata": {},
     "output_type": "execute_result"
    }
   ],
   "source": [
    "# get all the positive cases\n",
    "learning_df = df[df['y'] == 1]\n",
    "# get the same amount of negative cases RANDOMLY\n",
    "negative_learning_df = df[df['y'] == 0].sample(n=len(df[df['y'] == 1].index))\n",
    "\n",
    "learning_df = pd.concat([learning_df, negative_learning_df], ignore_index=True)\n",
    "print(learning_df.shape)\n",
    "learning_df.head()"
   ]
  },
  {
   "cell_type": "markdown",
   "metadata": {},
   "source": [
    "### Groups dristribution"
   ]
  },
  {
   "cell_type": "markdown",
   "metadata": {},
   "source": [
    "NOTE: evening out the differences in group compositions will be added later"
   ]
  },
  {
   "cell_type": "code",
   "execution_count": 23,
   "metadata": {},
   "outputs": [
    {
     "data": {
      "text/plain": [
       "group                                              group_code\n",
       "Enterobacteriaceae                                 16            12734\n",
       "Staphylococcaceae                                  40             4872\n",
       "Pseudomonadaceae                                   34             2914\n",
       "Streptococcaceae                                   41             2235\n",
       "Bacillaceae                                        5              1534\n",
       "Burkholderiaceae                                   9              1202\n",
       "Vibrionaceae                                       46             1144\n",
       "Listeriaceae                                       22              966\n",
       "Propionibacteriaceae                               33              654\n",
       "Mycobacteriaceae                                   25              641\n",
       "Xanthomonadaceae                                   47              418\n",
       "Lactobacillaceae                                   20              417\n",
       "Clostridiaceae                                     13              308\n",
       "Enterococcaceae                                    17              298\n",
       "Helicobacteraceae                                  19              296\n",
       "Moraxellaceae                                      24              270\n",
       "Aeromonadaceae                                     2               244\n",
       "Nocardiaceae                                       28              205\n",
       "Pasteurellaceae                                    30              196\n",
       "Chlamydiaceae                                      12              190\n",
       "Peptostreptococcaceae                              31              184\n",
       "Caulobacteraceae                                   11              175\n",
       "Leuconostocaceae                                   21              145\n",
       "Streptomycetaceae                                  42              133\n",
       "Thermaceae                                         43              121\n",
       "Rhodobacteraceae                                   36              118\n",
       "Campylobacteraceae                                 10               99\n",
       "Flavobacteriaceae                                  18               93\n",
       "Alcaligenaceae                                     3                76\n",
       "Bacteroidaceae                                     6                62\n",
       "Bdellovibrionaceae                                 7                58\n",
       "Brucellaceae                                       8                54\n",
       "Mycoplasmataceae                                   26               53\n",
       "Rhizobiaceae                                       35               52\n",
       "Microbacteriaceae                                  23               40\n",
       "Acholeplasmataceae                                 1                39\n",
       "Alteromonadaceae                                   4                38\n",
       "Prochlorococcaceae                                 32               31\n",
       "Rhodospirillaceae                                  37               29\n",
       "Corynebacteriaceae                                 15               26\n",
       "Rhodothermaceae                                    38               22\n",
       "Comamonadaceae                                     14               21\n",
       "Thermoanaerobacterales Family III. Incertae Sedis  44               21\n",
       "Shewanellaceae                                     39               19\n",
       "Tsukamurellaceae                                   45               19\n",
       "Myxococcaceae                                      27               19\n",
       "Nostocaceae                                        29               15\n",
       "                                                   0                14\n",
       "dtype: int64"
      ]
     },
     "execution_count": 23,
     "metadata": {},
     "output_type": "execute_result"
    }
   ],
   "source": [
    "learning_df[['group','group_code']].value_counts()"
   ]
  },
  {
   "cell_type": "code",
   "execution_count": 28,
   "metadata": {},
   "outputs": [
    {
     "data": {
      "text/plain": [
       "group                                              group_code\n",
       "Enterobacteriaceae                                 16            8419\n",
       "Staphylococcaceae                                  40            3342\n",
       "Pseudomonadaceae                                   34            1012\n",
       "Streptococcaceae                                   41             782\n",
       "Listeriaceae                                       22             624\n",
       "Bacillaceae                                        5              454\n",
       "Vibrionaceae                                       46             436\n",
       "Burkholderiaceae                                   9              342\n",
       "Helicobacteraceae                                  19             212\n",
       "Propionibacteriaceae                               33             211\n",
       "Mycobacteriaceae                                   25             156\n",
       "Moraxellaceae                                      24             113\n",
       "Lactobacillaceae                                   20              74\n",
       "Xanthomonadaceae                                   47              71\n",
       "Enterococcaceae                                    17              64\n",
       "Chlamydiaceae                                      12              64\n",
       "Peptostreptococcaceae                              31              49\n",
       "Clostridiaceae                                     13              49\n",
       "Pasteurellaceae                                    30              46\n",
       "Campylobacteraceae                                 10              39\n",
       "Thermaceae                                         43              20\n",
       "Brucellaceae                                       8               18\n",
       "Aeromonadaceae                                     2               14\n",
       "Caulobacteraceae                                   11              14\n",
       "Alteromonadaceae                                   4               13\n",
       "Leuconostocaceae                                   21              12\n",
       "Rhizobiaceae                                       35              12\n",
       "Prochlorococcaceae                                 32              12\n",
       "Nocardiaceae                                       28              11\n",
       "Alcaligenaceae                                     3                9\n",
       "Flavobacteriaceae                                  18               8\n",
       "Corynebacteriaceae                                 15               7\n",
       "Bdellovibrionaceae                                 7                6\n",
       "Bacteroidaceae                                     6                6\n",
       "Microbacteriaceae                                  23               6\n",
       "Streptomycetaceae                                  42               6\n",
       "Mycoplasmataceae                                   26               5\n",
       "Rhodobacteraceae                                   36               5\n",
       "Acholeplasmataceae                                 1                2\n",
       "Rhodothermaceae                                    38               2\n",
       "Shewanellaceae                                     39               2\n",
       "Nostocaceae                                        29               2\n",
       "Thermoanaerobacterales Family III. Incertae Sedis  44               1\n",
       "Tsukamurellaceae                                   45               1\n",
       "Comamonadaceae                                     14               1\n",
       "Rhodospirillaceae                                  37               1\n",
       "Myxococcaceae                                      27               1\n",
       "                                                   0                1\n",
       "dtype: int64"
      ]
     },
     "execution_count": 28,
     "metadata": {},
     "output_type": "execute_result"
    }
   ],
   "source": [
    "learning_df[learning_df['y'] == 1][['group', 'group_code']].value_counts()"
   ]
  },
  {
   "cell_type": "markdown",
   "metadata": {},
   "source": [
    "### Encode categorical values"
   ]
  },
  {
   "cell_type": "markdown",
   "metadata": {},
   "source": [
    "*Note: encoding not needed because training is not based on virus and host names*"
   ]
  },
  {
   "cell_type": "code",
   "execution_count": 6,
   "metadata": {},
   "outputs": [
    {
     "data": {
      "text/plain": [
       "\"\\ntransformed_data = pd.get_dummies(filled_df, columns=['virus', 'host'])\\ntransformed_data\\n\""
      ]
     },
     "execution_count": 6,
     "metadata": {},
     "output_type": "execute_result"
    }
   ],
   "source": [
    "'''\n",
    "transformed_data = pd.get_dummies(filled_df, columns=['virus', 'host'])\n",
    "transformed_data\n",
    "'''"
   ]
  },
  {
   "cell_type": "markdown",
   "metadata": {},
   "source": [
    "### Extract X and y arrays"
   ]
  },
  {
   "cell_type": "code",
   "execution_count": 27,
   "metadata": {},
   "outputs": [
    {
     "name": "stdout",
     "output_type": "stream",
     "text": [
      "shape of X: (33514, 9)\n",
      "len(y): 33514\n"
     ]
    }
   ],
   "source": [
    "X = learning_df.drop(['virus', 'host', 'group', 'group_code', 'y'], axis=1).values\n",
    "y = learning_df['y'].values\n",
    "\n",
    "print(f'shape of X: {X.shape}')\n",
    "print(f'len(y): {len(y)}')"
   ]
  },
  {
   "cell_type": "markdown",
   "metadata": {},
   "source": [
    "Get groups for LeaveOneGroupOut"
   ]
  },
  {
   "cell_type": "code",
   "execution_count": 30,
   "metadata": {},
   "outputs": [],
   "source": [
    "groups = learning_df['group_code'].values"
   ]
  },
  {
   "cell_type": "markdown",
   "metadata": {},
   "source": [
    "### test_train_split"
   ]
  },
  {
   "cell_type": "code",
   "execution_count": null,
   "metadata": {},
   "outputs": [],
   "source": [
    "# SIMPLE SPLIT\n",
    "from sklearn.model_selection import train_test_split\n",
    "X_train, X_test, y_train, y_test = train_test_split(X, y, test_size=0.25)"
   ]
  },
  {
   "cell_type": "markdown",
   "metadata": {},
   "source": [
    "### Feature scaling (if necessary) "
   ]
  },
  {
   "cell_type": "markdown",
   "metadata": {},
   "source": []
  },
  {
   "cell_type": "markdown",
   "metadata": {},
   "source": [
    "### Train the Random Forst Classifier"
   ]
  },
  {
   "cell_type": "code",
   "execution_count": null,
   "metadata": {},
   "outputs": [],
   "source": [
    "# ONLY FOR SIMPLE SPLIT USE\n",
    "from sklearn.ensemble import RandomForestClassifier\n",
    "classifier = RandomForestClassifier(n_estimators = 10, criterion = 'entropy', random_state = 0)\n",
    "classifier.fit(X_train, y_train)"
   ]
  },
  {
   "cell_type": "markdown",
   "metadata": {},
   "source": [
    "### Predict Test set results"
   ]
  },
  {
   "cell_type": "code",
   "execution_count": null,
   "metadata": {},
   "outputs": [],
   "source": [
    "y_pred = classifier.predict(X_test)\n",
    "print(np.concatenate((y_pred.reshape(len(y_pred),1), y_test.reshape(len(y_test),1)),1))"
   ]
  },
  {
   "cell_type": "markdown",
   "metadata": {},
   "source": [
    "## Scoring the model"
   ]
  },
  {
   "cell_type": "markdown",
   "metadata": {},
   "source": [
    "### Confusion Matrix"
   ]
  },
  {
   "cell_type": "code",
   "execution_count": null,
   "metadata": {},
   "outputs": [],
   "source": [
    "from sklearn.metrics import confusion_matrix, accuracy_score\n",
    "cm = confusion_matrix(y_test, y_pred)\n",
    "print(cm)\n",
    "accuracy_score(y_test, y_pred)"
   ]
  },
  {
   "cell_type": "markdown",
   "metadata": {},
   "source": [
    "### ROC curve"
   ]
  },
  {
   "cell_type": "code",
   "execution_count": null,
   "metadata": {},
   "outputs": [],
   "source": [
    "import sklearn.metrics as metrics\n",
    "# calculate the fpr and tpr for all thresholds of the classification\n",
    "probs = classifier.predict_proba(X_test)\n",
    "preds = probs[:,1]\n",
    "fpr, tpr, threshold = metrics.roc_curve(y_test, preds)\n",
    "roc_auc = metrics.auc(fpr, tpr)\n",
    "\n",
    "# method I: plt\n",
    "import matplotlib.pyplot as plt\n",
    "plt.title('Receiver Operating Characteristic')\n",
    "plt.plot(fpr, tpr, 'b', label = 'AUC = %0.2f' % roc_auc)\n",
    "plt.legend(loc = 'lower right')\n",
    "plt.plot([0, 1], [0, 1],'r--')\n",
    "plt.xlim([0, 1])\n",
    "plt.ylim([0, 1])\n",
    "plt.ylabel('True Positive Rate')\n",
    "plt.xlabel('False Positive Rate')\n",
    "plt.show()"
   ]
  },
  {
   "cell_type": "markdown",
   "metadata": {},
   "source": [
    "*Note: conclusion: ROC curve is a bad method to evaluate this kind of data*"
   ]
  },
  {
   "cell_type": "markdown",
   "metadata": {},
   "source": [
    "### Precision-recall curve"
   ]
  },
  {
   "cell_type": "code",
   "execution_count": null,
   "metadata": {},
   "outputs": [],
   "source": [
    "#TODO implement this\n",
    "from sklearn.metrics import PrecisionRecallDisplay\n",
    "display = PrecisionRecallDisplay.from_predictions(y_test, y_pred, name=\"r_forest\")\n",
    "_ = display.ax_.set_title(\"r_forest (10 estimators) precision-recall curve\")"
   ]
  },
  {
   "cell_type": "code",
   "execution_count": null,
   "metadata": {},
   "outputs": [],
   "source": [
    "display = PrecisionRecallDisplay.from_estimator(\n",
    "    classifier, X_test, y_test, name=\"r_forest\"\n",
    ")\n",
    "_ = display.ax_.set_title(\"r_forest (10 estimators) Precision-Recall curve\")"
   ]
  },
  {
   "cell_type": "markdown",
   "metadata": {},
   "source": [
    "## F1 score"
   ]
  },
  {
   "cell_type": "code",
   "execution_count": null,
   "metadata": {},
   "outputs": [],
   "source": [
    "print(cm)\n",
    "accuracy_score(y_test, y_pred)"
   ]
  },
  {
   "cell_type": "markdown",
   "metadata": {},
   "source": [
    "### Calculate precision and recall"
   ]
  },
  {
   "cell_type": "code",
   "execution_count": null,
   "metadata": {},
   "outputs": [],
   "source": [
    "from sklearn.metrics import precision_score, recall_score\n",
    "print('Precision is: ', precision_score(y_test, y_pred))\n",
    "print('Recall is: ', recall_score(y_test, y_pred))"
   ]
  },
  {
   "cell_type": "markdown",
   "metadata": {},
   "source": [
    "### F1 score for this model "
   ]
  },
  {
   "cell_type": "code",
   "execution_count": null,
   "metadata": {},
   "outputs": [],
   "source": [
    "from sklearn.metrics import f1_score\n",
    "print(f'F1 is: {f1_score(y_test, y_pred)}')"
   ]
  },
  {
   "cell_type": "markdown",
   "metadata": {},
   "source": [
    "*Note: the model still has a very good score*\n",
    "\n",
    "*Ideas as to why:* \n",
    "1. *Now there is enough data to train the model - ca. 16,5k positive cases + 16,5k randomly chosen negative ones*\n",
    "    * _to get learning_df closer to natural, a different method (learning for unbalanced set - ___stratified sampling___) will probably be needed_ \n",
    "2. *Still huge host and phage in-group similarity (hosts often with only a few nucleotide difference in genome) - not adressed!* \n",
    "3. *Randomly chosen 'good' negative cases?*"
   ]
  },
  {
   "cell_type": "markdown",
   "metadata": {},
   "source": [
    "# Training using cross validation"
   ]
  },
  {
   "cell_type": "code",
   "execution_count": 6,
   "metadata": {},
   "outputs": [],
   "source": [
    "# Leave one group out split\n",
    "from sklearn.model_selection import LeaveOneGroupOut\n",
    "logo = LeaveOneGroupOut()"
   ]
  },
  {
   "cell_type": "markdown",
   "metadata": {},
   "source": [
    "### Using cross_val_score function"
   ]
  },
  {
   "cell_type": "code",
   "execution_count": null,
   "metadata": {},
   "outputs": [
    {
     "name": "stdout",
     "output_type": "stream",
     "text": [
      "Mean F1 score: 0.523, stdev: (0.338)\n"
     ]
    }
   ],
   "source": [
    "# Leave one group out split\n",
    "from sklearn.model_selection import LeaveOneGroupOut\n",
    "from sklearn.model_selection import cross_val_score\n",
    "from sklearn.ensemble import RandomForestClassifier\n",
    "\n",
    "# create logo cv procedure\n",
    "logo = LeaveOneGroupOut()\n",
    "# create model\n",
    "model = RandomForestClassifier(n_estimators = 10, criterion = 'entropy', random_state=1)\n",
    "# evaluate model\n",
    "scores = cross_val_score(model, X, y, scoring='f1', cv=logo, groups=groups, n_jobs=-1)\n",
    "# report performance\n",
    "print(f'Mean F1 score: {np.mean(scores):.3f}, stdev: ({np.std(scores):.3f})')"
   ]
  },
  {
   "cell_type": "markdown",
   "metadata": {},
   "source": [
    "### Is the prediction replicable + does it work the way it's supposed to?"
   ]
  },
  {
   "cell_type": "code",
   "execution_count": 62,
   "metadata": {},
   "outputs": [],
   "source": [
    "idx = learning_df[learning_df['group_code'] == 0].index\n",
    "X_ref_train = learning_df.drop(index=idx).drop(['virus', 'host', 'group', 'group_code', 'y'], axis=1).values\n",
    "X_ref_test = learning_df.iloc[idx,:].drop(['virus', 'host', 'group', 'group_code', 'y'], axis=1).values\n",
    "y_ref_train = learning_df.drop(index=idx).iloc[:, -1]\n",
    "y_ref_test = learning_df.iloc[idx,-1]"
   ]
  },
  {
   "cell_type": "code",
   "execution_count": 64,
   "metadata": {},
   "outputs": [],
   "source": [
    "model = RandomForestClassifier(n_estimators = 10, criterion = 'entropy', random_state=1)\n",
    "model.fit(X_ref_train, y_ref_train)\n",
    "y_pred = model.predict(X_ref_test)"
   ]
  },
  {
   "cell_type": "code",
   "execution_count": 66,
   "metadata": {},
   "outputs": [
    {
     "name": "stdout",
     "output_type": "stream",
     "text": [
      "F1 is: 0.6666666666666666\n"
     ]
    }
   ],
   "source": [
    "from sklearn.metrics import f1_score\n",
    "print(f'F1 is: {f1_score(y_ref_test, y_pred)}')"
   ]
  },
  {
   "cell_type": "markdown",
   "metadata": {},
   "source": [
    "NOTE: the F1 score is the same in the results of the LeaveOneGroupOut cross validation for this group"
   ]
  },
  {
   "cell_type": "markdown",
   "metadata": {},
   "source": [
    "# TODO: implement F1 + precision/recall curves for all estimators in cross validation\n",
    "\n",
    "e.g. take estimator from cross_validate function + use from_estimator "
   ]
  },
  {
   "cell_type": "markdown",
   "metadata": {},
   "source": [
    "# Additional/old code"
   ]
  },
  {
   "cell_type": "markdown",
   "metadata": {},
   "source": [
    "Explicit tqdm handling (better visualisaition)"
   ]
  },
  {
   "cell_type": "markdown",
   "metadata": {},
   "source": [
    "*Watch out -* ***long!***\n",
    "\n",
    "*This code is for LeaveOneOut* ***only!***"
   ]
  },
  {
   "cell_type": "code",
   "execution_count": null,
   "metadata": {},
   "outputs": [
    {
     "name": "stderr",
     "output_type": "stream",
     "text": [
      "  0%|          | 48/33514 [00:25<4:59:19,  1.86it/s]"
     ]
    },
    {
     "name": "stdout",
     "output_type": "stream",
     "text": [
      "Accuracy: 0.583\n"
     ]
    },
    {
     "name": "stderr",
     "output_type": "stream",
     "text": [
      "\n"
     ]
    }
   ],
   "source": [
    "'''\n",
    "# FOR LEAVE ONE OUT ONLY!\n",
    "from sklearn.ensemble import RandomForestClassifier\n",
    "from sklearn.metrics import accuracy_score\n",
    "from tqdm import tqdm\n",
    "# enumerate splits\n",
    "y_true, y_pred = list(), list()\n",
    "pbar = tqdm(total=len(X))\n",
    "\n",
    "for train_ix, test_ix in cv.split(X):\n",
    "    # split data\n",
    "    X_train, X_test = X[train_ix, :], X[test_ix, :]\n",
    "    y_train, y_test = y[train_ix], y[test_ix]\n",
    "    # fit model\n",
    "    model = RandomForestClassifier(n_estimators = 10, criterion = 'entropy', random_state=1)\n",
    "    model.fit(X_train, y_train)\n",
    "    # evaluate model\n",
    "    yhat = model.predict(X_test)\n",
    "    # store\n",
    "    y_true.append(y_test[0])\n",
    "    y_pred.append(yhat[0])\n",
    "    pbar.update(1)\n",
    "pbar.close()\n",
    "# calculate accuracy\n",
    "acc = accuracy_score(y_true, y_pred)\n",
    "print(f'Accuracy: {acc:.3f}')\n",
    "'''"
   ]
  }
 ],
 "metadata": {
  "interpreter": {
   "hash": "b3ba2566441a7c06988d0923437866b63cedc61552a5af99d1f4fb67d367b25f"
  },
  "kernelspec": {
   "display_name": "Python 3.8.8 64-bit (conda)",
   "language": "python",
   "name": "python3"
  },
  "language_info": {
   "codemirror_mode": {
    "name": "ipython",
    "version": 3
   },
   "file_extension": ".py",
   "mimetype": "text/x-python",
   "name": "python",
   "nbconvert_exporter": "python",
   "pygments_lexer": "ipython3",
   "version": "3.8.12"
  },
  "orig_nbformat": 4
 },
 "nbformat": 4,
 "nbformat_minor": 2
}
